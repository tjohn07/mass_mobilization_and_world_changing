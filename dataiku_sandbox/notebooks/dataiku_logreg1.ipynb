{
  "metadata": {
    "kernelspec": {
      "name": "python3",
      "display_name": "Python 3",
      "language": "python"
    },
    "language_info": {
      "name": "python",
      "version": "3.6.8",
      "mimetype": "text/x-python",
      "codemirror_mode": {
        "name": "ipython",
        "version": 3
      },
      "pygments_lexer": "ipython3",
      "nbconvert_exporter": "python",
      "file_extension": ".py"
    },
    "name": "Predicting stateresponse1 in mm_wgi_fiw_prepared",
    "hide_input": false,
    "modifiedBy": "tjohn07@gmail.com"
  },
  "nbformat": 4,
  "nbformat_minor": 1,
  "cells": [
    {
      "cell_type": "markdown",
      "metadata": {},
      "source": [
        "# Predicting stateresponse1 in mm_wgi_fiw_prepared"
      ]
    },
    {
      "cell_type": "markdown",
      "metadata": {},
      "source": [
        "### Notebook automatically generated from your model"
      ]
    },
    {
      "cell_type": "markdown",
      "metadata": {},
      "source": [
        "Model Logistic Regression (s1), trained on 2022-01-02 22:05:51."
      ]
    },
    {
      "cell_type": "markdown",
      "metadata": {},
      "source": [
        "#### Generated on 2022-01-03 16:18:25.611800"
      ]
    },
    {
      "cell_type": "markdown",
      "metadata": {},
      "source": [
        "prediction\nThis notebook will reproduce the steps for a MULTICLASS on  mm_wgi_fiw_prepared.\nThe main objective is to predict the variable stateresponse1"
      ]
    },
    {
      "cell_type": "markdown",
      "metadata": {},
      "source": [
        "#### Warning"
      ]
    },
    {
      "cell_type": "markdown",
      "metadata": {},
      "source": [
        "The goal of this notebook is to provide an easily readable and explainable code that reproduces the main steps\nof training the model. It is not complete: some of the preprocessing done by the DSS visual machine learning is not\nreplicated in this notebook. This notebook will not give the same results and model performance as the DSS visual machine\nlearning model."
      ]
    },
    {
      "cell_type": "markdown",
      "metadata": {},
      "source": [
        "Let\u0027s start with importing the required libs :"
      ]
    },
    {
      "execution_count": 0,
      "cell_type": "code",
      "metadata": {},
      "source": [
        "import sys\nimport dataiku\nimport numpy as np\nimport pandas as pd\nimport sklearn as sk\nimport dataiku.core.pandasutils as pdu\nfrom dataiku.doctor.preprocessing import PCA\nfrom collections import defaultdict, Counter"
      ],
      "outputs": []
    },
    {
      "cell_type": "markdown",
      "metadata": {},
      "source": [
        "And tune pandas display options:"
      ]
    },
    {
      "execution_count": 0,
      "cell_type": "code",
      "metadata": {},
      "source": [
        "pd.set_option(\u0027display.width\u0027, 3000)\npd.set_option(\u0027display.max_rows\u0027, 200)\npd.set_option(\u0027display.max_columns\u0027, 200)"
      ],
      "outputs": []
    },
    {
      "cell_type": "markdown",
      "metadata": {},
      "source": [
        "#### Importing base data"
      ]
    },
    {
      "cell_type": "markdown",
      "metadata": {},
      "source": [
        "The first step is to get our machine learning dataset:"
      ]
    },
    {
      "execution_count": 0,
      "cell_type": "code",
      "metadata": {},
      "source": [
        "# We apply the preparation that you defined. You should not modify this.\npreparation_steps \u003d []\npreparation_output_schema \u003d {\u0027columns\u0027: [{\u0027name\u0027: \u0027country_name\u0027, \u0027type\u0027: \u0027string\u0027}, {\u0027name\u0027: \u0027year\u0027, \u0027type\u0027: \u0027bigint\u0027}, {\u0027name\u0027: \u0027ccode\u0027, \u0027type\u0027: \u0027bigint\u0027}, {\u0027name\u0027: \u0027region\u0027, \u0027type\u0027: \u0027string\u0027}, {\u0027name\u0027: \u0027protest\u0027, \u0027type\u0027: \u0027bigint\u0027}, {\u0027name\u0027: \u0027protestnumber\u0027, \u0027type\u0027: \u0027bigint\u0027}, {\u0027name\u0027: \u0027protesterviolence\u0027, \u0027type\u0027: \u0027bigint\u0027}, {\u0027name\u0027: \u0027participants_category\u0027, \u0027type\u0027: \u0027bigint\u0027}, {\u0027name\u0027: \u0027stateresponse1\u0027, \u0027type\u0027: \u0027string\u0027}, {\u0027name\u0027: \u0027start_date\u0027, \u0027type\u0027: \u0027string\u0027}, {\u0027name\u0027: \u0027start_date_parsed\u0027, \u0027type\u0027: \u0027date\u0027}, {\u0027name\u0027: \u0027end_date\u0027, \u0027type\u0027: \u0027string\u0027}, {\u0027name\u0027: \u0027end_date_parsed\u0027, \u0027type\u0027: \u0027date\u0027}, {\u0027name\u0027: \u0027duration_int\u0027, \u0027type\u0027: \u0027bigint\u0027}, {\u0027name\u0027: \u0027labor wage dispute\u0027, \u0027type\u0027: \u0027bigint\u0027}, {\u0027name\u0027: \u0027land farm issue\u0027, \u0027type\u0027: \u0027bigint\u0027}, {\u0027name\u0027: \u0027police brutality\u0027, \u0027type\u0027: \u0027bigint\u0027}, {\u0027name\u0027: \u0027political behavior, process\u0027, \u0027type\u0027: \u0027bigint\u0027}, {\u0027name\u0027: \u0027price increases, tax policy\u0027, \u0027type\u0027: \u0027bigint\u0027}, {\u0027name\u0027: \u0027removal of politician\u0027, \u0027type\u0027: \u0027bigint\u0027}, {\u0027name\u0027: \u0027social restrictions\u0027, \u0027type\u0027: \u0027bigint\u0027}, {\u0027name\u0027: \u0027CC.EST\u0027, \u0027type\u0027: \u0027double\u0027}, {\u0027name\u0027: \u0027GE.EST\u0027, \u0027type\u0027: \u0027double\u0027}, {\u0027name\u0027: \u0027PV.NO.SRC\u0027, \u0027type\u0027: \u0027double\u0027}, {\u0027name\u0027: \u0027RL.EST\u0027, \u0027type\u0027: \u0027double\u0027}, {\u0027name\u0027: \u0027VA.EST\u0027, \u0027type\u0027: \u0027double\u0027}, {\u0027name\u0027: \u0027fiw_status\u0027, \u0027type\u0027: \u0027string\u0027}], \u0027userModified\u0027: False}\n\nml_dataset_handle \u003d dataiku.Dataset(\u0027mm_wgi_fiw_prepared\u0027)\nml_dataset_handle.set_preparation_steps(preparation_steps, preparation_output_schema)\n%time ml_dataset \u003d ml_dataset_handle.get_dataframe(limit \u003d 100000)\n\nprint (\u0027Base data has %i rows and %i columns\u0027 % (ml_dataset.shape[0], ml_dataset.shape[1]))\n# Five first records\",\nml_dataset.head(5)"
      ],
      "outputs": []
    },
    {
      "cell_type": "markdown",
      "metadata": {},
      "source": [
        "#### Initial data management"
      ]
    },
    {
      "cell_type": "markdown",
      "metadata": {},
      "source": [
        "The preprocessing aims at making the dataset compatible with modeling.\nAt the end of this step, we will have a matrix of float numbers, with no missing values.\nWe\u0027ll use the features and the preprocessing steps defined in Models.\n\nLet\u0027s only keep selected features"
      ]
    },
    {
      "execution_count": 0,
      "cell_type": "code",
      "metadata": {},
      "source": [
        "ml_dataset \u003d ml_dataset[[\u0027end_date\u0027, \u0027RL.EST\u0027, \u0027CC.EST\u0027, \u0027fiw_status\u0027, \u0027year\u0027, \u0027end_date_parsed\u0027, \u0027stateresponse1\u0027, \u0027removal of politician\u0027, \u0027social restrictions\u0027, \u0027VA.EST\u0027, \u0027price increases, tax policy\u0027, \u0027PV.NO.SRC\u0027, \u0027start_date_parsed\u0027, \u0027country_name\u0027, \u0027police brutality\u0027, \u0027GE.EST\u0027, \u0027start_date\u0027, \u0027labor wage dispute\u0027, \u0027participants_category\u0027, \u0027duration_int\u0027, \u0027ccode\u0027, \u0027political behavior, process\u0027, \u0027protesterviolence\u0027, \u0027protestnumber\u0027, \u0027region\u0027, \u0027land farm issue\u0027]]"
      ],
      "outputs": []
    },
    {
      "cell_type": "markdown",
      "metadata": {},
      "source": [
        "Let\u0027s first coerce categorical columns into unicode, numerical features into floats."
      ]
    },
    {
      "execution_count": 0,
      "cell_type": "code",
      "metadata": {},
      "source": [
        "# astype(\u0027unicode\u0027) does not work as expected\n\ndef coerce_to_unicode(x):\n    if sys.version_info \u003c (3, 0):\n        if isinstance(x, str):\n            return unicode(x,\u0027utf-8\u0027)\n        else:\n            return unicode(x)\n    else:\n        return str(x)\n\n\ncategorical_features \u003d [\u0027end_date\u0027, \u0027fiw_status\u0027, \u0027country_name\u0027, \u0027start_date\u0027, \u0027region\u0027]\nnumerical_features \u003d [\u0027RL.EST\u0027, \u0027CC.EST\u0027, \u0027year\u0027, \u0027end_date_parsed\u0027, \u0027removal of politician\u0027, \u0027social restrictions\u0027, \u0027VA.EST\u0027, \u0027price increases, tax policy\u0027, \u0027PV.NO.SRC\u0027, \u0027start_date_parsed\u0027, \u0027police brutality\u0027, \u0027GE.EST\u0027, \u0027labor wage dispute\u0027, \u0027participants_category\u0027, \u0027duration_int\u0027, \u0027ccode\u0027, \u0027political behavior, process\u0027, \u0027protesterviolence\u0027, \u0027protestnumber\u0027, \u0027land farm issue\u0027]\ntext_features \u003d []\nfrom dataiku.doctor.utils import datetime_to_epoch\nfor feature in categorical_features:\n    ml_dataset[feature] \u003d ml_dataset[feature].apply(coerce_to_unicode)\nfor feature in text_features:\n    ml_dataset[feature] \u003d ml_dataset[feature].apply(coerce_to_unicode)\nfor feature in numerical_features:\n    if ml_dataset[feature].dtype \u003d\u003d np.dtype(\u0027M8[ns]\u0027) or (hasattr(ml_dataset[feature].dtype, \u0027base\u0027) and ml_dataset[feature].dtype.base \u003d\u003d np.dtype(\u0027M8[ns]\u0027)):\n        ml_dataset[feature] \u003d datetime_to_epoch(ml_dataset[feature])\n    else:\n        ml_dataset[feature] \u003d ml_dataset[feature].astype(\u0027double\u0027)"
      ],
      "outputs": []
    },
    {
      "cell_type": "markdown",
      "metadata": {},
      "source": [
        "We are now going to handle the target variable and store it in a new variable:"
      ]
    },
    {
      "execution_count": 0,
      "cell_type": "code",
      "metadata": {},
      "source": [
        "target_map \u003d {\u0027ignore\u0027: 0, \u0027crowd dispersal\u0027: 1, \u0027arrests\u0027: 2, \u0027accomodation\u0027: 3, \u0027shootings\u0027: 4, \u0027killings\u0027: 5, \u0027beatings\u0027: 6, \u0027unknown\u0027: 7}\nml_dataset[\u0027__target__\u0027] \u003d ml_dataset[\u0027stateresponse1\u0027].map(str).map(target_map)\ndel ml_dataset[\u0027stateresponse1\u0027]\n\n\n# Remove rows for which the target is unknown.\nml_dataset \u003d ml_dataset[~ml_dataset[\u0027__target__\u0027].isnull()]\n\nml_dataset[\u0027__target__\u0027] \u003d ml_dataset[\u0027__target__\u0027].astype(np.int64)"
      ],
      "outputs": []
    },
    {
      "cell_type": "markdown",
      "metadata": {},
      "source": [
        "#### Cross-validation strategy"
      ]
    },
    {
      "cell_type": "markdown",
      "metadata": {},
      "source": [
        "The dataset needs to be split into 2 new sets, one that will be used for training the model (train set)\nand another that will be used to test its generalization capability (test set)"
      ]
    },
    {
      "cell_type": "markdown",
      "metadata": {},
      "source": [
        "This is a simple cross-validation strategy."
      ]
    },
    {
      "execution_count": 0,
      "cell_type": "code",
      "metadata": {},
      "source": [
        "train, test \u003d pdu.split_train_valid(ml_dataset, prop\u003d0.8)\nprint (\u0027Train data has %i rows and %i columns\u0027 % (train.shape[0], train.shape[1]))\nprint (\u0027Test data has %i rows and %i columns\u0027 % (test.shape[0], test.shape[1]))"
      ],
      "outputs": []
    },
    {
      "cell_type": "markdown",
      "metadata": {},
      "source": [
        "#### Features preprocessing"
      ]
    },
    {
      "cell_type": "markdown",
      "metadata": {},
      "source": [
        "The first thing to do at the features level is to handle the missing values.\nLet\u0027s reuse the settings defined in the model"
      ]
    },
    {
      "execution_count": 0,
      "cell_type": "code",
      "metadata": {},
      "source": [
        "drop_rows_when_missing \u003d [\u0027end_date_parsed\u0027, \u0027start_date_parsed\u0027]\nimpute_when_missing \u003d [{\u0027feature\u0027: \u0027RL.EST\u0027, \u0027impute_with\u0027: \u0027MEAN\u0027}, {\u0027feature\u0027: \u0027CC.EST\u0027, \u0027impute_with\u0027: \u0027MEAN\u0027}, {\u0027feature\u0027: \u0027year\u0027, \u0027impute_with\u0027: \u0027MEAN\u0027}, {\u0027feature\u0027: \u0027removal of politician\u0027, \u0027impute_with\u0027: \u0027MEAN\u0027}, {\u0027feature\u0027: \u0027social restrictions\u0027, \u0027impute_with\u0027: \u0027MEAN\u0027}, {\u0027feature\u0027: \u0027VA.EST\u0027, \u0027impute_with\u0027: \u0027MEAN\u0027}, {\u0027feature\u0027: \u0027price increases, tax policy\u0027, \u0027impute_with\u0027: \u0027MEAN\u0027}, {\u0027feature\u0027: \u0027PV.NO.SRC\u0027, \u0027impute_with\u0027: \u0027MEAN\u0027}, {\u0027feature\u0027: \u0027police brutality\u0027, \u0027impute_with\u0027: \u0027MEAN\u0027}, {\u0027feature\u0027: \u0027GE.EST\u0027, \u0027impute_with\u0027: \u0027MEAN\u0027}, {\u0027feature\u0027: \u0027labor wage dispute\u0027, \u0027impute_with\u0027: \u0027MEAN\u0027}, {\u0027feature\u0027: \u0027participants_category\u0027, \u0027impute_with\u0027: \u0027MEAN\u0027}, {\u0027feature\u0027: \u0027duration_int\u0027, \u0027impute_with\u0027: \u0027MEAN\u0027}, {\u0027feature\u0027: \u0027ccode\u0027, \u0027impute_with\u0027: \u0027MEAN\u0027}, {\u0027feature\u0027: \u0027political behavior, process\u0027, \u0027impute_with\u0027: \u0027MEAN\u0027}, {\u0027feature\u0027: \u0027protesterviolence\u0027, \u0027impute_with\u0027: \u0027MEAN\u0027}, {\u0027feature\u0027: \u0027protestnumber\u0027, \u0027impute_with\u0027: \u0027MEAN\u0027}, {\u0027feature\u0027: \u0027land farm issue\u0027, \u0027impute_with\u0027: \u0027MEAN\u0027}]\n\n# Features for which we drop rows with missing values\"\nfor feature in drop_rows_when_missing:\n    train \u003d train[train[feature].notnull()]\n    test \u003d test[test[feature].notnull()]\n    print (\u0027Dropped missing records in %s\u0027 % feature)\n\n# Features for which we impute missing values\"\nfor feature in impute_when_missing:\n    if feature[\u0027impute_with\u0027] \u003d\u003d \u0027MEAN\u0027:\n        v \u003d train[feature[\u0027feature\u0027]].mean()\n    elif feature[\u0027impute_with\u0027] \u003d\u003d \u0027MEDIAN\u0027:\n        v \u003d train[feature[\u0027feature\u0027]].median()\n    elif feature[\u0027impute_with\u0027] \u003d\u003d \u0027CREATE_CATEGORY\u0027:\n        v \u003d \u0027NULL_CATEGORY\u0027\n    elif feature[\u0027impute_with\u0027] \u003d\u003d \u0027MODE\u0027:\n        v \u003d train[feature[\u0027feature\u0027]].value_counts().index[0]\n    elif feature[\u0027impute_with\u0027] \u003d\u003d \u0027CONSTANT\u0027:\n        v \u003d feature[\u0027value\u0027]\n    train[feature[\u0027feature\u0027]] \u003d train[feature[\u0027feature\u0027]].fillna(v)\n    test[feature[\u0027feature\u0027]] \u003d test[feature[\u0027feature\u0027]].fillna(v)\n    print (\u0027Imputed missing values in feature %s with value %s\u0027 % (feature[\u0027feature\u0027], coerce_to_unicode(v)))"
      ],
      "outputs": []
    },
    {
      "cell_type": "markdown",
      "metadata": {},
      "source": [
        "We can now handle the categorical features (still using the settings defined in Models):"
      ]
    },
    {
      "cell_type": "markdown",
      "metadata": {},
      "source": [
        "Let\u0027s dummy-encode the following features.\nA binary column is created for each of the 100 most frequent values."
      ]
    },
    {
      "execution_count": 0,
      "cell_type": "code",
      "metadata": {},
      "source": [
        "LIMIT_DUMMIES \u003d 100\n\ncategorical_to_dummy_encode \u003d [\u0027end_date\u0027, \u0027fiw_status\u0027, \u0027country_name\u0027, \u0027start_date\u0027, \u0027region\u0027]\n\n# Only keep the top 100 values\ndef select_dummy_values(train, features):\n    dummy_values \u003d {}\n    for feature in categorical_to_dummy_encode:\n        values \u003d [\n            value\n            for (value, _) in Counter(train[feature]).most_common(LIMIT_DUMMIES)\n        ]\n        dummy_values[feature] \u003d values\n    return dummy_values\n\nDUMMY_VALUES \u003d select_dummy_values(train, categorical_to_dummy_encode)\n\ndef dummy_encode_dataframe(df):\n    for (feature, dummy_values) in DUMMY_VALUES.items():\n        for dummy_value in dummy_values:\n            dummy_name \u003d u\u0027%s_value_%s\u0027 % (feature, coerce_to_unicode(dummy_value))\n            df[dummy_name] \u003d (df[feature] \u003d\u003d dummy_value).astype(float)\n        del df[feature]\n        print (\u0027Dummy-encoded feature %s\u0027 % feature)\n\ndummy_encode_dataframe(train)\n\ndummy_encode_dataframe(test)"
      ],
      "outputs": []
    },
    {
      "cell_type": "markdown",
      "metadata": {},
      "source": [
        "Let\u0027s rescale numerical features"
      ]
    },
    {
      "execution_count": 0,
      "cell_type": "code",
      "metadata": {},
      "source": [
        "rescale_features \u003d {\u0027RL.EST\u0027: \u0027AVGSTD\u0027, \u0027CC.EST\u0027: \u0027AVGSTD\u0027, \u0027year\u0027: \u0027AVGSTD\u0027, \u0027end_date_parsed\u0027: \u0027AVGSTD\u0027, \u0027removal of politician\u0027: \u0027AVGSTD\u0027, \u0027social restrictions\u0027: \u0027AVGSTD\u0027, \u0027VA.EST\u0027: \u0027AVGSTD\u0027, \u0027price increases, tax policy\u0027: \u0027AVGSTD\u0027, \u0027PV.NO.SRC\u0027: \u0027AVGSTD\u0027, \u0027start_date_parsed\u0027: \u0027AVGSTD\u0027, \u0027police brutality\u0027: \u0027AVGSTD\u0027, \u0027GE.EST\u0027: \u0027AVGSTD\u0027, \u0027labor wage dispute\u0027: \u0027AVGSTD\u0027, \u0027participants_category\u0027: \u0027AVGSTD\u0027, \u0027duration_int\u0027: \u0027AVGSTD\u0027, \u0027ccode\u0027: \u0027AVGSTD\u0027, \u0027political behavior, process\u0027: \u0027AVGSTD\u0027, \u0027protesterviolence\u0027: \u0027AVGSTD\u0027, \u0027protestnumber\u0027: \u0027AVGSTD\u0027, \u0027land farm issue\u0027: \u0027AVGSTD\u0027}\nfor (feature_name, rescale_method) in rescale_features.items():\n    if rescale_method \u003d\u003d \u0027MINMAX\u0027:\n        _min \u003d train[feature_name].min()\n        _max \u003d train[feature_name].max()\n        scale \u003d _max - _min\n        shift \u003d _min\n    else:\n        shift \u003d train[feature_name].mean()\n        scale \u003d train[feature_name].std()\n    if scale \u003d\u003d 0.:\n        del train[feature_name]\n        del test[feature_name]\n        print (\u0027Feature %s was dropped because it has no variance\u0027 % feature_name)\n    else:\n        print (\u0027Rescaled %s\u0027 % feature_name)\n        train[feature_name] \u003d (train[feature_name] - shift).astype(np.float64) / scale\n        test[feature_name] \u003d (test[feature_name] - shift).astype(np.float64) / scale"
      ],
      "outputs": []
    },
    {
      "cell_type": "markdown",
      "metadata": {},
      "source": [
        "#### Modeling"
      ]
    },
    {
      "cell_type": "markdown",
      "metadata": {},
      "source": [
        "Before actually creating our model, we need to split the datasets into their features and labels parts:"
      ]
    },
    {
      "execution_count": 0,
      "cell_type": "code",
      "metadata": {},
      "source": [
        "X_train \u003d train.drop(\u0027__target__\u0027, axis\u003d1)\nX_test \u003d test.drop(\u0027__target__\u0027, axis\u003d1)\n\ny_train \u003d np.array(train[\u0027__target__\u0027])\ny_test \u003d np.array(test[\u0027__target__\u0027])"
      ],
      "outputs": []
    },
    {
      "cell_type": "markdown",
      "metadata": {},
      "source": [
        "Now we can finally create our model!"
      ]
    },
    {
      "execution_count": 0,
      "cell_type": "code",
      "metadata": {},
      "source": [
        "from sklearn.linear_model import LogisticRegression\nclf \u003d LogisticRegression(penalty\u003d\"l1\",random_state\u003d1337)"
      ],
      "outputs": []
    },
    {
      "cell_type": "markdown",
      "metadata": {},
      "source": [
        "We set \"class_weight\" as the weighting strategy:"
      ]
    },
    {
      "execution_count": 0,
      "cell_type": "code",
      "metadata": {},
      "source": [
        "clf.class_weight \u003d \"balanced\""
      ],
      "outputs": []
    },
    {
      "cell_type": "markdown",
      "metadata": {},
      "source": [
        "... And train the model"
      ]
    },
    {
      "execution_count": 0,
      "cell_type": "code",
      "metadata": {},
      "source": [
        "%time clf.fit(X_train, y_train)"
      ],
      "outputs": []
    },
    {
      "cell_type": "markdown",
      "metadata": {},
      "source": [
        "Build up our result dataset"
      ]
    },
    {
      "cell_type": "markdown",
      "metadata": {},
      "source": [
        "The model is now trained, we can apply it to our test set:"
      ]
    },
    {
      "execution_count": 0,
      "cell_type": "code",
      "metadata": {},
      "source": [
        "%time _predictions \u003d clf.predict(X_test)\n%time _probas \u003d clf.predict_proba(X_test)\npredictions \u003d pd.Series(data\u003d_predictions, index\u003dX_test.index, name\u003d\u0027predicted_value\u0027)\ncols \u003d [\n    u\u0027probability_of_value_%s\u0027 % label\n    for (_, label) in sorted([(int(target_map[label]), label) for label in target_map])\n]\nprobabilities \u003d pd.DataFrame(data\u003d_probas, index\u003dX_test.index, columns\u003dcols)\n\n# Build scored dataset\nresults_test \u003d X_test.join(predictions, how\u003d\u0027left\u0027)\nresults_test \u003d results_test.join(probabilities, how\u003d\u0027left\u0027)\nresults_test \u003d results_test.join(test[\u0027__target__\u0027], how\u003d\u0027left\u0027)\nresults_test \u003d results_test.rename(columns\u003d {\u0027__target__\u0027: \u0027stateresponse1\u0027})"
      ],
      "outputs": []
    },
    {
      "cell_type": "markdown",
      "metadata": {},
      "source": [
        "#### Results"
      ]
    },
    {
      "cell_type": "markdown",
      "metadata": {},
      "source": [
        "You can measure the model\u0027s accuracy:"
      ]
    },
    {
      "execution_count": 0,
      "cell_type": "code",
      "metadata": {},
      "source": [
        "from dataiku.doctor.utils.metrics import mroc_auc_score\ny_test_ser \u003d pd.Series(y_test)\n \nprint (\u0027AUC value:\u0027, mroc_auc_score(y_test_ser, _probas))"
      ],
      "outputs": []
    },
    {
      "cell_type": "markdown",
      "metadata": {},
      "source": [
        "We can also view the predictions directly.\nSince scikit-learn only predicts numericals, the labels have been mapped to 0,1,2 ...\nWe need to \u0027reverse\u0027 the mapping to display the initial labels."
      ]
    },
    {
      "execution_count": 0,
      "cell_type": "code",
      "metadata": {},
      "source": [
        "inv_map \u003d { target_map[label] : label for label in target_map}\npredictions.map(inv_map)"
      ],
      "outputs": []
    },
    {
      "cell_type": "markdown",
      "metadata": {},
      "source": [
        "That\u0027s it. It\u0027s now up to you to tune your preprocessing, your algo, and your analysis !\n"
      ]
    }
  ]
}