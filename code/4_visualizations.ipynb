{
 "cells": [
  {
   "cell_type": "code",
   "execution_count": 1,
   "id": "546868ef",
   "metadata": {},
   "outputs": [],
   "source": [
    "import pandas as pd\n",
    "import numpy as np\n",
    "import matplotlib.pyplot as plt\n",
    "import seaborn as sns\n",
    "import plotly\n",
    "# import dash\n",
    "import plotly.graph_objs as go\n",
    "# code to set option to display all columns taken from this article: https://towardsdatascience.com/how-to-show-all-columns-rows-of-a-pandas-dataframe-c49d4507fcf\n",
    "pd.set_option('display.max_columns', None)"
   ]
  },
  {
   "cell_type": "code",
   "execution_count": 199,
   "id": "62c66d0e",
   "metadata": {},
   "outputs": [],
   "source": [
    "df = pd.read_csv('./data/transformed/mm_wgi_fiw.csv')"
   ]
  },
  {
   "cell_type": "code",
   "execution_count": 200,
   "id": "49631b46-993c-48a9-8491-12a54413ef27",
   "metadata": {},
   "outputs": [
    {
     "data": {
      "text/plain": [
       "Index(['country_name', 'ccode', 'year', 'region', 'protest', 'protestnumber',\n",
       "       'protesterviolence', 'participants_category', 'stateresponse1',\n",
       "       'start_date', 'end_date', 'duration', 'duration_int',\n",
       "       'labor wage dispute', 'land farm issue', 'police brutality',\n",
       "       'political behavior, process', 'price increases, tax policy',\n",
       "       'removal of politician', 'social restrictions', 'CC.EST', 'GE.EST',\n",
       "       'PV.NO.SRC', 'RL.EST', 'VA.EST', 'fiw_status'],\n",
       "      dtype='object')"
      ]
     },
     "execution_count": 200,
     "metadata": {},
     "output_type": "execute_result"
    }
   ],
   "source": [
    "df.columns"
   ]
  },
  {
   "cell_type": "code",
   "execution_count": 201,
   "id": "85a4d904-17a6-4a90-9909-3ebd4c863925",
   "metadata": {},
   "outputs": [
    {
     "name": "stderr",
     "output_type": "stream",
     "text": [
      "<ipython-input-201-fa79bfffd88f>:1: FutureWarning:\n",
      "\n",
      "Indexing with multiple keys (implicitly converted to a tuple of keys) will be deprecated, use a list instead.\n",
      "\n"
     ]
    }
   ],
   "source": [
    "response_by_demand = df.groupby(by = 'stateresponse1')['labor wage dispute',\n",
    "'land farm issue', 'police brutality', 'political behavior, process',\n",
    "'price increases, tax policy', 'removal of politician',\n",
    "'social restrictions'].sum()"
   ]
  },
  {
   "cell_type": "code",
   "execution_count": 202,
   "id": "5273f9e2-5108-4073-97f0-14e65a8f2583",
   "metadata": {},
   "outputs": [
    {
     "data": {
      "text/html": [
       "<div>\n",
       "<style scoped>\n",
       "    .dataframe tbody tr th:only-of-type {\n",
       "        vertical-align: middle;\n",
       "    }\n",
       "\n",
       "    .dataframe tbody tr th {\n",
       "        vertical-align: top;\n",
       "    }\n",
       "\n",
       "    .dataframe thead th {\n",
       "        text-align: right;\n",
       "    }\n",
       "</style>\n",
       "<table border=\"1\" class=\"dataframe\">\n",
       "  <thead>\n",
       "    <tr style=\"text-align: right;\">\n",
       "      <th></th>\n",
       "      <th>labor wage dispute</th>\n",
       "      <th>land farm issue</th>\n",
       "      <th>police brutality</th>\n",
       "      <th>political behavior, process</th>\n",
       "      <th>price increases, tax policy</th>\n",
       "      <th>removal of politician</th>\n",
       "      <th>social restrictions</th>\n",
       "    </tr>\n",
       "    <tr>\n",
       "      <th>stateresponse1</th>\n",
       "      <th></th>\n",
       "      <th></th>\n",
       "      <th></th>\n",
       "      <th></th>\n",
       "      <th></th>\n",
       "      <th></th>\n",
       "      <th></th>\n",
       "    </tr>\n",
       "  </thead>\n",
       "  <tbody>\n",
       "    <tr>\n",
       "      <th>0</th>\n",
       "      <td>102</td>\n",
       "      <td>39</td>\n",
       "      <td>31</td>\n",
       "      <td>267</td>\n",
       "      <td>59</td>\n",
       "      <td>88</td>\n",
       "      <td>25</td>\n",
       "    </tr>\n",
       "    <tr>\n",
       "      <th>1</th>\n",
       "      <td>40</td>\n",
       "      <td>24</td>\n",
       "      <td>41</td>\n",
       "      <td>431</td>\n",
       "      <td>54</td>\n",
       "      <td>51</td>\n",
       "      <td>27</td>\n",
       "    </tr>\n",
       "    <tr>\n",
       "      <th>2</th>\n",
       "      <td>11</td>\n",
       "      <td>6</td>\n",
       "      <td>10</td>\n",
       "      <td>62</td>\n",
       "      <td>8</td>\n",
       "      <td>12</td>\n",
       "      <td>6</td>\n",
       "    </tr>\n",
       "    <tr>\n",
       "      <th>3</th>\n",
       "      <td>299</td>\n",
       "      <td>113</td>\n",
       "      <td>279</td>\n",
       "      <td>1790</td>\n",
       "      <td>251</td>\n",
       "      <td>520</td>\n",
       "      <td>78</td>\n",
       "    </tr>\n",
       "    <tr>\n",
       "      <th>4</th>\n",
       "      <td>631</td>\n",
       "      <td>215</td>\n",
       "      <td>272</td>\n",
       "      <td>3191</td>\n",
       "      <td>364</td>\n",
       "      <td>574</td>\n",
       "      <td>297</td>\n",
       "    </tr>\n",
       "    <tr>\n",
       "      <th>5</th>\n",
       "      <td>2</td>\n",
       "      <td>6</td>\n",
       "      <td>16</td>\n",
       "      <td>83</td>\n",
       "      <td>11</td>\n",
       "      <td>15</td>\n",
       "      <td>9</td>\n",
       "    </tr>\n",
       "    <tr>\n",
       "      <th>6</th>\n",
       "      <td>15</td>\n",
       "      <td>6</td>\n",
       "      <td>37</td>\n",
       "      <td>162</td>\n",
       "      <td>20</td>\n",
       "      <td>50</td>\n",
       "      <td>3</td>\n",
       "    </tr>\n",
       "    <tr>\n",
       "      <th>7</th>\n",
       "      <td>5</td>\n",
       "      <td>1</td>\n",
       "      <td>1</td>\n",
       "      <td>7</td>\n",
       "      <td>2</td>\n",
       "      <td>2</td>\n",
       "      <td>2</td>\n",
       "    </tr>\n",
       "  </tbody>\n",
       "</table>\n",
       "</div>"
      ],
      "text/plain": [
       "                labor wage dispute  land farm issue  police brutality  \\\n",
       "stateresponse1                                                          \n",
       "0                              102               39                31   \n",
       "1                               40               24                41   \n",
       "2                               11                6                10   \n",
       "3                              299              113               279   \n",
       "4                              631              215               272   \n",
       "5                                2                6                16   \n",
       "6                               15                6                37   \n",
       "7                                5                1                 1   \n",
       "\n",
       "                political behavior, process  price increases, tax policy  \\\n",
       "stateresponse1                                                             \n",
       "0                                       267                           59   \n",
       "1                                       431                           54   \n",
       "2                                        62                            8   \n",
       "3                                      1790                          251   \n",
       "4                                      3191                          364   \n",
       "5                                        83                           11   \n",
       "6                                       162                           20   \n",
       "7                                         7                            2   \n",
       "\n",
       "                removal of politician  social restrictions  \n",
       "stateresponse1                                              \n",
       "0                                  88                   25  \n",
       "1                                  51                   27  \n",
       "2                                  12                    6  \n",
       "3                                 520                   78  \n",
       "4                                 574                  297  \n",
       "5                                  15                    9  \n",
       "6                                  50                    3  \n",
       "7                                   2                    2  "
      ]
     },
     "execution_count": 202,
     "metadata": {},
     "output_type": "execute_result"
    }
   ],
   "source": [
    "response_by_demand"
   ]
  },
  {
   "cell_type": "code",
   "execution_count": 203,
   "id": "30e3ddc8-be4e-4ce4-999a-c65c2ef958b8",
   "metadata": {},
   "outputs": [],
   "source": [
    "def barplot_reponse_by_demand(df, demand):\n",
    "    response_by_demand = df.groupby(by = 'stateresponse1')['labor wage dispute',\n",
    "   'land farm issue', 'police brutality', 'political behavior, process',\n",
    "   'price increases, tax policy', 'removal of politician',\n",
    "   'social restrictions'].sum()\n",
    "    plt.figure(figsize=(10,6))\n",
    "    sns.barplot(x = response_by_demand.index, y= response_by_demand[demand])\n",
    "    plt.title(f'State Response: {demand}', fontsize=16)\n",
    "    plt.xticks(rotation=20, fontsize=11)\n",
    "    plt.xlabel('State Response', fontsize=12)\n",
    "    plt.ylabel('Protest Count', fontsize=12)"
   ]
  },
  {
   "cell_type": "code",
   "execution_count": 204,
   "id": "344066be-0671-42e2-b7ac-6464635fa3e0",
   "metadata": {},
   "outputs": [
    {
     "name": "stderr",
     "output_type": "stream",
     "text": [
      "<ipython-input-203-3651a2941c3c>:2: FutureWarning:\n",
      "\n",
      "Indexing with multiple keys (implicitly converted to a tuple of keys) will be deprecated, use a list instead.\n",
      "\n"
     ]
    },
    {
     "data": {
      "image/png": "[encoded data removed]",
      "text/plain": [
       "<Figure size 720x432 with 1 Axes>"
      ]
     },
     "metadata": {
      "needs_background": "light"
     },
     "output_type": "display_data"
    }
   ],
   "source": [
    "barplot_reponse_by_demand(df,'labor wage dispute')"
   ]
  },
  {
   "cell_type": "code",
   "execution_count": 205,
   "id": "223f4a27-72de-4a38-bbf3-0b1b3a53ce35",
   "metadata": {},
   "outputs": [
    {
     "name": "stderr",
     "output_type": "stream",
     "text": [
      "<ipython-input-203-3651a2941c3c>:2: FutureWarning:\n",
      "\n",
      "Indexing with multiple keys (implicitly converted to a tuple of keys) will be deprecated, use a list instead.\n",
      "\n"
     ]
    },
    {
     "data": {
      "image/png": "[encoded data removed]",
      "text/plain": [
       "<Figure size 720x432 with 1 Axes>"
      ]
     },
     "metadata": {
      "needs_background": "light"
     },
     "output_type": "display_data"
    }
   ],
   "source": [
    "barplot_reponse_by_demand(response_by_demand,'police brutality')"
   ]
  },
  {
   "cell_type": "code",
   "execution_count": 206,
   "id": "e20c6ccd-a711-40d9-8672-6ab5fc0b1633",
   "metadata": {},
   "outputs": [
    {
     "name": "stderr",
     "output_type": "stream",
     "text": [
      "<ipython-input-203-3651a2941c3c>:2: FutureWarning:\n",
      "\n",
      "Indexing with multiple keys (implicitly converted to a tuple of keys) will be deprecated, use a list instead.\n",
      "\n"
     ]
    },
    {
     "data": {
      "image/png": "[encoded data removed]",
      "text/plain": [
       "<Figure size 720x432 with 1 Axes>"
      ]
     },
     "metadata": {
      "needs_background": "light"
     },
     "output_type": "display_data"
    }
   ],
   "source": [
    "barplot_reponse_by_demand(response_by_demand,'police brutality')"
   ]
  },
  {
   "cell_type": "code",
   "execution_count": 207,
   "id": "399a3b03-ceca-49b4-921d-990276d1ded2",
   "metadata": {},
   "outputs": [
    {
     "name": "stderr",
     "output_type": "stream",
     "text": [
      "<ipython-input-203-3651a2941c3c>:2: FutureWarning:\n",
      "\n",
      "Indexing with multiple keys (implicitly converted to a tuple of keys) will be deprecated, use a list instead.\n",
      "\n"
     ]
    },
    {
     "data": {
      "image/png": "[encoded data removed]",
      "text/plain": [
       "<Figure size 720x432 with 1 Axes>"
      ]
     },
     "metadata": {
      "needs_background": "light"
     },
     "output_type": "display_data"
    }
   ],
   "source": [
    "barplot_reponse_by_demand(response_by_demand,'political behavior, process')"
   ]
  },
  {
   "cell_type": "code",
   "execution_count": 208,
   "id": "46baba9d-ec2e-4618-81fd-22f71fbf940a",
   "metadata": {},
   "outputs": [
    {
     "name": "stderr",
     "output_type": "stream",
     "text": [
      "<ipython-input-203-3651a2941c3c>:2: FutureWarning:\n",
      "\n",
      "Indexing with multiple keys (implicitly converted to a tuple of keys) will be deprecated, use a list instead.\n",
      "\n"
     ]
    },
    {
     "data": {
      "image/png": "[encoded data removed]",
      "text/plain": [
       "<Figure size 720x432 with 1 Axes>"
      ]
     },
     "metadata": {
      "needs_background": "light"
     },
     "output_type": "display_data"
    }
   ],
   "source": [
    "barplot_reponse_by_demand(response_by_demand,'price increases, tax policy')"
   ]
  },
  {
   "cell_type": "code",
   "execution_count": 209,
   "id": "847948be-8047-4714-acbf-d670b02f2048",
   "metadata": {},
   "outputs": [
    {
     "name": "stderr",
     "output_type": "stream",
     "text": [
      "<ipython-input-203-3651a2941c3c>:2: FutureWarning:\n",
      "\n",
      "Indexing with multiple keys (implicitly converted to a tuple of keys) will be deprecated, use a list instead.\n",
      "\n"
     ]
    },
    {
     "data": {
      "image/png": "[encoded data removed]",
      "text/plain": [
       "<Figure size 720x432 with 1 Axes>"
      ]
     },
     "metadata": {
      "needs_background": "light"
     },
     "output_type": "display_data"
    }
   ],
   "source": [
    "barplot_reponse_by_demand(response_by_demand,'removal of politician')"
   ]
  },
  {
   "cell_type": "code",
   "execution_count": 210,
   "id": "ec0514ad-23f0-4368-95f8-998cd7ea4d68",
   "metadata": {},
   "outputs": [
    {
     "name": "stderr",
     "output_type": "stream",
     "text": [
      "<ipython-input-203-3651a2941c3c>:2: FutureWarning:\n",
      "\n",
      "Indexing with multiple keys (implicitly converted to a tuple of keys) will be deprecated, use a list instead.\n",
      "\n"
     ]
    },
    {
     "data": {
      "image/png": "[encoded data removed]",
      "text/plain": [
       "<Figure size 720x432 with 1 Axes>"
      ]
     },
     "metadata": {
      "needs_background": "light"
     },
     "output_type": "display_data"
    }
   ],
   "source": [
    "barplot_reponse_by_demand(response_by_demand,'social restrictions')"
   ]
  },
  {
   "cell_type": "code",
   "execution_count": 211,
   "id": "98064801-233d-4454-a29f-49d68cc221bf",
   "metadata": {},
   "outputs": [
    {
     "data": {
      "text/plain": [
       "Index(['country_name', 'ccode', 'year', 'region', 'protest', 'protestnumber',\n",
       "       'protesterviolence', 'participants_category', 'stateresponse1',\n",
       "       'start_date', 'end_date', 'duration', 'duration_int',\n",
       "       'labor wage dispute', 'land farm issue', 'police brutality',\n",
       "       'political behavior, process', 'price increases, tax policy',\n",
       "       'removal of politician', 'social restrictions', 'CC.EST', 'GE.EST',\n",
       "       'PV.NO.SRC', 'RL.EST', 'VA.EST', 'fiw_status'],\n",
       "      dtype='object')"
      ]
     },
     "execution_count": 211,
     "metadata": {},
     "output_type": "execute_result"
    }
   ],
   "source": [
    "df.columns"
   ]
  },
  {
   "cell_type": "code",
   "execution_count": 212,
   "id": "a35d896d-1cf4-4741-b6c4-081a902d38ec",
   "metadata": {},
   "outputs": [
    {
     "data": {
      "text/html": [
       "<div>\n",
       "<style scoped>\n",
       "    .dataframe tbody tr th:only-of-type {\n",
       "        vertical-align: middle;\n",
       "    }\n",
       "\n",
       "    .dataframe tbody tr th {\n",
       "        vertical-align: top;\n",
       "    }\n",
       "\n",
       "    .dataframe thead th {\n",
       "        text-align: right;\n",
       "    }\n",
       "</style>\n",
       "<table border=\"1\" class=\"dataframe\">\n",
       "  <thead>\n",
       "    <tr style=\"text-align: right;\">\n",
       "      <th></th>\n",
       "      <th>country_name</th>\n",
       "      <th>ccode</th>\n",
       "      <th>year</th>\n",
       "      <th>region</th>\n",
       "      <th>protest</th>\n",
       "      <th>protestnumber</th>\n",
       "      <th>protesterviolence</th>\n",
       "      <th>participants_category</th>\n",
       "      <th>stateresponse1</th>\n",
       "      <th>start_date</th>\n",
       "      <th>end_date</th>\n",
       "      <th>duration</th>\n",
       "      <th>duration_int</th>\n",
       "      <th>labor wage dispute</th>\n",
       "      <th>land farm issue</th>\n",
       "      <th>police brutality</th>\n",
       "      <th>political behavior, process</th>\n",
       "      <th>price increases, tax policy</th>\n",
       "      <th>removal of politician</th>\n",
       "      <th>social restrictions</th>\n",
       "      <th>CC.EST</th>\n",
       "      <th>GE.EST</th>\n",
       "      <th>PV.NO.SRC</th>\n",
       "      <th>RL.EST</th>\n",
       "      <th>VA.EST</th>\n",
       "      <th>fiw_status</th>\n",
       "    </tr>\n",
       "  </thead>\n",
       "  <tbody>\n",
       "    <tr>\n",
       "      <th>0</th>\n",
       "      <td>Canada</td>\n",
       "      <td>20</td>\n",
       "      <td>2006</td>\n",
       "      <td>5</td>\n",
       "      <td>1</td>\n",
       "      <td>1</td>\n",
       "      <td>1</td>\n",
       "      <td>3</td>\n",
       "      <td>3</td>\n",
       "      <td>2006-02-21</td>\n",
       "      <td>2006-08-17</td>\n",
       "      <td>178 days</td>\n",
       "      <td>178</td>\n",
       "      <td>0</td>\n",
       "      <td>0</td>\n",
       "      <td>1</td>\n",
       "      <td>1</td>\n",
       "      <td>0</td>\n",
       "      <td>0</td>\n",
       "      <td>0</td>\n",
       "      <td>1.962554</td>\n",
       "      <td>1.895545</td>\n",
       "      <td>8.0</td>\n",
       "      <td>1.814535</td>\n",
       "      <td>1.415595</td>\n",
       "      <td>0</td>\n",
       "    </tr>\n",
       "    <tr>\n",
       "      <th>1</th>\n",
       "      <td>Canada</td>\n",
       "      <td>20</td>\n",
       "      <td>2007</td>\n",
       "      <td>5</td>\n",
       "      <td>1</td>\n",
       "      <td>1</td>\n",
       "      <td>0</td>\n",
       "      <td>5</td>\n",
       "      <td>4</td>\n",
       "      <td>2007-06-29</td>\n",
       "      <td>2007-06-29</td>\n",
       "      <td>1 days</td>\n",
       "      <td>1</td>\n",
       "      <td>0</td>\n",
       "      <td>0</td>\n",
       "      <td>0</td>\n",
       "      <td>1</td>\n",
       "      <td>0</td>\n",
       "      <td>0</td>\n",
       "      <td>0</td>\n",
       "      <td>2.000900</td>\n",
       "      <td>1.761394</td>\n",
       "      <td>8.0</td>\n",
       "      <td>1.814706</td>\n",
       "      <td>1.384672</td>\n",
       "      <td>0</td>\n",
       "    </tr>\n",
       "    <tr>\n",
       "      <th>2</th>\n",
       "      <td>Canada</td>\n",
       "      <td>20</td>\n",
       "      <td>2008</td>\n",
       "      <td>5</td>\n",
       "      <td>1</td>\n",
       "      <td>1</td>\n",
       "      <td>1</td>\n",
       "      <td>3</td>\n",
       "      <td>3</td>\n",
       "      <td>2008-08-10</td>\n",
       "      <td>2008-08-10</td>\n",
       "      <td>1 days</td>\n",
       "      <td>1</td>\n",
       "      <td>0</td>\n",
       "      <td>0</td>\n",
       "      <td>1</td>\n",
       "      <td>0</td>\n",
       "      <td>0</td>\n",
       "      <td>0</td>\n",
       "      <td>0</td>\n",
       "      <td>2.002689</td>\n",
       "      <td>1.791681</td>\n",
       "      <td>8.0</td>\n",
       "      <td>1.808290</td>\n",
       "      <td>1.407529</td>\n",
       "      <td>0</td>\n",
       "    </tr>\n",
       "    <tr>\n",
       "      <th>3</th>\n",
       "      <td>Canada</td>\n",
       "      <td>20</td>\n",
       "      <td>2009</td>\n",
       "      <td>5</td>\n",
       "      <td>1</td>\n",
       "      <td>1</td>\n",
       "      <td>0</td>\n",
       "      <td>7</td>\n",
       "      <td>4</td>\n",
       "      <td>2009-05-13</td>\n",
       "      <td>2009-05-13</td>\n",
       "      <td>1 days</td>\n",
       "      <td>1</td>\n",
       "      <td>0</td>\n",
       "      <td>0</td>\n",
       "      <td>0</td>\n",
       "      <td>1</td>\n",
       "      <td>0</td>\n",
       "      <td>0</td>\n",
       "      <td>0</td>\n",
       "      <td>2.061789</td>\n",
       "      <td>1.745890</td>\n",
       "      <td>8.0</td>\n",
       "      <td>1.804082</td>\n",
       "      <td>1.401846</td>\n",
       "      <td>0</td>\n",
       "    </tr>\n",
       "    <tr>\n",
       "      <th>4</th>\n",
       "      <td>Canada</td>\n",
       "      <td>20</td>\n",
       "      <td>2009</td>\n",
       "      <td>5</td>\n",
       "      <td>1</td>\n",
       "      <td>2</td>\n",
       "      <td>1</td>\n",
       "      <td>3</td>\n",
       "      <td>1</td>\n",
       "      <td>2009-11-10</td>\n",
       "      <td>2009-11-10</td>\n",
       "      <td>1 days</td>\n",
       "      <td>1</td>\n",
       "      <td>0</td>\n",
       "      <td>0</td>\n",
       "      <td>0</td>\n",
       "      <td>1</td>\n",
       "      <td>0</td>\n",
       "      <td>0</td>\n",
       "      <td>0</td>\n",
       "      <td>2.061789</td>\n",
       "      <td>1.745890</td>\n",
       "      <td>8.0</td>\n",
       "      <td>1.804082</td>\n",
       "      <td>1.401846</td>\n",
       "      <td>0</td>\n",
       "    </tr>\n",
       "    <tr>\n",
       "      <th>...</th>\n",
       "      <td>...</td>\n",
       "      <td>...</td>\n",
       "      <td>...</td>\n",
       "      <td>...</td>\n",
       "      <td>...</td>\n",
       "      <td>...</td>\n",
       "      <td>...</td>\n",
       "      <td>...</td>\n",
       "      <td>...</td>\n",
       "      <td>...</td>\n",
       "      <td>...</td>\n",
       "      <td>...</td>\n",
       "      <td>...</td>\n",
       "      <td>...</td>\n",
       "      <td>...</td>\n",
       "      <td>...</td>\n",
       "      <td>...</td>\n",
       "      <td>...</td>\n",
       "      <td>...</td>\n",
       "      <td>...</td>\n",
       "      <td>...</td>\n",
       "      <td>...</td>\n",
       "      <td>...</td>\n",
       "      <td>...</td>\n",
       "      <td>...</td>\n",
       "      <td>...</td>\n",
       "    </tr>\n",
       "    <tr>\n",
       "      <th>8333</th>\n",
       "      <td>Papua New Guinea</td>\n",
       "      <td>910</td>\n",
       "      <td>2014</td>\n",
       "      <td>6</td>\n",
       "      <td>1</td>\n",
       "      <td>1</td>\n",
       "      <td>1</td>\n",
       "      <td>3</td>\n",
       "      <td>3</td>\n",
       "      <td>2014-02-16</td>\n",
       "      <td>2014-02-18</td>\n",
       "      <td>3 days</td>\n",
       "      <td>3</td>\n",
       "      <td>0</td>\n",
       "      <td>0</td>\n",
       "      <td>0</td>\n",
       "      <td>1</td>\n",
       "      <td>0</td>\n",
       "      <td>0</td>\n",
       "      <td>0</td>\n",
       "      <td>-0.910419</td>\n",
       "      <td>-0.613173</td>\n",
       "      <td>5.0</td>\n",
       "      <td>-0.801859</td>\n",
       "      <td>0.012504</td>\n",
       "      <td>2</td>\n",
       "    </tr>\n",
       "    <tr>\n",
       "      <th>8334</th>\n",
       "      <td>Papua New Guinea</td>\n",
       "      <td>910</td>\n",
       "      <td>2016</td>\n",
       "      <td>6</td>\n",
       "      <td>1</td>\n",
       "      <td>1</td>\n",
       "      <td>1</td>\n",
       "      <td>5</td>\n",
       "      <td>6</td>\n",
       "      <td>2016-05-15</td>\n",
       "      <td>2016-06-09</td>\n",
       "      <td>26 days</td>\n",
       "      <td>26</td>\n",
       "      <td>0</td>\n",
       "      <td>0</td>\n",
       "      <td>0</td>\n",
       "      <td>0</td>\n",
       "      <td>0</td>\n",
       "      <td>1</td>\n",
       "      <td>0</td>\n",
       "      <td>-0.933239</td>\n",
       "      <td>-0.737559</td>\n",
       "      <td>5.0</td>\n",
       "      <td>-0.776621</td>\n",
       "      <td>0.158423</td>\n",
       "      <td>2</td>\n",
       "    </tr>\n",
       "    <tr>\n",
       "      <th>8335</th>\n",
       "      <td>Papua New Guinea</td>\n",
       "      <td>910</td>\n",
       "      <td>2017</td>\n",
       "      <td>6</td>\n",
       "      <td>1</td>\n",
       "      <td>1</td>\n",
       "      <td>0</td>\n",
       "      <td>2</td>\n",
       "      <td>0</td>\n",
       "      <td>2017-06-15</td>\n",
       "      <td>2017-06-15</td>\n",
       "      <td>1 days</td>\n",
       "      <td>1</td>\n",
       "      <td>0</td>\n",
       "      <td>1</td>\n",
       "      <td>0</td>\n",
       "      <td>1</td>\n",
       "      <td>0</td>\n",
       "      <td>0</td>\n",
       "      <td>0</td>\n",
       "      <td>-0.901452</td>\n",
       "      <td>-0.665448</td>\n",
       "      <td>5.0</td>\n",
       "      <td>-0.823908</td>\n",
       "      <td>0.132872</td>\n",
       "      <td>2</td>\n",
       "    </tr>\n",
       "    <tr>\n",
       "      <th>8336</th>\n",
       "      <td>Papua New Guinea</td>\n",
       "      <td>910</td>\n",
       "      <td>2017</td>\n",
       "      <td>6</td>\n",
       "      <td>1</td>\n",
       "      <td>2</td>\n",
       "      <td>1</td>\n",
       "      <td>2</td>\n",
       "      <td>3</td>\n",
       "      <td>2017-07-15</td>\n",
       "      <td>2017-07-15</td>\n",
       "      <td>1 days</td>\n",
       "      <td>1</td>\n",
       "      <td>0</td>\n",
       "      <td>0</td>\n",
       "      <td>0</td>\n",
       "      <td>1</td>\n",
       "      <td>0</td>\n",
       "      <td>0</td>\n",
       "      <td>0</td>\n",
       "      <td>-0.901452</td>\n",
       "      <td>-0.665448</td>\n",
       "      <td>5.0</td>\n",
       "      <td>-0.823908</td>\n",
       "      <td>0.132872</td>\n",
       "      <td>2</td>\n",
       "    </tr>\n",
       "    <tr>\n",
       "      <th>8337</th>\n",
       "      <td>Papua New Guinea</td>\n",
       "      <td>910</td>\n",
       "      <td>2017</td>\n",
       "      <td>6</td>\n",
       "      <td>1</td>\n",
       "      <td>3</td>\n",
       "      <td>0</td>\n",
       "      <td>3</td>\n",
       "      <td>4</td>\n",
       "      <td>2017-10-31</td>\n",
       "      <td>2017-10-31</td>\n",
       "      <td>1 days</td>\n",
       "      <td>1</td>\n",
       "      <td>0</td>\n",
       "      <td>0</td>\n",
       "      <td>0</td>\n",
       "      <td>1</td>\n",
       "      <td>0</td>\n",
       "      <td>0</td>\n",
       "      <td>0</td>\n",
       "      <td>-0.901452</td>\n",
       "      <td>-0.665448</td>\n",
       "      <td>5.0</td>\n",
       "      <td>-0.823908</td>\n",
       "      <td>0.132872</td>\n",
       "      <td>2</td>\n",
       "    </tr>\n",
       "  </tbody>\n",
       "</table>\n",
       "<p>8338 rows × 26 columns</p>\n",
       "</div>"
      ],
      "text/plain": [
       "          country_name  ccode  year  region  protest  protestnumber  \\\n",
       "0               Canada     20  2006       5        1              1   \n",
       "1               Canada     20  2007       5        1              1   \n",
       "2               Canada     20  2008       5        1              1   \n",
       "3               Canada     20  2009       5        1              1   \n",
       "4               Canada     20  2009       5        1              2   \n",
       "...                ...    ...   ...     ...      ...            ...   \n",
       "8333  Papua New Guinea    910  2014       6        1              1   \n",
       "8334  Papua New Guinea    910  2016       6        1              1   \n",
       "8335  Papua New Guinea    910  2017       6        1              1   \n",
       "8336  Papua New Guinea    910  2017       6        1              2   \n",
       "8337  Papua New Guinea    910  2017       6        1              3   \n",
       "\n",
       "      protesterviolence  participants_category  stateresponse1  start_date  \\\n",
       "0                     1                      3               3  2006-02-21   \n",
       "1                     0                      5               4  2007-06-29   \n",
       "2                     1                      3               3  2008-08-10   \n",
       "3                     0                      7               4  2009-05-13   \n",
       "4                     1                      3               1  2009-11-10   \n",
       "...                 ...                    ...             ...         ...   \n",
       "8333                  1                      3               3  2014-02-16   \n",
       "8334                  1                      5               6  2016-05-15   \n",
       "8335                  0                      2               0  2017-06-15   \n",
       "8336                  1                      2               3  2017-07-15   \n",
       "8337                  0                      3               4  2017-10-31   \n",
       "\n",
       "        end_date  duration  duration_int  labor wage dispute  land farm issue  \\\n",
       "0     2006-08-17  178 days           178                   0                0   \n",
       "1     2007-06-29    1 days             1                   0                0   \n",
       "2     2008-08-10    1 days             1                   0                0   \n",
       "3     2009-05-13    1 days             1                   0                0   \n",
       "4     2009-11-10    1 days             1                   0                0   \n",
       "...          ...       ...           ...                 ...              ...   \n",
       "8333  2014-02-18    3 days             3                   0                0   \n",
       "8334  2016-06-09   26 days            26                   0                0   \n",
       "8335  2017-06-15    1 days             1                   0                1   \n",
       "8336  2017-07-15    1 days             1                   0                0   \n",
       "8337  2017-10-31    1 days             1                   0                0   \n",
       "\n",
       "      police brutality  political behavior, process  \\\n",
       "0                    1                            1   \n",
       "1                    0                            1   \n",
       "2                    1                            0   \n",
       "3                    0                            1   \n",
       "4                    0                            1   \n",
       "...                ...                          ...   \n",
       "8333                 0                            1   \n",
       "8334                 0                            0   \n",
       "8335                 0                            1   \n",
       "8336                 0                            1   \n",
       "8337                 0                            1   \n",
       "\n",
       "      price increases, tax policy  removal of politician  social restrictions  \\\n",
       "0                               0                      0                    0   \n",
       "1                               0                      0                    0   \n",
       "2                               0                      0                    0   \n",
       "3                               0                      0                    0   \n",
       "4                               0                      0                    0   \n",
       "...                           ...                    ...                  ...   \n",
       "8333                            0                      0                    0   \n",
       "8334                            0                      1                    0   \n",
       "8335                            0                      0                    0   \n",
       "8336                            0                      0                    0   \n",
       "8337                            0                      0                    0   \n",
       "\n",
       "        CC.EST    GE.EST  PV.NO.SRC    RL.EST    VA.EST  fiw_status  \n",
       "0     1.962554  1.895545        8.0  1.814535  1.415595           0  \n",
       "1     2.000900  1.761394        8.0  1.814706  1.384672           0  \n",
       "2     2.002689  1.791681        8.0  1.808290  1.407529           0  \n",
       "3     2.061789  1.745890        8.0  1.804082  1.401846           0  \n",
       "4     2.061789  1.745890        8.0  1.804082  1.401846           0  \n",
       "...        ...       ...        ...       ...       ...         ...  \n",
       "8333 -0.910419 -0.613173        5.0 -0.801859  0.012504           2  \n",
       "8334 -0.933239 -0.737559        5.0 -0.776621  0.158423           2  \n",
       "8335 -0.901452 -0.665448        5.0 -0.823908  0.132872           2  \n",
       "8336 -0.901452 -0.665448        5.0 -0.823908  0.132872           2  \n",
       "8337 -0.901452 -0.665448        5.0 -0.823908  0.132872           2  \n",
       "\n",
       "[8338 rows x 26 columns]"
      ]
     },
     "execution_count": 212,
     "metadata": {},
     "output_type": "execute_result"
    }
   ],
   "source": [
    "df"
   ]
  },
  {
   "cell_type": "code",
   "execution_count": 215,
   "id": "2549feb2-6a2b-4dc6-a873-d47970e02990",
   "metadata": {},
   "outputs": [],
   "source": [
    "def plot_response_by_demand_by_fiw_score(df=df, score_cat=1, demand='labor wage dispute'):\n",
    "    output_df = df[df['fiw_status'] == score_cat]\n",
    "    barplot_reponse_by_demand(output_df,demand)\n",
    "    "
   ]
  },
  {
   "cell_type": "code",
   "execution_count": 216,
   "id": "31bd7257-9b6c-465e-a668-35eea7de0132",
   "metadata": {},
   "outputs": [
    {
     "name": "stderr",
     "output_type": "stream",
     "text": [
      "<ipython-input-203-3651a2941c3c>:2: FutureWarning:\n",
      "\n",
      "Indexing with multiple keys (implicitly converted to a tuple of keys) will be deprecated, use a list instead.\n",
      "\n"
     ]
    },
    {
     "data": {
      "image/png": "[encoded data removed]",
      "text/plain": [
       "<Figure size 720x432 with 1 Axes>"
      ]
     },
     "metadata": {
      "needs_background": "light"
     },
     "output_type": "display_data"
    }
   ],
   "source": [
    "plot_response_by_demand_by_fiw_score(df, 2)"
   ]
  },
  {
   "cell_type": "code",
   "execution_count": 142,
   "id": "886d7310-e95d-4c6d-8e71-9b7c096cd6f1",
   "metadata": {},
   "outputs": [
    {
     "data": {
      "text/plain": [
       "<AxesSubplot:xlabel='stateresponse1', ylabel='labor wage dispute'>"
      ]
     },
     "execution_count": 142,
     "metadata": {},
     "output_type": "execute_result"
    },
    {
     "data": {
      "image/png": "[encoded data removed]",
      "text/plain": [
       "<Figure size 720x432 with 1 Axes>"
      ]
     },
     "metadata": {
      "needs_background": "light"
     },
     "output_type": "display_data"
    }
   ],
   "source": [
    "plt.figure(figsize=(10,6))\n",
    "sns.barplot(x = response_by_demand.index, y= response_by_demand['labor wage dispute'])\n",
    "plt.title('State Response: Labor Wage Dispute')"
   ]
  },
  {
   "cell_type": "code",
   "execution_count": 132,
   "id": "6723c737-bf57-4ae0-adac-dd5931b9b564",
   "metadata": {},
   "outputs": [
    {
     "name": "stderr",
     "output_type": "stream",
     "text": [
      "<ipython-input-132-544b4d6eba37>:1: FutureWarning:\n",
      "\n",
      "Indexing with multiple keys (implicitly converted to a tuple of keys) will be deprecated, use a list instead.\n",
      "\n"
     ]
    },
    {
     "data": {
      "text/html": [
       "<div>\n",
       "<style scoped>\n",
       "    .dataframe tbody tr th:only-of-type {\n",
       "        vertical-align: middle;\n",
       "    }\n",
       "\n",
       "    .dataframe tbody tr th {\n",
       "        vertical-align: top;\n",
       "    }\n",
       "\n",
       "    .dataframe thead th {\n",
       "        text-align: right;\n",
       "    }\n",
       "</style>\n",
       "<table border=\"1\" class=\"dataframe\">\n",
       "  <thead>\n",
       "    <tr style=\"text-align: right;\">\n",
       "      <th></th>\n",
       "      <th>CC.EST</th>\n",
       "      <th>GE.EST</th>\n",
       "      <th>PV.NO.SRC</th>\n",
       "      <th>RL.EST</th>\n",
       "      <th>VA.EST</th>\n",
       "    </tr>\n",
       "    <tr>\n",
       "      <th>stateresponse1</th>\n",
       "      <th></th>\n",
       "      <th></th>\n",
       "      <th></th>\n",
       "      <th></th>\n",
       "      <th></th>\n",
       "    </tr>\n",
       "  </thead>\n",
       "  <tbody>\n",
       "    <tr>\n",
       "      <th>accomodation</th>\n",
       "      <td>-0.514938</td>\n",
       "      <td>-0.301507</td>\n",
       "      <td>8.0</td>\n",
       "      <td>-0.488233</td>\n",
       "      <td>-0.218955</td>\n",
       "    </tr>\n",
       "    <tr>\n",
       "      <th>arrests</th>\n",
       "      <td>-0.536476</td>\n",
       "      <td>-0.193249</td>\n",
       "      <td>8.0</td>\n",
       "      <td>-0.651298</td>\n",
       "      <td>-0.883594</td>\n",
       "    </tr>\n",
       "    <tr>\n",
       "      <th>beatings</th>\n",
       "      <td>-0.766187</td>\n",
       "      <td>-0.554849</td>\n",
       "      <td>7.0</td>\n",
       "      <td>-0.754716</td>\n",
       "      <td>-1.083014</td>\n",
       "    </tr>\n",
       "    <tr>\n",
       "      <th>crowd dispersal</th>\n",
       "      <td>-0.561732</td>\n",
       "      <td>-0.413859</td>\n",
       "      <td>8.0</td>\n",
       "      <td>-0.488233</td>\n",
       "      <td>-0.308442</td>\n",
       "    </tr>\n",
       "    <tr>\n",
       "      <th>ignore</th>\n",
       "      <td>-0.300416</td>\n",
       "      <td>0.007411</td>\n",
       "      <td>8.0</td>\n",
       "      <td>-0.170176</td>\n",
       "      <td>0.006508</td>\n",
       "    </tr>\n",
       "    <tr>\n",
       "      <th>killings</th>\n",
       "      <td>-0.804220</td>\n",
       "      <td>-0.778967</td>\n",
       "      <td>7.0</td>\n",
       "      <td>-0.715842</td>\n",
       "      <td>-0.763609</td>\n",
       "    </tr>\n",
       "    <tr>\n",
       "      <th>shootings</th>\n",
       "      <td>-1.007903</td>\n",
       "      <td>-0.964174</td>\n",
       "      <td>7.0</td>\n",
       "      <td>-0.974337</td>\n",
       "      <td>-1.013889</td>\n",
       "    </tr>\n",
       "    <tr>\n",
       "      <th>unknown</th>\n",
       "      <td>-0.344728</td>\n",
       "      <td>-0.379961</td>\n",
       "      <td>7.0</td>\n",
       "      <td>-0.676570</td>\n",
       "      <td>-0.143551</td>\n",
       "    </tr>\n",
       "  </tbody>\n",
       "</table>\n",
       "</div>"
      ],
      "text/plain": [
       "                   CC.EST    GE.EST  PV.NO.SRC    RL.EST    VA.EST\n",
       "stateresponse1                                                    \n",
       "accomodation    -0.514938 -0.301507        8.0 -0.488233 -0.218955\n",
       "arrests         -0.536476 -0.193249        8.0 -0.651298 -0.883594\n",
       "beatings        -0.766187 -0.554849        7.0 -0.754716 -1.083014\n",
       "crowd dispersal -0.561732 -0.413859        8.0 -0.488233 -0.308442\n",
       "ignore          -0.300416  0.007411        8.0 -0.170176  0.006508\n",
       "killings        -0.804220 -0.778967        7.0 -0.715842 -0.763609\n",
       "shootings       -1.007903 -0.964174        7.0 -0.974337 -1.013889\n",
       "unknown         -0.344728 -0.379961        7.0 -0.676570 -0.143551"
      ]
     },
     "execution_count": 132,
     "metadata": {},
     "output_type": "execute_result"
    }
   ],
   "source": [
    "df.groupby(by = 'stateresponse1')['CC.EST', 'GE.EST', 'PV.NO.SRC', 'RL.EST',\n",
    "       'VA.EST', 'fiw_status'].median()"
   ]
  },
  {
   "cell_type": "code",
   "execution_count": 120,
   "id": "24acf1d5",
   "metadata": {},
   "outputs": [
    {
     "name": "stderr",
     "output_type": "stream",
     "text": [
      "/Users/TJohn/opt/anaconda3/lib/python3.8/site-packages/seaborn/_decorators.py:36: FutureWarning:\n",
      "\n",
      "Pass the following variables as keyword args: x, y. From version 0.12, the only valid positional argument will be `data`, and passing other arguments without an explicit keyword will result in an error or misinterpretation.\n",
      "\n"
     ]
    },
    {
     "data": {
      "text/plain": [
       "<AxesSubplot:xlabel='start_date', ylabel='CC.EST'>"
      ]
     },
     "execution_count": 120,
     "metadata": {},
     "output_type": "execute_result"
    },
    {
     "data": {
      "image/png": "[encoded data removed]",
      "text/plain": [
       "<Figure size 864x576 with 1 Axes>"
      ]
     },
     "metadata": {
      "needs_background": "light"
     },
     "output_type": "display_data"
    }
   ],
   "source": [
    "plt.figure(figsize=(12,8))\n",
    "sns.scatterplot(df['start_date'], df[df['country_name']=='Canada']['CC.EST'], hue=df['stateresponse1'])"
   ]
  },
  {
   "cell_type": "code",
   "execution_count": null,
   "id": "f481cb75-e2e6-4ada-8fec-ba283a7fff40",
   "metadata": {},
   "outputs": [],
   "source": []
  },
  {
   "cell_type": "code",
   "execution_count": null,
   "id": "7a106dc1-a216-4420-accd-3d86ef7d00c6",
   "metadata": {},
   "outputs": [],
   "source": []
  },
  {
   "cell_type": "code",
   "execution_count": 7,
   "id": "89d29394",
   "metadata": {},
   "outputs": [],
   "source": [
    "df_2006 = df[df['year'] == 2020]"
   ]
  },
  {
   "cell_type": "code",
   "execution_count": 8,
   "id": "f9ba228a-71b9-4d86-a7e7-ed11591161bd",
   "metadata": {},
   "outputs": [
    {
     "data": {
      "text/plain": [
       "array(['Canada', 'Cuba', 'Haiti', 'Dominican Republic (the)', 'Jamaica',\n",
       "       'Mexico', 'Guatemala', 'Honduras', 'El Salvador', 'Nicaragua',\n",
       "       'Costa Rica', 'Panama', 'Colombia',\n",
       "       'Venezuela (Bolivarian Republic of)', 'Guyana', 'Suriname',\n",
       "       'Ecuador', 'Peru', 'Brazil', 'Bolivia (Plurinational State of)',\n",
       "       'Paraguay', 'Chile', 'Argentina', 'Uruguay',\n",
       "       'United Kingdom of Great Britain and Northern Ireland (the)',\n",
       "       'Ireland', 'Netherlands (the)', 'Belgium', 'France', 'Switzerland',\n",
       "       'Spain', 'Portugal', 'Germany', 'Poland', 'Austria', 'Hungary',\n",
       "       'Czech Republic (the)', 'Slovakia', 'Italy', 'Albania', 'Kosovo',\n",
       "       'Serbia', 'the former Yugoslav Republic of Macedonia', 'Croatia',\n",
       "       'Bosnia and Herzegovina', 'Montenegro', 'Slovenia', 'Greece',\n",
       "       'Cyprus', 'Bulgaria', 'Republic of Moldova (the)', 'Romania',\n",
       "       'Russian Federation (the)', 'Estonia', 'Latvia', 'Lithuania',\n",
       "       'Ukraine', 'Belarus', 'Armenia', 'Georgia', 'Azerbaijan',\n",
       "       'Finland', 'Sweden', 'Norway', 'Denmark', 'Guinea-Bissau',\n",
       "       'Equatorial Guinea', 'Gambia (the)', 'Mali', 'Senegal', 'Benin',\n",
       "       'Mauritania', 'Niger (the)', \"Côte d'Ivoire\", 'Guinea',\n",
       "       'Burkina Faso', 'Liberia', 'Sierra Leone', 'Ghana', 'Togo',\n",
       "       'Cameroon', 'Nigeria', 'Gabon', 'Central African Republic (the)',\n",
       "       'Chad', 'Congo (the)', 'Democratic Republic of the Congo (the)',\n",
       "       'Uganda', 'Kenya', 'United Republic of Tanzania (the)', 'Burundi',\n",
       "       'Rwanda', 'Somalia', 'Djibouti', 'South Sudan', 'Ethiopia',\n",
       "       'Eritrea', 'Angola', 'Mozambique', 'Zambia', 'Zimbabwe', 'Malawi',\n",
       "       'South Africa', 'Namibia', 'Lesotho', 'Botswana', 'Madagascar',\n",
       "       'Comoros (the)', 'Mauritius', 'Morocco', 'Algeria', 'Tunisia',\n",
       "       'Libya', 'Sudan (the)', 'Iran (Islamic Republic of)', 'Turkey',\n",
       "       'Iraq', 'Egypt', 'Syrian Arab Republic', 'Lebanon', 'Jordan',\n",
       "       'Saudi Arabia', 'Yemen', 'Kuwait', 'Bahrain',\n",
       "       'United Arab Emirates (the)', 'Oman', 'Afghanistan',\n",
       "       'Turkmenistan', 'Tajikistan', 'Kyrgyzstan', 'Uzbekistan',\n",
       "       'Kazakhstan', 'China', 'Mongolia', 'Taiwan',\n",
       "       \"Democratic People's Republic of Korea (the)\",\n",
       "       'Republic of Korea (the)', 'Japan', 'India', 'Pakistan',\n",
       "       'Bangladesh', 'Myanmar', 'Sri Lanka', 'Nepal', 'Thailand',\n",
       "       'Cambodia', 'Viet Nam', 'Malaysia', 'Singapore',\n",
       "       'Philippines (the)', 'Indonesia', 'Timor-Leste',\n",
       "       'Papua New Guinea'], dtype=object)"
      ]
     },
     "execution_count": 8,
     "metadata": {},
     "output_type": "execute_result"
    }
   ],
   "source": [
    "df['country_name'].unique()\n"
   ]
  },
  {
   "cell_type": "code",
   "execution_count": null,
   "id": "90092b1f-2a79-40aa-8dfc-61b2a05d9c53",
   "metadata": {},
   "outputs": [],
   "source": []
  },
  {
   "cell_type": "code",
   "execution_count": 9,
   "id": "1db922a7",
   "metadata": {},
   "outputs": [],
   "source": [
    "data = {\n",
    "    'type' : 'choropleth',\n",
    "    'locations' : df['country_name'],\n",
    "    'locationmode':'country names',\n",
    "    'colorscale' : 'viridis',\n",
    "    'z':df['CC.EST']}"
   ]
  },
  {
   "cell_type": "code",
   "execution_count": 10,
   "id": "9133a6dd",
   "metadata": {},
   "outputs": [
    {
     "data": {
      "text/plain": [
       "'temp-plot.html'"
      ]
     },
     "execution_count": 10,
     "metadata": {},
     "output_type": "execute_result"
    }
   ],
   "source": [
    "map = go.Figure(data=[data])\n",
    "plotly.offline.plot(map)"
   ]
  },
  {
   "cell_type": "code",
   "execution_count": 11,
   "id": "5c4ba0cd-adaa-4468-ba97-93918beba9d6",
   "metadata": {},
   "outputs": [
    {
     "ename": "TypeError",
     "evalue": "Only valid with DatetimeIndex, TimedeltaIndex or PeriodIndex, but got an instance of 'RangeIndex'",
     "output_type": "error",
     "traceback": [
      "\u001b[0;31m---------------------------------------------------------------------------\u001b[0m",
      "\u001b[0;31mTypeError\u001b[0m                                 Traceback (most recent call last)",
      "\u001b[0;32m<ipython-input-11-8871bb150633>\u001b[0m in \u001b[0;36m<module>\u001b[0;34m\u001b[0m\n\u001b[0;32m----> 1\u001b[0;31m \u001b[0mdf\u001b[0m\u001b[0;34m.\u001b[0m\u001b[0mresample\u001b[0m\u001b[0;34m(\u001b[0m\u001b[0;34m'YS'\u001b[0m\u001b[0;34m)\u001b[0m\u001b[0;34m.\u001b[0m\u001b[0msum\u001b[0m\u001b[0;34m(\u001b[0m\u001b[0;34m)\u001b[0m\u001b[0;34m\u001b[0m\u001b[0;34m\u001b[0m\u001b[0m\n\u001b[0m",
      "\u001b[0;32m~/opt/anaconda3/lib/python3.8/site-packages/pandas/core/generic.py\u001b[0m in \u001b[0;36mresample\u001b[0;34m(self, rule, axis, closed, label, convention, kind, loffset, base, on, level, origin, offset)\u001b[0m\n\u001b[1;32m   8367\u001b[0m \u001b[0;34m\u001b[0m\u001b[0m\n\u001b[1;32m   8368\u001b[0m         \u001b[0maxis\u001b[0m \u001b[0;34m=\u001b[0m \u001b[0mself\u001b[0m\u001b[0;34m.\u001b[0m\u001b[0m_get_axis_number\u001b[0m\u001b[0;34m(\u001b[0m\u001b[0maxis\u001b[0m\u001b[0;34m)\u001b[0m\u001b[0;34m\u001b[0m\u001b[0;34m\u001b[0m\u001b[0m\n\u001b[0;32m-> 8369\u001b[0;31m         return get_resampler(\n\u001b[0m\u001b[1;32m   8370\u001b[0m             \u001b[0mself\u001b[0m\u001b[0;34m,\u001b[0m\u001b[0;34m\u001b[0m\u001b[0;34m\u001b[0m\u001b[0m\n\u001b[1;32m   8371\u001b[0m             \u001b[0mfreq\u001b[0m\u001b[0;34m=\u001b[0m\u001b[0mrule\u001b[0m\u001b[0;34m,\u001b[0m\u001b[0;34m\u001b[0m\u001b[0;34m\u001b[0m\u001b[0m\n",
      "\u001b[0;32m~/opt/anaconda3/lib/python3.8/site-packages/pandas/core/resample.py\u001b[0m in \u001b[0;36mget_resampler\u001b[0;34m(obj, kind, **kwds)\u001b[0m\n\u001b[1;32m   1309\u001b[0m     \"\"\"\n\u001b[1;32m   1310\u001b[0m     \u001b[0mtg\u001b[0m \u001b[0;34m=\u001b[0m \u001b[0mTimeGrouper\u001b[0m\u001b[0;34m(\u001b[0m\u001b[0;34m**\u001b[0m\u001b[0mkwds\u001b[0m\u001b[0;34m)\u001b[0m\u001b[0;34m\u001b[0m\u001b[0;34m\u001b[0m\u001b[0m\n\u001b[0;32m-> 1311\u001b[0;31m     \u001b[0;32mreturn\u001b[0m \u001b[0mtg\u001b[0m\u001b[0;34m.\u001b[0m\u001b[0m_get_resampler\u001b[0m\u001b[0;34m(\u001b[0m\u001b[0mobj\u001b[0m\u001b[0;34m,\u001b[0m \u001b[0mkind\u001b[0m\u001b[0;34m=\u001b[0m\u001b[0mkind\u001b[0m\u001b[0;34m)\u001b[0m\u001b[0;34m\u001b[0m\u001b[0;34m\u001b[0m\u001b[0m\n\u001b[0m\u001b[1;32m   1312\u001b[0m \u001b[0;34m\u001b[0m\u001b[0m\n\u001b[1;32m   1313\u001b[0m \u001b[0;34m\u001b[0m\u001b[0m\n",
      "\u001b[0;32m~/opt/anaconda3/lib/python3.8/site-packages/pandas/core/resample.py\u001b[0m in \u001b[0;36m_get_resampler\u001b[0;34m(self, obj, kind)\u001b[0m\n\u001b[1;32m   1474\u001b[0m             \u001b[0;32mreturn\u001b[0m \u001b[0mTimedeltaIndexResampler\u001b[0m\u001b[0;34m(\u001b[0m\u001b[0mobj\u001b[0m\u001b[0;34m,\u001b[0m \u001b[0mgroupby\u001b[0m\u001b[0;34m=\u001b[0m\u001b[0mself\u001b[0m\u001b[0;34m,\u001b[0m \u001b[0maxis\u001b[0m\u001b[0;34m=\u001b[0m\u001b[0mself\u001b[0m\u001b[0;34m.\u001b[0m\u001b[0maxis\u001b[0m\u001b[0;34m)\u001b[0m\u001b[0;34m\u001b[0m\u001b[0;34m\u001b[0m\u001b[0m\n\u001b[1;32m   1475\u001b[0m \u001b[0;34m\u001b[0m\u001b[0m\n\u001b[0;32m-> 1476\u001b[0;31m         raise TypeError(\n\u001b[0m\u001b[1;32m   1477\u001b[0m             \u001b[0;34m\"Only valid with DatetimeIndex, \"\u001b[0m\u001b[0;34m\u001b[0m\u001b[0;34m\u001b[0m\u001b[0m\n\u001b[1;32m   1478\u001b[0m             \u001b[0;34m\"TimedeltaIndex or PeriodIndex, \"\u001b[0m\u001b[0;34m\u001b[0m\u001b[0;34m\u001b[0m\u001b[0m\n",
      "\u001b[0;31mTypeError\u001b[0m: Only valid with DatetimeIndex, TimedeltaIndex or PeriodIndex, but got an instance of 'RangeIndex'"
     ]
    }
   ],
   "source": [
    "df.resample('YS').sum()"
   ]
  },
  {
   "cell_type": "code",
   "execution_count": 100,
   "id": "2268dfe5",
   "metadata": {},
   "outputs": [],
   "source": [
    "def time_series_by_country(df = df, country_or_region = 'country', place = 'Mali', agg_method = 'sum', interval = 'YS'):\n",
    "\n",
    "    '''\n",
    "    A function to downsample the full dataframe to view data by country. \n",
    "    Date range will include all years for which data is available for a specified country. \n",
    "    Input:\n",
    "        * a dataframe - defaults to 'df'\n",
    "        * specify country or region - in order to view data by region\n",
    "        * place - country or region name\n",
    "        * agg_method - aggregation method for resampling. defaults to 'sum'. 'mean' also recommended. \n",
    "        * interval - 'YS': annual / 'MS': monthly \n",
    "        \n",
    "    '''\n",
    "    try:\n",
    "        # generate downsamples dataframe based on country/region selection\n",
    "        if country_or_region == 'country':\n",
    "            output_df = df[df['country_name'] == place.title()]\n",
    "\n",
    "        elif country_or_region == 'region':\n",
    "            output_df = df[df['region'] == place.title()]\n",
    "\n",
    "\n",
    "        #set index to date_time based on protest startdate\n",
    "        output_df = output_df.sort_values(by='start_date')\n",
    "        output_df.set_index(pd.DatetimeIndex(output_df['start_date']), inplace=True)\n",
    "\n",
    "        #specify date range if desired\n",
    "        start_date = str(output_df.index.min())[:4]\n",
    "        end_date = str(output_df.index.max())[:4]\n",
    "        output_df = output_df.loc[start_date:end_date]\n",
    "\n",
    "        # resample to look at data based on regular intervals\n",
    "        output_df.resample(interval).agg(agg_method)\n",
    "\n",
    "        output_df.drop(columns = ['year', 'end_date', 'ccode'], inplace=True)\n",
    "        return output_df\n",
    "\n",
    "    except: \n",
    "\n",
    "        print(f'We don\\'t have enough data to fulfill your request for {place}. Please check your spelling, or try another location.')\n",
    "\n",
    "\n"
   ]
  },
  {
   "cell_type": "code",
   "execution_count": 114,
   "id": "7061c76e-8fb9-4cc2-844a-12430609e65d",
   "metadata": {},
   "outputs": [],
   "source": [
    "def generate_timeline(df, metric = \"GE.EST\"):\n",
    "    sns.lineplot(x=df.index, y=df[metric]), hue=df['protest_number'])"
   ]
  },
  {
   "cell_type": "code",
   "execution_count": 119,
   "id": "99e40dc2-8789-4642-9a39-e9d56b4ee217",
   "metadata": {},
   "outputs": [
    {
     "data": {
      "text/plain": [
       "<AxesSubplot:xlabel='start_date', ylabel='GE.EST'>"
      ]
     },
     "execution_count": 119,
     "metadata": {},
     "output_type": "execute_result"
    },
    {
     "data": {
      "image/png": "[encoded data removed]",
      "text/plain": [
       "<Figure size 432x288 with 1 Axes>"
      ]
     },
     "metadata": {
      "needs_background": "light"
     },
     "output_type": "display_data"
    }
   ],
   "source": [
    "sns.lineplot(x=mali.index, y=mali[\"GE.EST\"], hue=mali['protestnumber'])"
   ]
  },
  {
   "cell_type": "code",
   "execution_count": null,
   "id": "fbea614a-d5a3-49ca-a3f5-12eb789e7b29",
   "metadata": {},
   "outputs": [],
   "source": []
  }
 ],
 "metadata": {
  "kernelspec": {
   "display_name": "Python 3",
   "language": "python",
   "name": "python3"
  },
  "language_info": {
   "codemirror_mode": {
    "name": "ipython",
    "version": 3
   },
   "file_extension": ".py",
   "mimetype": "text/x-python",
   "name": "python",
   "nbconvert_exporter": "python",
   "pygments_lexer": "ipython3",
   "version": "3.8.8"
  }
 },
 "nbformat": 4,
 "nbformat_minor": 5
}
