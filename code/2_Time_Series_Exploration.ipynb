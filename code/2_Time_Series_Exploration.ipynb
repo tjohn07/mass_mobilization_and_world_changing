{
 "cells": [
  {
   "cell_type": "code",
   "execution_count": 16,
   "id": "007e2151",
   "metadata": {},
   "outputs": [],
   "source": [
    "import pandas as pd\n",
    "import numpy as np\n",
    "\n",
    "import matplotlib.pyplot as plt\n",
    "from datetime import datetime\n",
    "from sklearn.model_selection import train_test_split\n",
    "from sklearn.tree import DecisionTreeClassifier\n",
    "from sklearn.preprocessing import LabelEncoder, OneHotEncoder\n",
    "from statsmodels.tsa.arima.model import ARIMA\n",
    "import statsmodels.api as sm\n",
    "\n",
    "# We are required to do this in order to avoid \"FutureWarning\" issues.\n",
    "from pandas.plotting import register_matplotlib_converters\n",
    "register_matplotlib_converters()\n",
    "\n",
    "#importing custom functions\n",
    "import mass_mobil_functions as mm\n"
   ]
  },
  {
   "cell_type": "markdown",
   "id": "ec68aefe-e3f3-4a0a-8970-cdcc6485302f",
   "metadata": {},
   "source": [
    "# <a name=\"top2\"></a> Kiva Analysis & Recommender System: Data for Good\n",
    "### Data Engineering\n",
    "\n",
    "\n",
    "### Project Contents:\n",
    "|Name|Description|\n",
    "|---|---|\n",
    "|01_Data_Engineering|Cleans the data to prepares non-NLP data for modeling. Initial EDA.|\n",
    "|02_Preprocessing|Processes NLP data for visualizations and modeling.|\n",
    "|03_Modeling|Builds a content based recommender system.|\n",
    "|04_User_Model|Builds a user based recommender system for groups.|\n",
    "|Data_Visualizations|Explores the data through visualizations|\n",
    "|data|folder containing csv files of data used|\n",
    "|streamlit|folder containing streamlit.py file, folder with streamlit images, folder with streamlit data files|\n",
    "|images|folder containing saved plot images|\n",
    "\n",
    "You are currently in notebook 01_Data_Engineering. \n",
    "\n",
    "### Notebook Table of Contents\n",
    "\n",
    "* [Initial EDA](#eda2)\n",
    "* [Cleaning Data for Modeling](#cleaningm)\n",
    "For this study I initially had an interest in performing time series analysis by country. However, I found that there simmply wasn't sufficient data to get such a model off the ground. None of the countries necessarily had 'regular' enough protests recorded for a time series model to be usefel at this time. However, I did decide to take a look at some time series related data for the world regionally. I wanted to see if there was, perhaps, seasonality to be found. "
   ]
  },
  {
   "cell_type": "code",
   "execution_count": 17,
   "id": "6ef1122c",
   "metadata": {},
   "outputs": [],
   "source": [
    "# read in csvs created during eda_cleaning stages in notebook 1.\n",
    "\n",
    "#World Governance Indicators, to look at change in indicators over time\n",
    "wgi = pd.read_csv('../data/transformed/wgi_pivot.csv')\n",
    "\n",
    "#fully cleaned and merged df for general exploration\n",
    "df = pd.read_csv('../data/transformed/mm_wgi_fiw.csv')"
   ]
  },
  {
   "cell_type": "code",
   "execution_count": 18,
   "id": "6f7adab0-56c3-4f11-bdbc-3e512eaacc63",
   "metadata": {},
   "outputs": [
    {
     "data": {
      "text/html": [
       "<div>\n",
       "<style scoped>\n",
       "    .dataframe tbody tr th:only-of-type {\n",
       "        vertical-align: middle;\n",
       "    }\n",
       "\n",
       "    .dataframe tbody tr th {\n",
       "        vertical-align: top;\n",
       "    }\n",
       "\n",
       "    .dataframe thead th {\n",
       "        text-align: right;\n",
       "    }\n",
       "</style>\n",
       "<table border=\"1\" class=\"dataframe\">\n",
       "  <thead>\n",
       "    <tr style=\"text-align: right;\">\n",
       "      <th></th>\n",
       "      <th>country_name</th>\n",
       "      <th>year</th>\n",
       "      <th>CC.EST</th>\n",
       "      <th>GE.EST</th>\n",
       "      <th>PV.NO.SRC</th>\n",
       "      <th>RL.EST</th>\n",
       "      <th>VA.EST</th>\n",
       "    </tr>\n",
       "  </thead>\n",
       "  <tbody>\n",
       "    <tr>\n",
       "      <th>0</th>\n",
       "      <td>Afghanistan</td>\n",
       "      <td>1996</td>\n",
       "      <td>-1.291705</td>\n",
       "      <td>-2.175167</td>\n",
       "      <td>2.0</td>\n",
       "      <td>-1.788075</td>\n",
       "      <td>-1.908540</td>\n",
       "    </tr>\n",
       "    <tr>\n",
       "      <th>1</th>\n",
       "      <td>Afghanistan</td>\n",
       "      <td>1997</td>\n",
       "      <td>-1.291705</td>\n",
       "      <td>-2.175167</td>\n",
       "      <td>2.0</td>\n",
       "      <td>-1.788075</td>\n",
       "      <td>-1.908540</td>\n",
       "    </tr>\n",
       "    <tr>\n",
       "      <th>2</th>\n",
       "      <td>Afghanistan</td>\n",
       "      <td>1998</td>\n",
       "      <td>-1.180848</td>\n",
       "      <td>-2.135942</td>\n",
       "      <td>2.0</td>\n",
       "      <td>-1.737140</td>\n",
       "      <td>-2.039301</td>\n",
       "    </tr>\n",
       "  </tbody>\n",
       "</table>\n",
       "</div>"
      ],
      "text/plain": [
       "  country_name  year    CC.EST    GE.EST  PV.NO.SRC    RL.EST    VA.EST\n",
       "0  Afghanistan  1996 -1.291705 -2.175167        2.0 -1.788075 -1.908540\n",
       "1  Afghanistan  1997 -1.291705 -2.175167        2.0 -1.788075 -1.908540\n",
       "2  Afghanistan  1998 -1.180848 -2.135942        2.0 -1.737140 -2.039301"
      ]
     },
     "execution_count": 18,
     "metadata": {},
     "output_type": "execute_result"
    }
   ],
   "source": [
    "wgi.head(3)"
   ]
  },
  {
   "cell_type": "code",
   "execution_count": 19,
   "id": "9e6caa2c-d813-49e8-a0ae-5ca21fc480e1",
   "metadata": {},
   "outputs": [
    {
     "data": {
      "text/html": [
       "<div>\n",
       "<style scoped>\n",
       "    .dataframe tbody tr th:only-of-type {\n",
       "        vertical-align: middle;\n",
       "    }\n",
       "\n",
       "    .dataframe tbody tr th {\n",
       "        vertical-align: top;\n",
       "    }\n",
       "\n",
       "    .dataframe thead th {\n",
       "        text-align: right;\n",
       "    }\n",
       "</style>\n",
       "<table border=\"1\" class=\"dataframe\">\n",
       "  <thead>\n",
       "    <tr style=\"text-align: right;\">\n",
       "      <th></th>\n",
       "      <th>country_name</th>\n",
       "      <th>ccode</th>\n",
       "      <th>year</th>\n",
       "      <th>region</th>\n",
       "      <th>protest</th>\n",
       "      <th>protestnumber</th>\n",
       "      <th>protesterviolence</th>\n",
       "      <th>participants_category</th>\n",
       "      <th>stateresponse1</th>\n",
       "      <th>start_date</th>\n",
       "      <th>...</th>\n",
       "      <th>political behavior, process</th>\n",
       "      <th>price increases, tax policy</th>\n",
       "      <th>removal of politician</th>\n",
       "      <th>social restrictions</th>\n",
       "      <th>CC.EST</th>\n",
       "      <th>GE.EST</th>\n",
       "      <th>PV.NO.SRC</th>\n",
       "      <th>RL.EST</th>\n",
       "      <th>VA.EST</th>\n",
       "      <th>fiw_status</th>\n",
       "    </tr>\n",
       "  </thead>\n",
       "  <tbody>\n",
       "    <tr>\n",
       "      <th>0</th>\n",
       "      <td>Canada</td>\n",
       "      <td>20</td>\n",
       "      <td>2006</td>\n",
       "      <td>North America</td>\n",
       "      <td>1</td>\n",
       "      <td>1</td>\n",
       "      <td>1</td>\n",
       "      <td>3</td>\n",
       "      <td>crowd dispersal</td>\n",
       "      <td>2006-02-21</td>\n",
       "      <td>...</td>\n",
       "      <td>1</td>\n",
       "      <td>0</td>\n",
       "      <td>0</td>\n",
       "      <td>0</td>\n",
       "      <td>1.962554</td>\n",
       "      <td>1.895545</td>\n",
       "      <td>8.0</td>\n",
       "      <td>1.814535</td>\n",
       "      <td>1.415595</td>\n",
       "      <td>F</td>\n",
       "    </tr>\n",
       "    <tr>\n",
       "      <th>1</th>\n",
       "      <td>Canada</td>\n",
       "      <td>20</td>\n",
       "      <td>2007</td>\n",
       "      <td>North America</td>\n",
       "      <td>1</td>\n",
       "      <td>1</td>\n",
       "      <td>0</td>\n",
       "      <td>5</td>\n",
       "      <td>ignore</td>\n",
       "      <td>2007-06-29</td>\n",
       "      <td>...</td>\n",
       "      <td>1</td>\n",
       "      <td>0</td>\n",
       "      <td>0</td>\n",
       "      <td>0</td>\n",
       "      <td>2.000900</td>\n",
       "      <td>1.761394</td>\n",
       "      <td>8.0</td>\n",
       "      <td>1.814706</td>\n",
       "      <td>1.384672</td>\n",
       "      <td>F</td>\n",
       "    </tr>\n",
       "    <tr>\n",
       "      <th>2</th>\n",
       "      <td>Canada</td>\n",
       "      <td>20</td>\n",
       "      <td>2008</td>\n",
       "      <td>North America</td>\n",
       "      <td>1</td>\n",
       "      <td>1</td>\n",
       "      <td>1</td>\n",
       "      <td>3</td>\n",
       "      <td>crowd dispersal</td>\n",
       "      <td>2008-08-10</td>\n",
       "      <td>...</td>\n",
       "      <td>0</td>\n",
       "      <td>0</td>\n",
       "      <td>0</td>\n",
       "      <td>0</td>\n",
       "      <td>2.002689</td>\n",
       "      <td>1.791681</td>\n",
       "      <td>8.0</td>\n",
       "      <td>1.808290</td>\n",
       "      <td>1.407529</td>\n",
       "      <td>F</td>\n",
       "    </tr>\n",
       "  </tbody>\n",
       "</table>\n",
       "<p>3 rows × 26 columns</p>\n",
       "</div>"
      ],
      "text/plain": [
       "  country_name  ccode  year         region  protest  protestnumber  \\\n",
       "0       Canada     20  2006  North America        1              1   \n",
       "1       Canada     20  2007  North America        1              1   \n",
       "2       Canada     20  2008  North America        1              1   \n",
       "\n",
       "   protesterviolence  participants_category   stateresponse1  start_date  ...  \\\n",
       "0                  1                      3  crowd dispersal  2006-02-21  ...   \n",
       "1                  0                      5           ignore  2007-06-29  ...   \n",
       "2                  1                      3  crowd dispersal  2008-08-10  ...   \n",
       "\n",
       "  political behavior, process price increases, tax policy  \\\n",
       "0                           1                           0   \n",
       "1                           1                           0   \n",
       "2                           0                           0   \n",
       "\n",
       "   removal of politician  social restrictions    CC.EST    GE.EST  PV.NO.SRC  \\\n",
       "0                      0                    0  1.962554  1.895545        8.0   \n",
       "1                      0                    0  2.000900  1.761394        8.0   \n",
       "2                      0                    0  2.002689  1.791681        8.0   \n",
       "\n",
       "     RL.EST    VA.EST  fiw_status  \n",
       "0  1.814535  1.415595           F  \n",
       "1  1.814706  1.384672           F  \n",
       "2  1.808290  1.407529           F  \n",
       "\n",
       "[3 rows x 26 columns]"
      ]
     },
     "execution_count": 19,
     "metadata": {},
     "output_type": "execute_result"
    }
   ],
   "source": [
    "df.head(3)"
   ]
  },
  {
   "cell_type": "code",
   "execution_count": 20,
   "id": "f954effc",
   "metadata": {},
   "outputs": [
    {
     "data": {
      "text/plain": [
       "Index(['country_name', 'ccode', 'year', 'region', 'protest', 'protestnumber',\n",
       "       'protesterviolence', 'participants_category', 'stateresponse1',\n",
       "       'start_date', 'end_date', 'duration', 'duration_int',\n",
       "       'labor wage dispute', 'land farm issue', 'police brutality',\n",
       "       'political behavior, process', 'price increases, tax policy',\n",
       "       'removal of politician', 'social restrictions', 'CC.EST', 'GE.EST',\n",
       "       'PV.NO.SRC', 'RL.EST', 'VA.EST', 'fiw_status'],\n",
       "      dtype='object')"
      ]
     },
     "execution_count": 20,
     "metadata": {},
     "output_type": "execute_result"
    }
   ],
   "source": [
    "df.columns"
   ]
  },
  {
   "cell_type": "code",
   "execution_count": 25,
   "id": "bdea2375-863b-427c-bdca-832773c71983",
   "metadata": {},
   "outputs": [],
   "source": [
    "#using custom function to encode/get dummies for columns in preparation for modeling\n",
    "\n",
    "response_model_df = mm.categorical_to_encode(df, [], ['fiw_status','region', 'stateresponse1'])"
   ]
  },
  {
   "cell_type": "code",
   "execution_count": 24,
   "id": "0efee10c-555c-48ba-8305-3ac26f5e0bbf",
   "metadata": {},
   "outputs": [
    {
     "data": {
      "text/html": [
       "<div>\n",
       "<style scoped>\n",
       "    .dataframe tbody tr th:only-of-type {\n",
       "        vertical-align: middle;\n",
       "    }\n",
       "\n",
       "    .dataframe tbody tr th {\n",
       "        vertical-align: top;\n",
       "    }\n",
       "\n",
       "    .dataframe thead th {\n",
       "        text-align: right;\n",
       "    }\n",
       "</style>\n",
       "<table border=\"1\" class=\"dataframe\">\n",
       "  <thead>\n",
       "    <tr style=\"text-align: right;\">\n",
       "      <th></th>\n",
       "      <th>country_name</th>\n",
       "      <th>ccode</th>\n",
       "      <th>year</th>\n",
       "      <th>protest</th>\n",
       "      <th>protestnumber</th>\n",
       "      <th>protesterviolence</th>\n",
       "      <th>participants_category</th>\n",
       "      <th>start_date</th>\n",
       "      <th>end_date</th>\n",
       "      <th>duration</th>\n",
       "      <th>...</th>\n",
       "      <th>North America</th>\n",
       "      <th>Oceania</th>\n",
       "      <th>South America</th>\n",
       "      <th>arrests</th>\n",
       "      <th>beatings</th>\n",
       "      <th>crowd dispersal</th>\n",
       "      <th>ignore</th>\n",
       "      <th>killings</th>\n",
       "      <th>shootings</th>\n",
       "      <th>unknown</th>\n",
       "    </tr>\n",
       "  </thead>\n",
       "  <tbody>\n",
       "    <tr>\n",
       "      <th>0</th>\n",
       "      <td>Canada</td>\n",
       "      <td>20</td>\n",
       "      <td>2006</td>\n",
       "      <td>1</td>\n",
       "      <td>1</td>\n",
       "      <td>1</td>\n",
       "      <td>3</td>\n",
       "      <td>2006-02-21</td>\n",
       "      <td>2006-08-17</td>\n",
       "      <td>178 days</td>\n",
       "      <td>...</td>\n",
       "      <td>1</td>\n",
       "      <td>0</td>\n",
       "      <td>0</td>\n",
       "      <td>0</td>\n",
       "      <td>0</td>\n",
       "      <td>1</td>\n",
       "      <td>0</td>\n",
       "      <td>0</td>\n",
       "      <td>0</td>\n",
       "      <td>0</td>\n",
       "    </tr>\n",
       "    <tr>\n",
       "      <th>1</th>\n",
       "      <td>Canada</td>\n",
       "      <td>20</td>\n",
       "      <td>2007</td>\n",
       "      <td>1</td>\n",
       "      <td>1</td>\n",
       "      <td>0</td>\n",
       "      <td>5</td>\n",
       "      <td>2007-06-29</td>\n",
       "      <td>2007-06-29</td>\n",
       "      <td>1 days</td>\n",
       "      <td>...</td>\n",
       "      <td>1</td>\n",
       "      <td>0</td>\n",
       "      <td>0</td>\n",
       "      <td>0</td>\n",
       "      <td>0</td>\n",
       "      <td>0</td>\n",
       "      <td>1</td>\n",
       "      <td>0</td>\n",
       "      <td>0</td>\n",
       "      <td>0</td>\n",
       "    </tr>\n",
       "    <tr>\n",
       "      <th>2</th>\n",
       "      <td>Canada</td>\n",
       "      <td>20</td>\n",
       "      <td>2008</td>\n",
       "      <td>1</td>\n",
       "      <td>1</td>\n",
       "      <td>1</td>\n",
       "      <td>3</td>\n",
       "      <td>2008-08-10</td>\n",
       "      <td>2008-08-10</td>\n",
       "      <td>1 days</td>\n",
       "      <td>...</td>\n",
       "      <td>1</td>\n",
       "      <td>0</td>\n",
       "      <td>0</td>\n",
       "      <td>0</td>\n",
       "      <td>0</td>\n",
       "      <td>1</td>\n",
       "      <td>0</td>\n",
       "      <td>0</td>\n",
       "      <td>0</td>\n",
       "      <td>0</td>\n",
       "    </tr>\n",
       "  </tbody>\n",
       "</table>\n",
       "<p>3 rows × 39 columns</p>\n",
       "</div>"
      ],
      "text/plain": [
       "  country_name  ccode  year  protest  protestnumber  protesterviolence  \\\n",
       "0       Canada     20  2006        1              1                  1   \n",
       "1       Canada     20  2007        1              1                  0   \n",
       "2       Canada     20  2008        1              1                  1   \n",
       "\n",
       "   participants_category  start_date    end_date  duration  ...  \\\n",
       "0                      3  2006-02-21  2006-08-17  178 days  ...   \n",
       "1                      5  2007-06-29  2007-06-29    1 days  ...   \n",
       "2                      3  2008-08-10  2008-08-10    1 days  ...   \n",
       "\n",
       "   North America  Oceania  South America  arrests  beatings  crowd dispersal  \\\n",
       "0              1        0              0        0         0                1   \n",
       "1              1        0              0        0         0                0   \n",
       "2              1        0              0        0         0                1   \n",
       "\n",
       "   ignore  killings  shootings  unknown  \n",
       "0       0         0          0        0  \n",
       "1       1         0          0        0  \n",
       "2       0         0          0        0  \n",
       "\n",
       "[3 rows x 39 columns]"
      ]
     },
     "execution_count": 24,
     "metadata": {},
     "output_type": "execute_result"
    }
   ],
   "source": [
    "response_model_df.head(3)"
   ]
  },
  {
   "cell_type": "code",
   "execution_count": 32,
   "id": "2d0f9e97-47aa-4994-b5d7-b7b9487e8b08",
   "metadata": {},
   "outputs": [
    {
     "data": {
      "text/plain": [
       "Index(['country_name', 'ccode', 'year', 'protest', 'protestnumber',\n",
       "       'protesterviolence', 'participants_category', 'start_date', 'end_date',\n",
       "       'duration', 'duration_int', 'labor wage dispute', 'land farm issue',\n",
       "       'police brutality', 'political behavior, process',\n",
       "       'price increases, tax policy', 'removal of politician',\n",
       "       'social restrictions', 'CC.EST', 'GE.EST', 'PV.NO.SRC', 'RL.EST',\n",
       "       'VA.EST', 'NF', 'PF', 'Asia', 'Central America', 'Europe', 'MENA',\n",
       "       'North America', 'Oceania', 'South America', 'arrests', 'beatings',\n",
       "       'crowd dispersal', 'ignore', 'killings', 'shootings', 'unknown'],\n",
       "      dtype='object')"
      ]
     },
     "execution_count": 32,
     "metadata": {},
     "output_type": "execute_result"
    }
   ],
   "source": [
    "response_model_df.columns"
   ]
  },
  {
   "cell_type": "code",
   "execution_count": 36,
   "id": "a35d4400",
   "metadata": {},
   "outputs": [],
   "source": [
    "kyrgyz_df = mm.time_series_by_country(response_model_df, 'Kyrgyzstan')"
   ]
  },
  {
   "cell_type": "code",
   "execution_count": 37,
   "id": "82602469-2452-46e7-bea4-08bea275cfb7",
   "metadata": {},
   "outputs": [
    {
     "data": {
      "text/plain": [
       "1    124\n",
       "Name: protest, dtype: int64"
      ]
     },
     "execution_count": 37,
     "metadata": {},
     "output_type": "execute_result"
    }
   ],
   "source": [
    "kyrgyz_df['protest'].value_counts()"
   ]
  },
  {
   "cell_type": "code",
   "execution_count": 202,
   "id": "966b523b",
   "metadata": {},
   "outputs": [],
   "source": [
    "def plot_series(df, cols=None, title='Title', xlab=None, ylab=None, steps=1):\n",
    "    \n",
    "    # Set figure size to be (18, 9).\n",
    "    plt.figure(figsize=(18,9))\n",
    "    \n",
    "    # Iterate through each column name.\n",
    "    for col in cols:\n",
    "            \n",
    "        # Generate a line plot of the column name.\n",
    "        # You only have to specify Y, since our\n",
    "        # index will be a datetime index.\n",
    "        plt.plot(df[col])\n",
    "        \n",
    "    # Generate title and labels.\n",
    "    plt.title(title, fontsize=26)\n",
    "    plt.xlabel(xlab, fontsize=20)\n",
    "    plt.ylabel(ylab, fontsize=20)\n",
    "    \n",
    "    # Enlarge tick marks.\n",
    "    plt.yticks(fontsize=18)\n",
    "    plt.xticks(df.index[0::steps], fontsize=18);"
   ]
  },
  {
   "cell_type": "code",
   "execution_count": 203,
   "id": "7647cd5f",
   "metadata": {},
   "outputs": [],
   "source": [
    "month = kyrgyz_df.resample('M').sum()"
   ]
  },
  {
   "cell_type": "code",
   "execution_count": 204,
   "id": "5643124b",
   "metadata": {},
   "outputs": [
    {
     "data": {
      "text/plain": [
       "(168, 33)"
      ]
     },
     "execution_count": 204,
     "metadata": {},
     "output_type": "execute_result"
    }
   ],
   "source": [
    "month.shape"
   ]
  },
  {
   "cell_type": "code",
   "execution_count": 205,
   "id": "63a6f0d7",
   "metadata": {},
   "outputs": [
    {
     "data": {
      "image/png": "[encoded data removed]",
      "text/plain": [
       "<Figure size 1296x648 with 1 Axes>"
      ]
     },
     "metadata": {
      "needs_background": "light"
     },
     "output_type": "display_data"
    }
   ],
   "source": [
    "plot_series(kyrgyz_df.resample('YS').sum(), cols=['GE.EST'])"
   ]
  },
  {
   "cell_type": "code",
   "execution_count": 206,
   "id": "f36ac570",
   "metadata": {},
   "outputs": [],
   "source": [
    "month['first_diff_ge'] = month['GE.EST'].diff(1)\n",
    "month['annual_diff_ge'] = month['GE.EST'].diff(12)"
   ]
  },
  {
   "cell_type": "code",
   "execution_count": 207,
   "id": "874f8119",
   "metadata": {},
   "outputs": [
    {
     "data": {
      "text/plain": [
       "protest                         0\n",
       "protestnumber                   0\n",
       "protesterviolence               0\n",
       "participants_category           0\n",
       "duration_int                    0\n",
       "labor wage dispute              0\n",
       "land farm issue                 0\n",
       "police brutality                0\n",
       "political behavior, process     0\n",
       "price increases, tax policy     0\n",
       "removal of politician           0\n",
       "social restrictions             0\n",
       "CC.EST                          0\n",
       "GE.EST                          0\n",
       "PV.NO.SRC                       0\n",
       "RL.EST                          0\n",
       "VA.EST                          0\n",
       "NF                              0\n",
       "PF                              0\n",
       "Asia                            0\n",
       "Central America                 0\n",
       "Europe                          0\n",
       "MENA                            0\n",
       "North America                   0\n",
       "Oceania                         0\n",
       "South America                   0\n",
       "arrests                         0\n",
       "beatings                        0\n",
       "crowd dispersal                 0\n",
       "ignore                          0\n",
       "killings                        0\n",
       "shootings                       0\n",
       "unknown                         0\n",
       "first_diff_ge                   1\n",
       "annual_diff_ge                 12\n",
       "dtype: int64"
      ]
     },
     "execution_count": 207,
     "metadata": {},
     "output_type": "execute_result"
    }
   ],
   "source": [
    "month.isna().sum()"
   ]
  },
  {
   "cell_type": "code",
   "execution_count": 208,
   "id": "774bdc53",
   "metadata": {},
   "outputs": [
    {
     "data": {
      "text/plain": [
       "(156, 35)"
      ]
     },
     "execution_count": 208,
     "metadata": {},
     "output_type": "execute_result"
    }
   ],
   "source": [
    "month.dropna().shape"
   ]
  },
  {
   "cell_type": "code",
   "execution_count": null,
   "id": "2fbf2deb-0d1a-4796-a4eb-92cb3987097e",
   "metadata": {},
   "outputs": [],
   "source": [
    "fig, axes = plt.subplots(nrows=3, figsize=(16, 12))\n",
    "axes[0].plot(df['Close'])\n",
    "axes[0].set_title('Close Price')\n",
    "axes[1].plot(df['Close'].diff())\n",
    "axes[1].set_title('Change per day as number')\n",
    "axes[1].axhline(0)\n",
    "axes[2].plot(df['Close'].pct_change())\n",
    "axes[2].set_title('Change Per Day as a %')\n",
    "axes[2].axhline(0)"
   ]
  },
  {
   "cell_type": "code",
   "execution_count": 209,
   "id": "13ff3e78",
   "metadata": {},
   "outputs": [],
   "source": [
    "features = month.drop(columns=['annual_diff_ge', 'first_diff_ge']).columns\n",
    "y = month['annual_diff_ge']\n",
    "X = month[features]"
   ]
  },
  {
   "cell_type": "code",
   "execution_count": 210,
   "id": "b8d65cad",
   "metadata": {},
   "outputs": [],
   "source": [
    "X_train, X_test, y_train, y_test = train_test_split(X, y,\n",
    "                                  test_size= 0.1,\n",
    "                                  shuffle=False)"
   ]
  },
  {
   "cell_type": "code",
   "execution_count": 211,
   "id": "bc9bf735",
   "metadata": {},
   "outputs": [],
   "source": [
    "import warnings"
   ]
  },
  {
   "cell_type": "code",
   "execution_count": 212,
   "id": "dfd9d167",
   "metadata": {},
   "outputs": [],
   "source": [
    "warnings.filterwarnings('ignore', 'statsmodels.tsa.arima_model.ARMA',\n",
    "                        FutureWarning)\n",
    "warnings.filterwarnings('ignore', 'statsmodels.tsa.arima_model.ARIMA',\n",
    "                        FutureWarning)\n"
   ]
  },
  {
   "cell_type": "code",
   "execution_count": 213,
   "id": "59f1f869",
   "metadata": {},
   "outputs": [
    {
     "name": "stdout",
     "output_type": "stream",
     "text": [
      "Attempting to fit ARIMA(0,1,0)\n",
      "The AIC for ARIMA(0,1,0) is: 424.04235150061623\n",
      "Attempting to fit ARIMA(0,1,1)\n",
      "The AIC for ARIMA(0,1,1) is: 402.3450820327531\n",
      "Attempting to fit ARIMA(0,1,2)\n",
      "The AIC for ARIMA(0,1,2) is: 389.7589738219931\n",
      "Attempting to fit ARIMA(0,1,3)\n",
      "The AIC for ARIMA(0,1,3) is: 390.67087667788337\n",
      "Attempting to fit ARIMA(0,1,4)\n",
      "The AIC for ARIMA(0,1,4) is: 387.31069765383296\n",
      "Attempting to fit ARIMA(1,1,0)\n",
      "The AIC for ARIMA(1,1,0) is: 419.4117141000221\n",
      "Attempting to fit ARIMA(1,1,1)\n",
      "The AIC for ARIMA(1,1,1) is: 390.77831254498665\n",
      "Attempting to fit ARIMA(1,1,2)\n"
     ]
    },
    {
     "name": "stderr",
     "output_type": "stream",
     "text": [
      "/Users/TJohn/opt/anaconda3/lib/python3.8/site-packages/statsmodels/tsa/statespace/sarimax.py:978: UserWarning: Non-invertible starting MA parameters found. Using zeros as starting parameters.\n",
      "  warn('Non-invertible starting MA parameters found.'\n"
     ]
    },
    {
     "name": "stdout",
     "output_type": "stream",
     "text": [
      "The AIC for ARIMA(1,1,2) is: 391.1923948178873\n",
      "Attempting to fit ARIMA(1,1,3)\n",
      "The AIC for ARIMA(1,1,3) is: 390.08195567598943\n",
      "Attempting to fit ARIMA(1,1,4)\n",
      "The AIC for ARIMA(1,1,4) is: 388.9110860238361\n",
      "Attempting to fit ARIMA(2,1,0)\n",
      "The AIC for ARIMA(2,1,0) is: 411.0277112464412\n",
      "Attempting to fit ARIMA(2,1,1)\n",
      "The AIC for ARIMA(2,1,1) is: 390.3129034353336\n",
      "Attempting to fit ARIMA(2,1,2)\n"
     ]
    },
    {
     "name": "stderr",
     "output_type": "stream",
     "text": [
      "/Users/TJohn/opt/anaconda3/lib/python3.8/site-packages/statsmodels/tsa/statespace/sarimax.py:966: UserWarning: Non-stationary starting autoregressive parameters found. Using zeros as starting parameters.\n",
      "  warn('Non-stationary starting autoregressive parameters'\n"
     ]
    },
    {
     "name": "stdout",
     "output_type": "stream",
     "text": [
      "The AIC for ARIMA(2,1,2) is: 380.29639756592195\n",
      "Attempting to fit ARIMA(2,1,3)\n",
      "The AIC for ARIMA(2,1,3) is: 386.6251862475066\n",
      "Attempting to fit ARIMA(2,1,4)\n",
      "The AIC for ARIMA(2,1,4) is: 387.26467403251365\n",
      "Attempting to fit ARIMA(3,1,0)\n",
      "The AIC for ARIMA(3,1,0) is: 401.6900322913518\n",
      "Attempting to fit ARIMA(3,1,1)\n",
      "The AIC for ARIMA(3,1,1) is: 391.48448571129313\n",
      "Attempting to fit ARIMA(3,1,2)\n",
      "The AIC for ARIMA(3,1,2) is: 393.078345649399\n",
      "Attempting to fit ARIMA(3,1,3)\n"
     ]
    },
    {
     "name": "stderr",
     "output_type": "stream",
     "text": [
      "/Users/TJohn/opt/anaconda3/lib/python3.8/site-packages/statsmodels/base/model.py:566: ConvergenceWarning: Maximum Likelihood optimization failed to converge. Check mle_retvals\n",
      "  warnings.warn(\"Maximum Likelihood optimization failed to \"\n"
     ]
    },
    {
     "name": "stdout",
     "output_type": "stream",
     "text": [
      "The AIC for ARIMA(3,1,3) is: 386.6117837255158\n",
      "Attempting to fit ARIMA(3,1,4)\n"
     ]
    },
    {
     "name": "stderr",
     "output_type": "stream",
     "text": [
      "/Users/TJohn/opt/anaconda3/lib/python3.8/site-packages/statsmodels/base/model.py:566: ConvergenceWarning: Maximum Likelihood optimization failed to converge. Check mle_retvals\n",
      "  warnings.warn(\"Maximum Likelihood optimization failed to \"\n"
     ]
    },
    {
     "name": "stdout",
     "output_type": "stream",
     "text": [
      "The AIC for ARIMA(3,1,4) is: 388.8504207534694\n",
      "Attempting to fit ARIMA(4,1,0)\n",
      "The AIC for ARIMA(4,1,0) is: 402.28388972898523\n",
      "Attempting to fit ARIMA(4,1,1)\n",
      "The AIC for ARIMA(4,1,1) is: 393.482261496388\n",
      "Attempting to fit ARIMA(4,1,2)\n",
      "The AIC for ARIMA(4,1,2) is: 395.0097826674935\n",
      "Attempting to fit ARIMA(4,1,3)\n",
      "The AIC for ARIMA(4,1,3) is: 388.8217864361627\n",
      "Attempting to fit ARIMA(4,1,4)\n",
      "The AIC for ARIMA(4,1,4) is: 390.66304218659633\n",
      "\n",
      "\n",
      "MODEL FINISHED!\n",
      "Our model that minimizes AIC on the training data is the ARIMA(2,1,2).\n",
      "This model has an AIC of 380.29639756592195.\n"
     ]
    },
    {
     "name": "stderr",
     "output_type": "stream",
     "text": [
      "/Users/TJohn/opt/anaconda3/lib/python3.8/site-packages/statsmodels/base/model.py:566: ConvergenceWarning: Maximum Likelihood optimization failed to converge. Check mle_retvals\n",
      "  warnings.warn(\"Maximum Likelihood optimization failed to \"\n"
     ]
    }
   ],
   "source": [
    "# Starting AIC, p, and q.\n",
    "best_aic = 99 * (10 ** 16)\n",
    "best_p = 0\n",
    "best_q = 0\n",
    "\n",
    "# Use nested for loop to iterate over values of p and q.\n",
    "for p in range(5):\n",
    "    for q in range(5):\n",
    "        \n",
    "        # Insert try and except statements.\n",
    "        try:\n",
    "            \n",
    "            # Fitting an ARIMA(p, 1, q) model.\n",
    "            print(f'Attempting to fit ARIMA({p},1,{q})')\n",
    "            \n",
    "            # Instantiate ARIMA model.\n",
    "            arima = ARIMA(endog = y_train.astype(float).dropna(), # endog = Y variable\n",
    "                          order = (p,1,q)) # values of p, d, q\n",
    "            \n",
    "            # Fit ARIMA model.\n",
    "            model = arima.fit()\n",
    "\n",
    "            # Print out AIC for ARIMA(p, 1, q) model.\n",
    "            print(f'The AIC for ARIMA({p},1,{q}) is: {model.aic}')\n",
    "\n",
    "            # Is my current model's AIC better than our best_aic?\n",
    "            if model.aic < best_aic:\n",
    "                \n",
    "                # If so, let's overwrite best_aic, best_p, and best_q.\n",
    "                best_aic = model.aic\n",
    "                best_p = p\n",
    "                best_q = q\n",
    "\n",
    "        except:\n",
    "            pass\n",
    "print()\n",
    "print()\n",
    "print('MODEL FINISHED!')\n",
    "print(f'Our model that minimizes AIC on the training data is the ARIMA({best_p},1,{best_q}).')\n",
    "print(f'This model has an AIC of {best_aic}.')"
   ]
  },
  {
   "cell_type": "markdown",
   "id": "057097ba",
   "metadata": {},
   "source": [
    "Our model that minimizes AIC on the training data is the ARIMA(2,1,2).\n",
    "This model has an AIC of 382.29625037454923.\n"
   ]
  },
  {
   "cell_type": "code",
   "execution_count": 29,
   "id": "43c35e32",
   "metadata": {},
   "outputs": [
    {
     "name": "stderr",
     "output_type": "stream",
     "text": [
      "/Users/TJohn/opt/anaconda3/lib/python3.8/site-packages/statsmodels/tsa/arima_model.py:472: FutureWarning: \n",
      "statsmodels.tsa.arima_model.ARMA and statsmodels.tsa.arima_model.ARIMA have\n",
      "been deprecated in favor of statsmodels.tsa.arima.model.ARIMA (note the .\n",
      "between arima and model) and\n",
      "statsmodels.tsa.SARIMAX. These will be removed after the 0.12 release.\n",
      "\n",
      "statsmodels.tsa.arima.model.ARIMA makes use of the statespace framework and\n",
      "is both well tested and maintained.\n",
      "\n",
      "To silence this warning and continue using ARMA and ARIMA until they are\n",
      "removed, use:\n",
      "\n",
      "import warnings\n",
      "warnings.filterwarnings('ignore', 'statsmodels.tsa.arima_model.ARMA',\n",
      "                        FutureWarning)\n",
      "warnings.filterwarnings('ignore', 'statsmodels.tsa.arima_model.ARIMA',\n",
      "                        FutureWarning)\n",
      "\n",
      "  warnings.warn(ARIMA_DEPRECATION_WARN, FutureWarning)\n",
      "/Users/TJohn/opt/anaconda3/lib/python3.8/site-packages/statsmodels/tsa/arima_model.py:472: FutureWarning: \n",
      "statsmodels.tsa.arima_model.ARMA and statsmodels.tsa.arima_model.ARIMA have\n",
      "been deprecated in favor of statsmodels.tsa.arima.model.ARIMA (note the .\n",
      "between arima and model) and\n",
      "statsmodels.tsa.SARIMAX. These will be removed after the 0.12 release.\n",
      "\n",
      "statsmodels.tsa.arima.model.ARIMA makes use of the statespace framework and\n",
      "is both well tested and maintained.\n",
      "\n",
      "To silence this warning and continue using ARMA and ARIMA until they are\n",
      "removed, use:\n",
      "\n",
      "import warnings\n",
      "warnings.filterwarnings('ignore', 'statsmodels.tsa.arima_model.ARMA',\n",
      "                        FutureWarning)\n",
      "warnings.filterwarnings('ignore', 'statsmodels.tsa.arima_model.ARIMA',\n",
      "                        FutureWarning)\n",
      "\n",
      "  warnings.warn(ARIMA_DEPRECATION_WARN, FutureWarning)\n"
     ]
    }
   ],
   "source": [
    "# Instantiate best model.\n",
    "model = ARIMA(endog = y_train.astype(float).dropna(), # endog = Y variable\n",
    "              order = (2,1,2))\n",
    "\n",
    "# Fit ARIMA model.\n",
    "arima = model.fit()\n",
    "\n",
    "# Generate predictions based on test set.\n",
    "preds = model.predict(params = arima.params,\n",
    "                      start = y_test.index[0],\n",
    "                      end = y_test.index[-1])\n",
    "\n",
    "\n",
    "\n"
   ]
  },
  {
   "cell_type": "code",
   "execution_count": 30,
   "id": "2fea5dd8",
   "metadata": {},
   "outputs": [],
   "source": [
    "from sklearn.metrics import mean_absolute_error, mean_squared_error, r2_score"
   ]
  },
  {
   "cell_type": "code",
   "execution_count": 31,
   "id": "6bc64811",
   "metadata": {},
   "outputs": [
    {
     "data": {
      "text/plain": [
       "0.4249264917044401"
      ]
     },
     "execution_count": 31,
     "metadata": {},
     "output_type": "execute_result"
    }
   ],
   "source": [
    "mean_squared_error(y_test, preds)**.5"
   ]
  },
  {
   "cell_type": "code",
   "execution_count": 32,
   "id": "b17046e9",
   "metadata": {},
   "outputs": [
    {
     "data": {
      "text/plain": [
       "-0.005600576200489149"
      ]
     },
     "execution_count": 32,
     "metadata": {},
     "output_type": "execute_result"
    }
   ],
   "source": [
    "r2_score(y_test, preds)"
   ]
  },
  {
   "cell_type": "code",
   "execution_count": 33,
   "id": "f1599a06",
   "metadata": {},
   "outputs": [],
   "source": [
    "from sklearn.linear_model import LinearRegression, Ridge\n",
    "from sklearn.svm import SVR\n",
    "from sklearn.neighbors import KNeighborsRegressor\n"
   ]
  },
  {
   "cell_type": "code",
   "execution_count": 35,
   "id": "58a68bf2",
   "metadata": {},
   "outputs": [
    {
     "data": {
      "text/html": [
       "<div>\n",
       "<style scoped>\n",
       "    .dataframe tbody tr th:only-of-type {\n",
       "        vertical-align: middle;\n",
       "    }\n",
       "\n",
       "    .dataframe tbody tr th {\n",
       "        vertical-align: top;\n",
       "    }\n",
       "\n",
       "    .dataframe thead th {\n",
       "        text-align: right;\n",
       "    }\n",
       "</style>\n",
       "<table border=\"1\" class=\"dataframe\">\n",
       "  <thead>\n",
       "    <tr style=\"text-align: right;\">\n",
       "      <th></th>\n",
       "      <th>country_name</th>\n",
       "      <th>ccode</th>\n",
       "      <th>year</th>\n",
       "      <th>region</th>\n",
       "      <th>protest</th>\n",
       "      <th>protestnumber</th>\n",
       "      <th>protesterviolence</th>\n",
       "      <th>participants_category</th>\n",
       "      <th>stateresponse1</th>\n",
       "      <th>start_date</th>\n",
       "      <th>...</th>\n",
       "      <th>political behavior, process</th>\n",
       "      <th>price increases, tax policy</th>\n",
       "      <th>removal of politician</th>\n",
       "      <th>social restrictions</th>\n",
       "      <th>CC.EST</th>\n",
       "      <th>GE.EST</th>\n",
       "      <th>PV.NO.SRC</th>\n",
       "      <th>RL.EST</th>\n",
       "      <th>VA.EST</th>\n",
       "      <th>fiw_status</th>\n",
       "    </tr>\n",
       "  </thead>\n",
       "  <tbody>\n",
       "    <tr>\n",
       "      <th>0</th>\n",
       "      <td>Canada</td>\n",
       "      <td>20</td>\n",
       "      <td>2006</td>\n",
       "      <td>North America</td>\n",
       "      <td>1</td>\n",
       "      <td>1</td>\n",
       "      <td>1</td>\n",
       "      <td>3</td>\n",
       "      <td>crowd dispersal</td>\n",
       "      <td>2006-02-21</td>\n",
       "      <td>...</td>\n",
       "      <td>1</td>\n",
       "      <td>0</td>\n",
       "      <td>0</td>\n",
       "      <td>0</td>\n",
       "      <td>1.962554</td>\n",
       "      <td>1.895545</td>\n",
       "      <td>8.0</td>\n",
       "      <td>1.814535</td>\n",
       "      <td>1.415595</td>\n",
       "      <td>F</td>\n",
       "    </tr>\n",
       "    <tr>\n",
       "      <th>1</th>\n",
       "      <td>Canada</td>\n",
       "      <td>20</td>\n",
       "      <td>2007</td>\n",
       "      <td>North America</td>\n",
       "      <td>1</td>\n",
       "      <td>1</td>\n",
       "      <td>0</td>\n",
       "      <td>5</td>\n",
       "      <td>ignore</td>\n",
       "      <td>2007-06-29</td>\n",
       "      <td>...</td>\n",
       "      <td>1</td>\n",
       "      <td>0</td>\n",
       "      <td>0</td>\n",
       "      <td>0</td>\n",
       "      <td>2.000900</td>\n",
       "      <td>1.761394</td>\n",
       "      <td>8.0</td>\n",
       "      <td>1.814706</td>\n",
       "      <td>1.384672</td>\n",
       "      <td>F</td>\n",
       "    </tr>\n",
       "    <tr>\n",
       "      <th>2</th>\n",
       "      <td>Canada</td>\n",
       "      <td>20</td>\n",
       "      <td>2008</td>\n",
       "      <td>North America</td>\n",
       "      <td>1</td>\n",
       "      <td>1</td>\n",
       "      <td>1</td>\n",
       "      <td>3</td>\n",
       "      <td>crowd dispersal</td>\n",
       "      <td>2008-08-10</td>\n",
       "      <td>...</td>\n",
       "      <td>0</td>\n",
       "      <td>0</td>\n",
       "      <td>0</td>\n",
       "      <td>0</td>\n",
       "      <td>2.002689</td>\n",
       "      <td>1.791681</td>\n",
       "      <td>8.0</td>\n",
       "      <td>1.808290</td>\n",
       "      <td>1.407529</td>\n",
       "      <td>F</td>\n",
       "    </tr>\n",
       "  </tbody>\n",
       "</table>\n",
       "<p>3 rows × 26 columns</p>\n",
       "</div>"
      ],
      "text/plain": [
       "  country_name  ccode  year         region  protest  protestnumber  \\\n",
       "0       Canada     20  2006  North America        1              1   \n",
       "1       Canada     20  2007  North America        1              1   \n",
       "2       Canada     20  2008  North America        1              1   \n",
       "\n",
       "   protesterviolence  participants_category   stateresponse1  start_date  ...  \\\n",
       "0                  1                      3  crowd dispersal  2006-02-21  ...   \n",
       "1                  0                      5           ignore  2007-06-29  ...   \n",
       "2                  1                      3  crowd dispersal  2008-08-10  ...   \n",
       "\n",
       "  political behavior, process price increases, tax policy  \\\n",
       "0                           1                           0   \n",
       "1                           1                           0   \n",
       "2                           0                           0   \n",
       "\n",
       "   removal of politician  social restrictions    CC.EST    GE.EST  PV.NO.SRC  \\\n",
       "0                      0                    0  1.962554  1.895545        8.0   \n",
       "1                      0                    0  2.000900  1.761394        8.0   \n",
       "2                      0                    0  2.002689  1.791681        8.0   \n",
       "\n",
       "     RL.EST    VA.EST  fiw_status  \n",
       "0  1.814535  1.415595           F  \n",
       "1  1.814706  1.384672           F  \n",
       "2  1.808290  1.407529           F  \n",
       "\n",
       "[3 rows x 26 columns]"
      ]
     },
     "execution_count": 35,
     "metadata": {},
     "output_type": "execute_result"
    }
   ],
   "source": [
    "df.head(3)"
   ]
  },
  {
   "cell_type": "code",
   "execution_count": 37,
   "id": "716f235e-4978-4849-b38d-68612ec3496f",
   "metadata": {},
   "outputs": [],
   "source": [
    "fiw_target_df = categorical_to_encode(df, ['fiw_status'], ['region', 'stateresponse1'])"
   ]
  },
  {
   "cell_type": "code",
   "execution_count": 56,
   "id": "37b0da8f-df02-4079-b5ac-831267519e32",
   "metadata": {},
   "outputs": [],
   "source": [
    "fiw_kyrgyz_df = time_series_by_country(fiw_target_df, 'Kyrgyzstan')"
   ]
  },
  {
   "cell_type": "code",
   "execution_count": 60,
   "id": "2ee4f7f9-7b05-4ced-90f0-4ad9b6602bf0",
   "metadata": {},
   "outputs": [
    {
     "data": {
      "text/plain": [
       "Index(['protest', 'protestnumber', 'protesterviolence',\n",
       "       'participants_category', 'duration_int', 'labor wage dispute',\n",
       "       'land farm issue', 'police brutality', 'political behavior, process',\n",
       "       'price increases, tax policy', 'removal of politician',\n",
       "       'social restrictions', 'CC.EST', 'GE.EST', 'PV.NO.SRC', 'RL.EST',\n",
       "       'VA.EST', 'fiw_status', 'Asia', 'Central America', 'Europe', 'MENA',\n",
       "       'North America', 'Oceania', 'South America', 'arrests', 'beatings',\n",
       "       'crowd dispersal', 'ignore', 'killings', 'shootings', 'unknown'],\n",
       "      dtype='object')"
      ]
     },
     "execution_count": 60,
     "metadata": {},
     "output_type": "execute_result"
    }
   ],
   "source": [
    "fiw_kyrgyz_df.columns"
   ]
  },
  {
   "cell_type": "code",
   "execution_count": 61,
   "id": "82b72fed",
   "metadata": {},
   "outputs": [],
   "source": [
    "features = fiw_kyrgyz_df.drop(columns = ['GE.EST']).columns\n",
    "y = fiw_kyrgyz_df['fiw_status']\n",
    "X = fiw_kyrgyz_df[features]"
   ]
  },
  {
   "cell_type": "code",
   "execution_count": 63,
   "id": "714fe780",
   "metadata": {},
   "outputs": [],
   "source": [
    "X_train, X_test, y_train, y_test = train_test_split(X, y, test_size=.1, shuffle=True)"
   ]
  },
  {
   "cell_type": "code",
   "execution_count": 64,
   "id": "49ae1a24",
   "metadata": {},
   "outputs": [],
   "source": [
    "svr = SVR(gamma = 'scale', kernel = 'linear', C=10, epsilon=.05)\n",
    "ridge = Ridge(random_state = 48, tol=1e-3, normalize=False, solver='auto')\n",
    "neighbor = KNeighborsRegressor(n_neighbors = 5)\n",
    "linreg = LinearRegression()"
   ]
  },
  {
   "cell_type": "code",
   "execution_count": 65,
   "id": "fc4f94fd",
   "metadata": {},
   "outputs": [],
   "source": [
    "svr_yhat, ridge_yhat, neighbor_yhat, linreg_yhat = [], [], [], []"
   ]
  },
  {
   "cell_type": "code",
   "execution_count": 66,
   "id": "38d73e34",
   "metadata": {},
   "outputs": [],
   "source": [
    "models_dict = {'SVR' : [svr, svr_yhat], \n",
    "                'Ridge' : [ridge, ridge_yhat],  \n",
    "                'KNN' : [neighbor, neighbor_yhat], \n",
    "                'Linear Regression' : [linreg, linreg_yhat]}"
   ]
  },
  {
   "cell_type": "code",
   "execution_count": null,
   "id": "d47f2246",
   "metadata": {},
   "outputs": [],
   "source": []
  },
  {
   "cell_type": "code",
   "execution_count": 67,
   "id": "2f57116c",
   "metadata": {},
   "outputs": [
    {
     "data": {
      "text/plain": [
       "DecisionTreeClassifier(random_state=42)"
      ]
     },
     "execution_count": 67,
     "metadata": {},
     "output_type": "execute_result"
    }
   ],
   "source": [
    "tree = DecisionTreeClassifier(random_state=42)\n",
    "tree.fit(X_train, y_train)"
   ]
  },
  {
   "cell_type": "code",
   "execution_count": 68,
   "id": "cbce0283",
   "metadata": {},
   "outputs": [
    {
     "data": {
      "text/plain": [
       "1.0"
      ]
     },
     "execution_count": 68,
     "metadata": {},
     "output_type": "execute_result"
    }
   ],
   "source": [
    "tree.score(X_train, y_train)"
   ]
  },
  {
   "cell_type": "code",
   "execution_count": 69,
   "id": "4cb2ffed",
   "metadata": {},
   "outputs": [
    {
     "data": {
      "text/plain": [
       "1.0"
      ]
     },
     "execution_count": 69,
     "metadata": {},
     "output_type": "execute_result"
    }
   ],
   "source": [
    "tree.score(X_test, y_test)"
   ]
  },
  {
   "cell_type": "code",
   "execution_count": null,
   "id": "cd5c1752",
   "metadata": {},
   "outputs": [],
   "source": []
  },
  {
   "cell_type": "code",
   "execution_count": null,
   "id": "137d023a",
   "metadata": {},
   "outputs": [],
   "source": [
    "\n"
   ]
  }
 ],
 "metadata": {
  "kernelspec": {
   "display_name": "Python 3",
   "language": "python",
   "name": "python3"
  },
  "language_info": {
   "codemirror_mode": {
    "name": "ipython",
    "version": 3
   },
   "file_extension": ".py",
   "mimetype": "text/x-python",
   "name": "python",
   "nbconvert_exporter": "python",
   "pygments_lexer": "ipython3",
   "version": "3.8.8"
  }
 },
 "nbformat": 4,
 "nbformat_minor": 5
}
