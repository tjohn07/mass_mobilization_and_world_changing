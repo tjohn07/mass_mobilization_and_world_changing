{
 "cells": [
  {
   "cell_type": "code",
   "execution_count": 30,
   "id": "7b45fe60",
   "metadata": {},
   "outputs": [],
   "source": [
    "import pandas as pd\n",
    "import numpy as np"
   ]
  },
  {
   "cell_type": "code",
   "execution_count": 31,
   "id": "086f0136",
   "metadata": {},
   "outputs": [],
   "source": [
    "headlines = pd.read_csv('./data/raw/abcnews-date-text.csv')\n",
    "mm = pd.read_csv('./data/raw/dataverse_files/mmALL_073120_csv.csv')\n",
    "wgi = pd.read_csv('./data/raw/Data_Extract_From_Worldwide_Governance_Indicators/3f2d17f2-cc70-48f7-8fb9-ab3d88c6b0bd_Data.csv')\n"
   ]
  },
  {
   "cell_type": "code",
   "execution_count": 32,
   "id": "08fd8802",
   "metadata": {},
   "outputs": [],
   "source": [
    "headlines['publish_date']=pd.to_datetime(headlines['publish_date'], format=\"%Y%m%d\")"
   ]
  },
  {
   "cell_type": "code",
   "execution_count": 33,
   "id": "46a61777",
   "metadata": {},
   "outputs": [],
   "source": [
    "headlines.set_index('publish_date', drop=True, inplace=True)"
   ]
  },
  {
   "cell_type": "code",
   "execution_count": 34,
   "id": "0dd15e3a",
   "metadata": {},
   "outputs": [
    {
     "data": {
      "text/html": [
       "<div>\n",
       "<style scoped>\n",
       "    .dataframe tbody tr th:only-of-type {\n",
       "        vertical-align: middle;\n",
       "    }\n",
       "\n",
       "    .dataframe tbody tr th {\n",
       "        vertical-align: top;\n",
       "    }\n",
       "\n",
       "    .dataframe thead th {\n",
       "        text-align: right;\n",
       "    }\n",
       "</style>\n",
       "<table border=\"1\" class=\"dataframe\">\n",
       "  <thead>\n",
       "    <tr style=\"text-align: right;\">\n",
       "      <th></th>\n",
       "      <th>headline_text</th>\n",
       "    </tr>\n",
       "    <tr>\n",
       "      <th>publish_date</th>\n",
       "      <th></th>\n",
       "    </tr>\n",
       "  </thead>\n",
       "  <tbody>\n",
       "    <tr>\n",
       "      <th>2003-02-19</th>\n",
       "      <td>aba decides against community broadcasting lic...</td>\n",
       "    </tr>\n",
       "    <tr>\n",
       "      <th>2003-02-19</th>\n",
       "      <td>act fire witnesses must be aware of defamation</td>\n",
       "    </tr>\n",
       "    <tr>\n",
       "      <th>2003-02-19</th>\n",
       "      <td>a g calls for infrastructure protection summit</td>\n",
       "    </tr>\n",
       "    <tr>\n",
       "      <th>2003-02-19</th>\n",
       "      <td>air nz staff in aust strike for pay rise</td>\n",
       "    </tr>\n",
       "    <tr>\n",
       "      <th>2003-02-19</th>\n",
       "      <td>air nz strike to affect australian travellers</td>\n",
       "    </tr>\n",
       "  </tbody>\n",
       "</table>\n",
       "</div>"
      ],
      "text/plain": [
       "                                                  headline_text\n",
       "publish_date                                                   \n",
       "2003-02-19    aba decides against community broadcasting lic...\n",
       "2003-02-19       act fire witnesses must be aware of defamation\n",
       "2003-02-19       a g calls for infrastructure protection summit\n",
       "2003-02-19             air nz staff in aust strike for pay rise\n",
       "2003-02-19        air nz strike to affect australian travellers"
      ]
     },
     "execution_count": 34,
     "metadata": {},
     "output_type": "execute_result"
    }
   ],
   "source": [
    "headlines.head()"
   ]
  },
  {
   "cell_type": "markdown",
   "id": "adb08deb",
   "metadata": {},
   "source": [
    "#### Comparing country names in wgi and mm. \n",
    "\n",
    "The following countries are not represented the same in wgi, and I will check for spelling discrepancies:\n",
    "* 'Venezuela', 'Macedonia', 'Bosnia', 'Yugoslavia',\n",
    "       'Serbia and Montenegro', 'Russia', 'Cape Verde', 'Gambia',\n",
    "       'Ivory Coast', 'Congo Brazzaville', 'Congo Kinshasa', 'Swaziland',\n",
    "       'Iran', 'Egypt', 'Syria', 'Yemen', 'United Arab Emirate',\n",
    "       'Kyrgyzstan', 'Taiwan', 'North Korea', 'South Korea',\n",
    "       'Timor Leste'\n",
    "       * rename wgi 'Venezuela, RB' to 'Venezuela'\n",
    "       * rename mm Macedonia to North Macedonia\n",
    "       * rename mm Bosnia to 'Bosnia and Herzegovina'\n",
    "       * rename mm Yugoslavia to Serbia\n",
    "       * rename mm Serbia and Montenegro to ??? Serbia? Montenegro? \n",
    "       * rename mm Russia to Russian Federation\n",
    "       * rename mm cape verde to Cabo Verde\n",
    "       * rename mm Gambia to 'Gambia, The'\n",
    "       * rename mm Ivory Coast to  'Cote d'Ivoire'\n",
    "       * rename mm Congo Brazzaville to 'Congo, Rep'\n",
    "       * rename mm Congo Kinshasa to 'Congo, Dem. Rep.'\n",
    "       * rename mm Swaziland to 'Eswatini'\n",
    "       * rename wgi 'Iran, Islamic Rep.' to 'Iran'\n",
    "       * rename wgi 'Egypt, Arab Rep.' to 'Egypt'\n",
    "       * rename wgi Syrian Arab Republic to 'Syria'\n",
    "       * rename wgi 'Yemen, Rep.' to 'Yemen'\n",
    "       * rename mm 'United Arab Emirate' to 'United Arab Emirates'\n",
    "       * rename wgi 'Kyrgyz Republic' to 'Kyrgyzstan'\n",
    "       * rename wgi 'Taiwan, China' to 'Taiwan'\n",
    "       * rename wgi \"Korea, Dem. People's Rep.\" to 'North Korea'\n",
    "       * rename wgi 'Korea, Rep.' to 'South Korea'\n",
    "       * rename mm 'Timor Leste' to 'Timor-Leste'\n",
    "       \n",
    "       \n",
    "       \n",
    "       \n",
    "       \n"
   ]
  },
  {
   "cell_type": "code",
   "execution_count": 35,
   "id": "024da88b",
   "metadata": {},
   "outputs": [
    {
     "data": {
      "text/html": [
       "<div>\n",
       "<style scoped>\n",
       "    .dataframe tbody tr th:only-of-type {\n",
       "        vertical-align: middle;\n",
       "    }\n",
       "\n",
       "    .dataframe tbody tr th {\n",
       "        vertical-align: top;\n",
       "    }\n",
       "\n",
       "    .dataframe thead th {\n",
       "        text-align: right;\n",
       "    }\n",
       "</style>\n",
       "<table border=\"1\" class=\"dataframe\">\n",
       "  <thead>\n",
       "    <tr style=\"text-align: right;\">\n",
       "      <th></th>\n",
       "      <th>id</th>\n",
       "      <th>country</th>\n",
       "      <th>ccode</th>\n",
       "      <th>year</th>\n",
       "      <th>region</th>\n",
       "      <th>protest</th>\n",
       "      <th>protestnumber</th>\n",
       "      <th>startday</th>\n",
       "      <th>startmonth</th>\n",
       "      <th>startyear</th>\n",
       "      <th>...</th>\n",
       "      <th>protesterdemand4</th>\n",
       "      <th>stateresponse1</th>\n",
       "      <th>stateresponse2</th>\n",
       "      <th>stateresponse3</th>\n",
       "      <th>stateresponse4</th>\n",
       "      <th>stateresponse5</th>\n",
       "      <th>stateresponse6</th>\n",
       "      <th>stateresponse7</th>\n",
       "      <th>sources</th>\n",
       "      <th>notes</th>\n",
       "    </tr>\n",
       "  </thead>\n",
       "  <tbody>\n",
       "    <tr>\n",
       "      <th>0</th>\n",
       "      <td>201990001</td>\n",
       "      <td>Canada</td>\n",
       "      <td>20</td>\n",
       "      <td>1990</td>\n",
       "      <td>North America</td>\n",
       "      <td>1</td>\n",
       "      <td>1</td>\n",
       "      <td>15.0</td>\n",
       "      <td>1.0</td>\n",
       "      <td>1990.0</td>\n",
       "      <td>...</td>\n",
       "      <td>NaN</td>\n",
       "      <td>ignore</td>\n",
       "      <td>NaN</td>\n",
       "      <td>NaN</td>\n",
       "      <td>NaN</td>\n",
       "      <td>NaN</td>\n",
       "      <td>NaN</td>\n",
       "      <td>NaN</td>\n",
       "      <td>1. great canadian train journeys into history;...</td>\n",
       "      <td>canada s railway passenger system was finally ...</td>\n",
       "    </tr>\n",
       "    <tr>\n",
       "      <th>1</th>\n",
       "      <td>201990002</td>\n",
       "      <td>Canada</td>\n",
       "      <td>20</td>\n",
       "      <td>1990</td>\n",
       "      <td>North America</td>\n",
       "      <td>1</td>\n",
       "      <td>2</td>\n",
       "      <td>25.0</td>\n",
       "      <td>6.0</td>\n",
       "      <td>1990.0</td>\n",
       "      <td>...</td>\n",
       "      <td>NaN</td>\n",
       "      <td>ignore</td>\n",
       "      <td>NaN</td>\n",
       "      <td>NaN</td>\n",
       "      <td>NaN</td>\n",
       "      <td>NaN</td>\n",
       "      <td>NaN</td>\n",
       "      <td>NaN</td>\n",
       "      <td>1. autonomy s cry revived in quebec the new yo...</td>\n",
       "      <td>protestors were only identified as young peopl...</td>\n",
       "    </tr>\n",
       "    <tr>\n",
       "      <th>2</th>\n",
       "      <td>201990003</td>\n",
       "      <td>Canada</td>\n",
       "      <td>20</td>\n",
       "      <td>1990</td>\n",
       "      <td>North America</td>\n",
       "      <td>1</td>\n",
       "      <td>3</td>\n",
       "      <td>1.0</td>\n",
       "      <td>7.0</td>\n",
       "      <td>1990.0</td>\n",
       "      <td>...</td>\n",
       "      <td>NaN</td>\n",
       "      <td>ignore</td>\n",
       "      <td>NaN</td>\n",
       "      <td>NaN</td>\n",
       "      <td>NaN</td>\n",
       "      <td>NaN</td>\n",
       "      <td>NaN</td>\n",
       "      <td>NaN</td>\n",
       "      <td>1. quebec protest after queen calls for unity ...</td>\n",
       "      <td>the queen, after calling on canadians to remai...</td>\n",
       "    </tr>\n",
       "    <tr>\n",
       "      <th>3</th>\n",
       "      <td>201990004</td>\n",
       "      <td>Canada</td>\n",
       "      <td>20</td>\n",
       "      <td>1990</td>\n",
       "      <td>North America</td>\n",
       "      <td>1</td>\n",
       "      <td>4</td>\n",
       "      <td>12.0</td>\n",
       "      <td>7.0</td>\n",
       "      <td>1990.0</td>\n",
       "      <td>...</td>\n",
       "      <td>NaN</td>\n",
       "      <td>accomodation</td>\n",
       "      <td>NaN</td>\n",
       "      <td>NaN</td>\n",
       "      <td>NaN</td>\n",
       "      <td>NaN</td>\n",
       "      <td>NaN</td>\n",
       "      <td>NaN</td>\n",
       "      <td>1. indians gather as siege intensifies; armed ...</td>\n",
       "      <td>canada s federal government has agreed to acqu...</td>\n",
       "    </tr>\n",
       "    <tr>\n",
       "      <th>4</th>\n",
       "      <td>201990005</td>\n",
       "      <td>Canada</td>\n",
       "      <td>20</td>\n",
       "      <td>1990</td>\n",
       "      <td>North America</td>\n",
       "      <td>1</td>\n",
       "      <td>5</td>\n",
       "      <td>14.0</td>\n",
       "      <td>8.0</td>\n",
       "      <td>1990.0</td>\n",
       "      <td>...</td>\n",
       "      <td>NaN</td>\n",
       "      <td>crowd dispersal</td>\n",
       "      <td>arrests</td>\n",
       "      <td>accomodation</td>\n",
       "      <td>NaN</td>\n",
       "      <td>NaN</td>\n",
       "      <td>NaN</td>\n",
       "      <td>NaN</td>\n",
       "      <td>1. dozens hurt in mohawk blockade protest the ...</td>\n",
       "      <td>protests were directed against the state due t...</td>\n",
       "    </tr>\n",
       "  </tbody>\n",
       "</table>\n",
       "<p>5 rows × 31 columns</p>\n",
       "</div>"
      ],
      "text/plain": [
       "          id country  ccode  year         region  protest  protestnumber  \\\n",
       "0  201990001  Canada     20  1990  North America        1              1   \n",
       "1  201990002  Canada     20  1990  North America        1              2   \n",
       "2  201990003  Canada     20  1990  North America        1              3   \n",
       "3  201990004  Canada     20  1990  North America        1              4   \n",
       "4  201990005  Canada     20  1990  North America        1              5   \n",
       "\n",
       "   startday  startmonth  startyear  ...  protesterdemand4   stateresponse1  \\\n",
       "0      15.0         1.0     1990.0  ...               NaN           ignore   \n",
       "1      25.0         6.0     1990.0  ...               NaN           ignore   \n",
       "2       1.0         7.0     1990.0  ...               NaN           ignore   \n",
       "3      12.0         7.0     1990.0  ...               NaN     accomodation   \n",
       "4      14.0         8.0     1990.0  ...               NaN  crowd dispersal   \n",
       "\n",
       "   stateresponse2  stateresponse3 stateresponse4 stateresponse5  \\\n",
       "0             NaN             NaN            NaN            NaN   \n",
       "1             NaN             NaN            NaN            NaN   \n",
       "2             NaN             NaN            NaN            NaN   \n",
       "3             NaN             NaN            NaN            NaN   \n",
       "4         arrests    accomodation            NaN            NaN   \n",
       "\n",
       "  stateresponse6 stateresponse7  \\\n",
       "0            NaN            NaN   \n",
       "1            NaN            NaN   \n",
       "2            NaN            NaN   \n",
       "3            NaN            NaN   \n",
       "4            NaN            NaN   \n",
       "\n",
       "                                             sources  \\\n",
       "0  1. great canadian train journeys into history;...   \n",
       "1  1. autonomy s cry revived in quebec the new yo...   \n",
       "2  1. quebec protest after queen calls for unity ...   \n",
       "3  1. indians gather as siege intensifies; armed ...   \n",
       "4  1. dozens hurt in mohawk blockade protest the ...   \n",
       "\n",
       "                                               notes  \n",
       "0  canada s railway passenger system was finally ...  \n",
       "1  protestors were only identified as young peopl...  \n",
       "2  the queen, after calling on canadians to remai...  \n",
       "3  canada s federal government has agreed to acqu...  \n",
       "4  protests were directed against the state due t...  \n",
       "\n",
       "[5 rows x 31 columns]"
      ]
     },
     "execution_count": 35,
     "metadata": {},
     "output_type": "execute_result"
    }
   ],
   "source": [
    "mm.head()"
   ]
  },
  {
   "cell_type": "code",
   "execution_count": 36,
   "id": "d61fc259",
   "metadata": {},
   "outputs": [
    {
     "data": {
      "text/html": [
       "<div>\n",
       "<style scoped>\n",
       "    .dataframe tbody tr th:only-of-type {\n",
       "        vertical-align: middle;\n",
       "    }\n",
       "\n",
       "    .dataframe tbody tr th {\n",
       "        vertical-align: top;\n",
       "    }\n",
       "\n",
       "    .dataframe thead th {\n",
       "        text-align: right;\n",
       "    }\n",
       "</style>\n",
       "<table border=\"1\" class=\"dataframe\">\n",
       "  <thead>\n",
       "    <tr style=\"text-align: right;\">\n",
       "      <th></th>\n",
       "      <th>Country Name</th>\n",
       "      <th>Country Code</th>\n",
       "      <th>Series Name</th>\n",
       "      <th>Series Code</th>\n",
       "      <th>1996 [YR1996]</th>\n",
       "      <th>1998 [YR1998]</th>\n",
       "      <th>2000 [YR2000]</th>\n",
       "      <th>2002 [YR2002]</th>\n",
       "      <th>2003 [YR2003]</th>\n",
       "      <th>2004 [YR2004]</th>\n",
       "      <th>...</th>\n",
       "      <th>2011 [YR2011]</th>\n",
       "      <th>2012 [YR2012]</th>\n",
       "      <th>2013 [YR2013]</th>\n",
       "      <th>2014 [YR2014]</th>\n",
       "      <th>2015 [YR2015]</th>\n",
       "      <th>2016 [YR2016]</th>\n",
       "      <th>2017 [YR2017]</th>\n",
       "      <th>2018 [YR2018]</th>\n",
       "      <th>2019 [YR2019]</th>\n",
       "      <th>2020 [YR2020]</th>\n",
       "    </tr>\n",
       "  </thead>\n",
       "  <tbody>\n",
       "    <tr>\n",
       "      <th>0</th>\n",
       "      <td>Afghanistan</td>\n",
       "      <td>AFG</td>\n",
       "      <td>Control of Corruption: Estimate</td>\n",
       "      <td>CC.EST</td>\n",
       "      <td>-1.291705</td>\n",
       "      <td>-1.180848</td>\n",
       "      <td>-1.29538</td>\n",
       "      <td>-1.263366</td>\n",
       "      <td>-1.351042</td>\n",
       "      <td>-1.345281</td>\n",
       "      <td>...</td>\n",
       "      <td>-1.579174</td>\n",
       "      <td>-1.419741</td>\n",
       "      <td>-1.43651</td>\n",
       "      <td>-1.354829</td>\n",
       "      <td>-1.342216</td>\n",
       "      <td>-1.526172</td>\n",
       "      <td>-1.515626</td>\n",
       "      <td>-1.487624</td>\n",
       "      <td>-1.400733</td>\n",
       "      <td>-1.475405</td>\n",
       "    </tr>\n",
       "    <tr>\n",
       "      <th>1</th>\n",
       "      <td>Afghanistan</td>\n",
       "      <td>AFG</td>\n",
       "      <td>Control of Corruption: Number of Sources</td>\n",
       "      <td>CC.NO.SRC</td>\n",
       "      <td>2</td>\n",
       "      <td>2</td>\n",
       "      <td>2</td>\n",
       "      <td>2</td>\n",
       "      <td>3</td>\n",
       "      <td>5</td>\n",
       "      <td>...</td>\n",
       "      <td>9</td>\n",
       "      <td>10</td>\n",
       "      <td>11</td>\n",
       "      <td>11</td>\n",
       "      <td>11</td>\n",
       "      <td>10</td>\n",
       "      <td>10</td>\n",
       "      <td>10</td>\n",
       "      <td>10</td>\n",
       "      <td>9</td>\n",
       "    </tr>\n",
       "    <tr>\n",
       "      <th>2</th>\n",
       "      <td>Afghanistan</td>\n",
       "      <td>AFG</td>\n",
       "      <td>Control of Corruption: Percentile Rank</td>\n",
       "      <td>CC.PER.RNK</td>\n",
       "      <td>4.301075</td>\n",
       "      <td>9.793815</td>\n",
       "      <td>5.076142</td>\n",
       "      <td>5.050505</td>\n",
       "      <td>5.050505</td>\n",
       "      <td>5.853659</td>\n",
       "      <td>...</td>\n",
       "      <td>0.9478673</td>\n",
       "      <td>2.369668</td>\n",
       "      <td>1.895735</td>\n",
       "      <td>5.288462</td>\n",
       "      <td>6.25</td>\n",
       "      <td>3.365385</td>\n",
       "      <td>3.846154</td>\n",
       "      <td>4.807693</td>\n",
       "      <td>6.730769</td>\n",
       "      <td>5.288462</td>\n",
       "    </tr>\n",
       "    <tr>\n",
       "      <th>3</th>\n",
       "      <td>Afghanistan</td>\n",
       "      <td>AFG</td>\n",
       "      <td>Control of Corruption: Percentile Rank, Lower ...</td>\n",
       "      <td>CC.PER.RNK.LOWER</td>\n",
       "      <td>0</td>\n",
       "      <td>0</td>\n",
       "      <td>0</td>\n",
       "      <td>0</td>\n",
       "      <td>0</td>\n",
       "      <td>0</td>\n",
       "      <td>...</td>\n",
       "      <td>0</td>\n",
       "      <td>0</td>\n",
       "      <td>0</td>\n",
       "      <td>0.4807692</td>\n",
       "      <td>1.442308</td>\n",
       "      <td>0</td>\n",
       "      <td>0</td>\n",
       "      <td>0</td>\n",
       "      <td>1.923077</td>\n",
       "      <td>0</td>\n",
       "    </tr>\n",
       "    <tr>\n",
       "      <th>4</th>\n",
       "      <td>Afghanistan</td>\n",
       "      <td>AFG</td>\n",
       "      <td>Control of Corruption: Percentile Rank, Upper ...</td>\n",
       "      <td>CC.PER.RNK.UPPER</td>\n",
       "      <td>27.41936</td>\n",
       "      <td>31.4433</td>\n",
       "      <td>29.44162</td>\n",
       "      <td>31.81818</td>\n",
       "      <td>18.18182</td>\n",
       "      <td>14.14634</td>\n",
       "      <td>...</td>\n",
       "      <td>5.687204</td>\n",
       "      <td>11.84834</td>\n",
       "      <td>9.952606</td>\n",
       "      <td>12.5</td>\n",
       "      <td>12.5</td>\n",
       "      <td>9.615385</td>\n",
       "      <td>9.615385</td>\n",
       "      <td>10.09615</td>\n",
       "      <td>11.53846</td>\n",
       "      <td>11.05769</td>\n",
       "    </tr>\n",
       "  </tbody>\n",
       "</table>\n",
       "<p>5 rows × 26 columns</p>\n",
       "</div>"
      ],
      "text/plain": [
       "  Country Name Country Code  \\\n",
       "0  Afghanistan          AFG   \n",
       "1  Afghanistan          AFG   \n",
       "2  Afghanistan          AFG   \n",
       "3  Afghanistan          AFG   \n",
       "4  Afghanistan          AFG   \n",
       "\n",
       "                                         Series Name       Series Code  \\\n",
       "0                    Control of Corruption: Estimate            CC.EST   \n",
       "1           Control of Corruption: Number of Sources         CC.NO.SRC   \n",
       "2             Control of Corruption: Percentile Rank        CC.PER.RNK   \n",
       "3  Control of Corruption: Percentile Rank, Lower ...  CC.PER.RNK.LOWER   \n",
       "4  Control of Corruption: Percentile Rank, Upper ...  CC.PER.RNK.UPPER   \n",
       "\n",
       "  1996 [YR1996] 1998 [YR1998] 2000 [YR2000] 2002 [YR2002] 2003 [YR2003]  \\\n",
       "0     -1.291705     -1.180848      -1.29538     -1.263366     -1.351042   \n",
       "1             2             2             2             2             3   \n",
       "2      4.301075      9.793815      5.076142      5.050505      5.050505   \n",
       "3             0             0             0             0             0   \n",
       "4      27.41936       31.4433      29.44162      31.81818      18.18182   \n",
       "\n",
       "  2004 [YR2004]  ... 2011 [YR2011] 2012 [YR2012] 2013 [YR2013] 2014 [YR2014]  \\\n",
       "0     -1.345281  ...     -1.579174     -1.419741      -1.43651     -1.354829   \n",
       "1             5  ...             9            10            11            11   \n",
       "2      5.853659  ...     0.9478673      2.369668      1.895735      5.288462   \n",
       "3             0  ...             0             0             0     0.4807692   \n",
       "4      14.14634  ...      5.687204      11.84834      9.952606          12.5   \n",
       "\n",
       "  2015 [YR2015] 2016 [YR2016] 2017 [YR2017] 2018 [YR2018] 2019 [YR2019]  \\\n",
       "0     -1.342216     -1.526172     -1.515626     -1.487624     -1.400733   \n",
       "1            11            10            10            10            10   \n",
       "2          6.25      3.365385      3.846154      4.807693      6.730769   \n",
       "3      1.442308             0             0             0      1.923077   \n",
       "4          12.5      9.615385      9.615385      10.09615      11.53846   \n",
       "\n",
       "  2020 [YR2020]  \n",
       "0     -1.475405  \n",
       "1             9  \n",
       "2      5.288462  \n",
       "3             0  \n",
       "4      11.05769  \n",
       "\n",
       "[5 rows x 26 columns]"
      ]
     },
     "execution_count": 36,
     "metadata": {},
     "output_type": "execute_result"
    }
   ],
   "source": [
    "wgi.head()"
   ]
  },
  {
   "cell_type": "code",
   "execution_count": 37,
   "id": "19de1ee1",
   "metadata": {},
   "outputs": [
    {
     "data": {
      "text/plain": [
       "['Venezuela', 'Germany West', 'Germany East', 'Czechoslovakia', 'Macedonia']"
      ]
     },
     "execution_count": 37,
     "metadata": {},
     "output_type": "execute_result"
    }
   ],
   "source": [
    "# comparing country names in wgi and mm. \n",
    "\n",
    "missing_countries_not_in_mm = list(mm[~mm['country'].isin(wgi['Country Name'])]['country'].unique())\n",
    "missing_countries_not_in_mm[:5]"
   ]
  },
  {
   "cell_type": "code",
   "execution_count": 38,
   "id": "bacd3fcb",
   "metadata": {},
   "outputs": [
    {
     "data": {
      "text/plain": [
       "['American Samoa', 'Andorra', 'Anguilla', 'Antigua and Barbuda', 'Aruba']"
      ]
     },
     "execution_count": 38,
     "metadata": {},
     "output_type": "execute_result"
    }
   ],
   "source": [
    "missing_countries_not_in_wgi = list(wgi[~wgi['Country Name'].isin(mm['country'])]['Country Name'].unique())\n",
    "missing_countries_not_in_wgi[:5]"
   ]
  },
  {
   "cell_type": "code",
   "execution_count": 39,
   "id": "a4ad302c",
   "metadata": {},
   "outputs": [],
   "source": [
    "def clean_mass_mob_df(df=mm):\n",
    "    \n",
    "    #Drop nulls in startday/month/year and endday/month/year:\n",
    "    df = df.drop(df[df[\"startyear\"].isnull()].index)\n",
    "    df.reset_index(inplace=True)\n",
    "    \n",
    "    #set startyear/month/day and endday/month/year to int, then string, in preparation for concatenation\n",
    "    df = df.astype({\"startyear\": int, \"startmonth\": int, 'startday': int, \"endyear\": int, \"endmonth\": int, 'endday': int})\n",
    "    df = df.astype({\"startyear\": str, \"startmonth\": str, 'startday': str, \"endyear\": str, \"endmonth\": str, 'endday': str})\n",
    "    \n",
    "    #create start date and end date columns and set as datetime object\n",
    "    df['start_date'] = df['startyear'] + '-' + df['startmonth'] + '-'+ df['startday']\n",
    "    df['end_date'] = df['endyear'] + '-' + df['endmonth'] + '-'+ df['endday']\n",
    "    df['start_date'] = pd.to_datetime(df['start_date'], yearfirst=True)\n",
    "    df['end_date'] = pd.to_datetime(df['end_date'], yearfirst=True)\n",
    "    \n",
    "    #setting df to only include dates between 2002 and 2020.\n",
    "    df = df[(df['start_date']>'2001') & (df['start_date']<'2021')]\n",
    "    \n",
    "    #engineer a column to give duration of protest\n",
    "    df['duration'] = df['end_date'] - df['start_date']\n",
    "    \n",
    "    #fill nulls with 'unknown'\n",
    "    df.fillna('unknown', inplace=True)\n",
    "    \n",
    "    #resetting index\n",
    "    df.reset_index(drop=True,inplace=True)\n",
    "    \n",
    "    #replacing country names in mm to align with wgi country names\n",
    "\n",
    "    country_changes_mm = {'Macedonia': 'North Macedonia',\n",
    "                          'Bosnia':'Bosnia and Herzegovina',\n",
    "                          'Yugoslavia':'Serbia',\n",
    "                          'Serbia and Montenegro': 'Montenegro',\n",
    "                          'Russia': 'Russian Federation',\n",
    "                          'Cape Verde': 'Cabo Verde',\n",
    "                          'Gambia': 'Gambia, The',\n",
    "                          'Ivory Coast': 'Cote d\\'Ivoire',\n",
    "                          'Congo Brazzaville': 'Congo, Rep.',\n",
    "                          'Congo Kinshasa':'Congo, Dem. Rep.',\n",
    "                          'Swaziland': 'Eswatini',\n",
    "                          'United Arab Emirate': 'United Arab Emirates',\n",
    "                          'Timor Leste':'Timor-Leste'}\n",
    "\n",
    "    for name in mm['country']:\n",
    "        for k, v in country_changes_mm.items():\n",
    "            if name == k:\n",
    "                mm.replace({'country': country_changes_mm}, inplace=True)\n",
    "        \n",
    "    #drop original date columns\n",
    "    df.drop(columns = ['startday', 'startmonth', 'startyear', 'endday', 'endmonth', 'endyear', 'index'], inplace=True)\n",
    "    \n",
    "    return df\n",
    "    "
   ]
  },
  {
   "cell_type": "code",
   "execution_count": 40,
   "id": "d444c1dd",
   "metadata": {},
   "outputs": [],
   "source": [
    "mm = clean_mass_mob_df(mm)"
   ]
  },
  {
   "cell_type": "code",
   "execution_count": 41,
   "id": "5e4244ae",
   "metadata": {},
   "outputs": [
    {
     "data": {
      "text/plain": [
       "Index(['United Kingdom', 'Ireland', 'Kenya', 'Germany', 'China', 'France',\n",
       "       'Greece', 'Bangladesh', 'Thailand', 'Venezuela', 'South Korea', 'India',\n",
       "       'Namibia', 'Russia', 'Brazil', 'Kyrgyzstan', 'Nigeria', 'Yemen',\n",
       "       'Pakistan', 'Italy', 'Ukraine', 'Spain', 'Iraq', 'Nepal', 'Cyprus',\n",
       "       'Chile', 'Egypt', 'Lebanon', 'Malaysia', 'Turkey', 'Peru', 'Guinea',\n",
       "       'Iran', 'Cuba', 'Guatemala', 'Algeria', 'Ecuador', 'Romania',\n",
       "       'Madagascar', 'Mexico', 'Taiwan', 'Haiti', 'Azerbaijan', 'Colombia',\n",
       "       'South Africa', 'Armenia', 'Honduras', 'Indonesia', 'Moldova',\n",
       "       'Swaziland', 'Argentina', 'Burundi', 'Bolivia', 'Togo', 'Macedonia',\n",
       "       'Mauritania', 'Myanmar', 'Liberia', 'Zimbabwe', 'Sudan'],\n",
       "      dtype='object')"
      ]
     },
     "execution_count": 41,
     "metadata": {},
     "output_type": "execute_result"
    }
   ],
   "source": [
    "# checking for 60 countries with most appearances in mass mobilization dataset\n",
    "\n",
    "mm_country_vals = pd.DataFrame(mm['country'].value_counts()[:60])['country'].index\n",
    "mm_country_vals"
   ]
  },
  {
   "cell_type": "code",
   "execution_count": 42,
   "id": "f109d7c3",
   "metadata": {},
   "outputs": [
    {
     "data": {
      "text/plain": [
       "count    10573.000000\n",
       "mean      2011.308143\n",
       "std          5.458907\n",
       "min       2001.000000\n",
       "25%       2007.000000\n",
       "50%       2012.000000\n",
       "75%       2016.000000\n",
       "max       2020.000000\n",
       "Name: year, dtype: float64"
      ]
     },
     "execution_count": 42,
     "metadata": {},
     "output_type": "execute_result"
    }
   ],
   "source": [
    "mm['year'].describe()"
   ]
  },
  {
   "cell_type": "markdown",
   "id": "25f064f3",
   "metadata": {},
   "source": [
    "For my initial modeling, I will create 6 models based on their freedom rating in 2006:\n",
    "1. A country that was classified as 'Free' in 2006 and appeared frequently the mass mobilization dataset.\n",
    "2. A country that was classified as 'Free' in 2006 and appeared sparsely in the mass mobilization dataset.\n",
    "3. A country that was classified as 'Not Free' in 2006 and appears frequently in the mass mobilization dataset.\n",
    "4. A country that was classified as 'Not Free' in 2006 and appears sparsely the mass mobilization dataset.\n",
    "5. A country that was classified as 'Partially Free' in 2006 and appears frequently the mass mobilization dataset.\n",
    "6. A country that was classified as 'Partially Free' in 2006 and appears sparsely the mass mobilization dataset.\n",
    "\n",
    "In order to determine which countries to model, I will cross examine the mass mobilization dataset and the Freedom in the World dataset. \n"
   ]
  },
  {
   "cell_type": "code",
   "execution_count": 43,
   "id": "e62a0c18",
   "metadata": {},
   "outputs": [],
   "source": [
    "fiw = pd.read_csv('./data/transformed/fiw_agg.csv')"
   ]
  },
  {
   "cell_type": "code",
   "execution_count": 44,
   "id": "45789345",
   "metadata": {},
   "outputs": [
    {
     "data": {
      "text/html": [
       "<div>\n",
       "<style scoped>\n",
       "    .dataframe tbody tr th:only-of-type {\n",
       "        vertical-align: middle;\n",
       "    }\n",
       "\n",
       "    .dataframe tbody tr th {\n",
       "        vertical-align: top;\n",
       "    }\n",
       "\n",
       "    .dataframe thead th {\n",
       "        text-align: right;\n",
       "    }\n",
       "</style>\n",
       "<table border=\"1\" class=\"dataframe\">\n",
       "  <thead>\n",
       "    <tr style=\"text-align: right;\">\n",
       "      <th></th>\n",
       "      <th>Country/Territory</th>\n",
       "      <th>Region</th>\n",
       "      <th>C/T?</th>\n",
       "      <th>Edition</th>\n",
       "      <th>Status</th>\n",
       "      <th>PR Rating</th>\n",
       "      <th>CL Rating</th>\n",
       "      <th>A</th>\n",
       "      <th>B</th>\n",
       "      <th>C</th>\n",
       "      <th>...</th>\n",
       "      <th>Unnamed: 26</th>\n",
       "      <th>Unnamed: 27</th>\n",
       "      <th>Unnamed: 28</th>\n",
       "      <th>Unnamed: 29</th>\n",
       "      <th>Unnamed: 30</th>\n",
       "      <th>Unnamed: 31</th>\n",
       "      <th>Unnamed: 32</th>\n",
       "      <th>Unnamed: 33</th>\n",
       "      <th>Unnamed: 34</th>\n",
       "      <th>x</th>\n",
       "    </tr>\n",
       "  </thead>\n",
       "  <tbody>\n",
       "    <tr>\n",
       "      <th>0</th>\n",
       "      <td>Abkhazia</td>\n",
       "      <td>Eurasia</td>\n",
       "      <td>t</td>\n",
       "      <td>2021</td>\n",
       "      <td>PF</td>\n",
       "      <td>5</td>\n",
       "      <td>5</td>\n",
       "      <td>5</td>\n",
       "      <td>8</td>\n",
       "      <td>4</td>\n",
       "      <td>...</td>\n",
       "      <td>NaN</td>\n",
       "      <td>NaN</td>\n",
       "      <td>NaN</td>\n",
       "      <td>NaN</td>\n",
       "      <td>NaN</td>\n",
       "      <td>NaN</td>\n",
       "      <td>NaN</td>\n",
       "      <td>NaN</td>\n",
       "      <td>NaN</td>\n",
       "      <td>NaN</td>\n",
       "    </tr>\n",
       "    <tr>\n",
       "      <th>1</th>\n",
       "      <td>Afghanistan</td>\n",
       "      <td>Asia</td>\n",
       "      <td>c</td>\n",
       "      <td>2021</td>\n",
       "      <td>NF</td>\n",
       "      <td>5</td>\n",
       "      <td>6</td>\n",
       "      <td>3</td>\n",
       "      <td>7</td>\n",
       "      <td>3</td>\n",
       "      <td>...</td>\n",
       "      <td>NaN</td>\n",
       "      <td>NaN</td>\n",
       "      <td>NaN</td>\n",
       "      <td>NaN</td>\n",
       "      <td>NaN</td>\n",
       "      <td>NaN</td>\n",
       "      <td>NaN</td>\n",
       "      <td>NaN</td>\n",
       "      <td>NaN</td>\n",
       "      <td>NaN</td>\n",
       "    </tr>\n",
       "    <tr>\n",
       "      <th>2</th>\n",
       "      <td>Albania</td>\n",
       "      <td>Europe</td>\n",
       "      <td>c</td>\n",
       "      <td>2021</td>\n",
       "      <td>PF</td>\n",
       "      <td>3</td>\n",
       "      <td>3</td>\n",
       "      <td>8</td>\n",
       "      <td>12</td>\n",
       "      <td>7</td>\n",
       "      <td>...</td>\n",
       "      <td>NaN</td>\n",
       "      <td>NaN</td>\n",
       "      <td>NaN</td>\n",
       "      <td>NaN</td>\n",
       "      <td>NaN</td>\n",
       "      <td>NaN</td>\n",
       "      <td>NaN</td>\n",
       "      <td>NaN</td>\n",
       "      <td>NaN</td>\n",
       "      <td>NaN</td>\n",
       "    </tr>\n",
       "    <tr>\n",
       "      <th>3</th>\n",
       "      <td>Algeria</td>\n",
       "      <td>MENA</td>\n",
       "      <td>c</td>\n",
       "      <td>2021</td>\n",
       "      <td>NF</td>\n",
       "      <td>6</td>\n",
       "      <td>5</td>\n",
       "      <td>3</td>\n",
       "      <td>4</td>\n",
       "      <td>3</td>\n",
       "      <td>...</td>\n",
       "      <td>NaN</td>\n",
       "      <td>NaN</td>\n",
       "      <td>NaN</td>\n",
       "      <td>NaN</td>\n",
       "      <td>NaN</td>\n",
       "      <td>NaN</td>\n",
       "      <td>NaN</td>\n",
       "      <td>NaN</td>\n",
       "      <td>NaN</td>\n",
       "      <td>NaN</td>\n",
       "    </tr>\n",
       "    <tr>\n",
       "      <th>4</th>\n",
       "      <td>Andorra</td>\n",
       "      <td>Europe</td>\n",
       "      <td>c</td>\n",
       "      <td>2021</td>\n",
       "      <td>F</td>\n",
       "      <td>1</td>\n",
       "      <td>1</td>\n",
       "      <td>12</td>\n",
       "      <td>15</td>\n",
       "      <td>11</td>\n",
       "      <td>...</td>\n",
       "      <td>NaN</td>\n",
       "      <td>NaN</td>\n",
       "      <td>NaN</td>\n",
       "      <td>NaN</td>\n",
       "      <td>NaN</td>\n",
       "      <td>NaN</td>\n",
       "      <td>NaN</td>\n",
       "      <td>NaN</td>\n",
       "      <td>NaN</td>\n",
       "      <td>NaN</td>\n",
       "    </tr>\n",
       "  </tbody>\n",
       "</table>\n",
       "<p>5 rows × 36 columns</p>\n",
       "</div>"
      ],
      "text/plain": [
       "  Country/Territory   Region C/T?  Edition Status  PR Rating  CL Rating   A  \\\n",
       "0          Abkhazia  Eurasia    t     2021     PF          5          5   5   \n",
       "1       Afghanistan     Asia    c     2021     NF          5          6   3   \n",
       "2           Albania   Europe    c     2021     PF          3          3   8   \n",
       "3           Algeria     MENA    c     2021     NF          6          5   3   \n",
       "4           Andorra   Europe    c     2021      F          1          1  12   \n",
       "\n",
       "    B   C  ...  Unnamed: 26  Unnamed: 27  Unnamed: 28  Unnamed: 29  \\\n",
       "0   8   4  ...          NaN          NaN          NaN          NaN   \n",
       "1   7   3  ...          NaN          NaN          NaN          NaN   \n",
       "2  12   7  ...          NaN          NaN          NaN          NaN   \n",
       "3   4   3  ...          NaN          NaN          NaN          NaN   \n",
       "4  15  11  ...          NaN          NaN          NaN          NaN   \n",
       "\n",
       "   Unnamed: 30  Unnamed: 31  Unnamed: 32  Unnamed: 33  Unnamed: 34   x  \n",
       "0          NaN          NaN          NaN          NaN          NaN NaN  \n",
       "1          NaN          NaN          NaN          NaN          NaN NaN  \n",
       "2          NaN          NaN          NaN          NaN          NaN NaN  \n",
       "3          NaN          NaN          NaN          NaN          NaN NaN  \n",
       "4          NaN          NaN          NaN          NaN          NaN NaN  \n",
       "\n",
       "[5 rows x 36 columns]"
      ]
     },
     "execution_count": 44,
     "metadata": {},
     "output_type": "execute_result"
    }
   ],
   "source": [
    "fiw.head()"
   ]
  },
  {
   "cell_type": "code",
   "execution_count": 45,
   "id": "264a3710",
   "metadata": {},
   "outputs": [
    {
     "data": {
      "text/plain": [
       "Index(['Region', 'C/T?', 'Edition', 'PR Rating', 'CL Rating', 'A', 'B', 'C',\n",
       "       'Add Q', 'Add A', 'PR', 'D', 'E', 'F', 'G', 'CL', 'Total',\n",
       "       'Unnamed: 19', 'Unnamed: 20', 'Unnamed: 21', 'Unnamed: 22',\n",
       "       'Unnamed: 23', 'Unnamed: 24', 'Unnamed: 25', 'Unnamed: 26',\n",
       "       'Unnamed: 27', 'Unnamed: 28', 'Unnamed: 29', 'Unnamed: 30',\n",
       "       'Unnamed: 31', 'Unnamed: 32', 'Unnamed: 33', 'Unnamed: 34', 'x'],\n",
       "      dtype='object')"
      ]
     },
     "execution_count": 45,
     "metadata": {},
     "output_type": "execute_result"
    }
   ],
   "source": [
    "fiw.drop(columns=['Country/Territory', 'Status']).columns"
   ]
  },
  {
   "cell_type": "code",
   "execution_count": 46,
   "id": "ac49a72c",
   "metadata": {},
   "outputs": [],
   "source": [
    "def clean_fiw_for_model(df=fiw):\n",
    "    \n",
    "    columns_to_drop = df.drop(columns=['Country/Territory', 'Status', 'Edition']).columns\n",
    "    \n",
    "    df.drop(columns=columns_to_drop, inplace=True)\n",
    "    \n",
    "    fiw_column_dict = {}\n",
    "    for column in df.columns:\n",
    "        if column == 'Country/Territory':\n",
    "            fiw_column_dict[column] = 'country'\n",
    "        elif column == 'C/T?':\n",
    "            fiw_column_dict[column] = 'country_territory'\n",
    "        else:\n",
    "            fiw_column_dict[column] = 'fiw_' + column.lower().replace(' ', '_')\n",
    "\n",
    "    df.rename(mapper=fiw_column_dict, axis=1, inplace=True)\n",
    "\n",
    "    country_map = {\n",
    "        'Slovakia': 'Slovak Republic',\n",
    "        'Serbia and Montenegro': 'Serbia'   \n",
    "    }\n",
    "\n",
    "    for k, v in country_map.items():\n",
    "        for country in df['country']:\n",
    "            if country == k:\n",
    "                country = v\n",
    "  \n",
    "    \n",
    "    df['fiw_edition'] = pd.to_datetime(df['fiw_edition'], format='%Y').dt.year\n",
    "    \n",
    "    return df"
   ]
  },
  {
   "cell_type": "code",
   "execution_count": 47,
   "id": "af6a07e2",
   "metadata": {},
   "outputs": [],
   "source": [
    "fiw_clean = clean_fiw_for_model(fiw)"
   ]
  },
  {
   "cell_type": "code",
   "execution_count": 48,
   "id": "18b2e0c2",
   "metadata": {},
   "outputs": [],
   "source": [
    "fiw_clean['fiw_edition'] = pd.to_datetime(fiw_clean['fiw_edition'], format='%Y').dt.year"
   ]
  },
  {
   "cell_type": "code",
   "execution_count": 50,
   "id": "4e8e7bb6",
   "metadata": {},
   "outputs": [
    {
     "name": "stdout",
     "output_type": "stream",
     "text": [
      "<class 'pandas.core.frame.DataFrame'>\n",
      "RangeIndex: 3339 entries, 0 to 3338\n",
      "Data columns (total 3 columns):\n",
      " #   Column       Non-Null Count  Dtype \n",
      "---  ------       --------------  ----- \n",
      " 0   country      3339 non-null   object\n",
      " 1   fiw_edition  3339 non-null   int64 \n",
      " 2   fiw_status   3339 non-null   object\n",
      "dtypes: int64(1), object(2)\n",
      "memory usage: 78.4+ KB\n"
     ]
    }
   ],
   "source": [
    "fiw_clean.info()"
   ]
  },
  {
   "cell_type": "code",
   "execution_count": 23,
   "id": "423dd158",
   "metadata": {},
   "outputs": [
    {
     "name": "stdout",
     "output_type": "stream",
     "text": [
      "<class 'pandas.core.frame.DataFrame'>\n",
      "RangeIndex: 3339 entries, 0 to 3338\n",
      "Data columns (total 3 columns):\n",
      " #   Column       Non-Null Count  Dtype \n",
      "---  ------       --------------  ----- \n",
      " 0   country      3339 non-null   object\n",
      " 1   fiw_edition  3339 non-null   int64 \n",
      " 2   fiw_status   3339 non-null   object\n",
      "dtypes: int64(1), object(2)\n",
      "memory usage: 78.4+ KB\n"
     ]
    }
   ],
   "source": [
    "\n",
    "fiw_clean.info()"
   ]
  },
  {
   "cell_type": "code",
   "execution_count": null,
   "id": "887375c6",
   "metadata": {},
   "outputs": [],
   "source": [
    "fiw_clean.info()"
   ]
  },
  {
   "cell_type": "code",
   "execution_count": null,
   "id": "364e4f06",
   "metadata": {},
   "outputs": [],
   "source": [
    "fiw_clean.describe()"
   ]
  },
  {
   "cell_type": "code",
   "execution_count": null,
   "id": "1466e531",
   "metadata": {},
   "outputs": [],
   "source": [
    "#checking for countries categorized as 'Not Free' in 2006\n",
    "\n",
    "fiw_2006_not_free_list = list(fiw_clean[(fiw_clean['fiw_edition'] == 2006) & (fiw_clean['fiw_status'] == 'NF')]['country'])\n",
    "fiw_2006_partially_free_list = list(fiw_clean[(fiw_clean['fiw_edition'] == 2006) & (fiw_clean['fiw_status'] == 'PF')]['country'])\n",
    "fiw_2006_free_list = list(fiw_clean[(fiw_clean['fiw_edition'] == 2006) & (fiw_clean['fiw_status'] == 'F')]['country'])\n",
    "fiw_2021_not_free_list = list(fiw_clean[(fiw_clean['fiw_edition'] == 2021) & (fiw_clean['fiw_status'] == 'NF')]['country'])\n",
    "fiw_2021_partially_free_list = list(fiw_clean[(fiw_clean['fiw_edition'] == 2021) & (fiw_clean['fiw_status'] == 'PF')]['country'])\n",
    "fiw_2021_free_list = list(fiw_clean[(fiw_clean['fiw_edition'] == 2021) & (fiw_clean['fiw_status'] == 'F')]['country'])\n"
   ]
  },
  {
   "cell_type": "code",
   "execution_count": null,
   "id": "fb474c05",
   "metadata": {},
   "outputs": [],
   "source": [
    "#check for which countries in the various Freedom Scales categories by year occur most frequently in the Mass Mobilization data. \n",
    "nf_2006_mm_frequent = []\n",
    "for country in fiw_2006_not_free_list:\n",
    "    if country in mm_country_vals:\n",
    "        nf_2006_mm_frequent.append(country)\n",
    "\n",
    "print(nf_2006_mm_frequent)\n"
   ]
  },
  {
   "cell_type": "markdown",
   "id": "316dea3b",
   "metadata": {},
   "source": [
    "Algeria, China, Cuba, Egypt, Guinea, Iran, Iraq, Nepal, Pakistan, Russia intersect as appearing frequently in the mass mobilization dataset and were given the category of 'Not Free' in 2006. I will begin by reviewing these options for my first model. "
   ]
  },
  {
   "cell_type": "code",
   "execution_count": null,
   "id": "d8b3bd21",
   "metadata": {},
   "outputs": [],
   "source": [
    "def get_freedom_status_2006_2021(country_list):\n",
    "    for country in country_list:\n",
    "        if country in fiw_2021_free_list:\n",
    "            print(f'{country} status is \"Free\" in 2021')\n",
    "        if country in fiw_2021_partially_free_list:\n",
    "            print(f'{country} status is \"Partially Free\" in 2021')\n",
    "        if country in fiw_2021_not_free_list:\n",
    "            print(f'{country} status is \"Not Free\" in 2021')\n"
   ]
  },
  {
   "cell_type": "code",
   "execution_count": null,
   "id": "13432119",
   "metadata": {},
   "outputs": [],
   "source": [
    "get_freedom_status_2006_2021(nf_2006_mm_frequent)"
   ]
  },
  {
   "cell_type": "markdown",
   "id": "af18755f",
   "metadata": {},
   "source": [
    "Unfortunately, it doesn't appear that the needle has move significantly for many of these countries, thought we do see a shift to 'partially free' for Guinea and Pakistan.\n",
    "\n",
    "Based on this, I will begin by modeling Pakistan. "
   ]
  },
  {
   "cell_type": "code",
   "execution_count": null,
   "id": "9f9dcce3",
   "metadata": {},
   "outputs": [],
   "source": [
    "pf_2006_mm_frequent = []\n",
    "for country in fiw_2006_partially_free_list:\n",
    "    if country in mm_country_vals:\n",
    "        pf_2006_mm_frequent.append(country)\n",
    "\n",
    "print(pf_2006_mm_frequent)"
   ]
  },
  {
   "cell_type": "code",
   "execution_count": null,
   "id": "ad0cc379",
   "metadata": {},
   "outputs": [],
   "source": [
    "get_freedom_status_2006_2021(pf_2006_mm_frequent)"
   ]
  },
  {
   "cell_type": "code",
   "execution_count": null,
   "id": "5c36696f",
   "metadata": {},
   "outputs": [],
   "source": [
    "f_2006_mm_frequent = []\n",
    "for country in fiw_2006_free_list:\n",
    "    if country in mm_country_vals:\n",
    "        f_2006_mm_frequent.append(country)\n",
    "\n",
    "print(f_2006_mm_frequent)"
   ]
  },
  {
   "cell_type": "code",
   "execution_count": null,
   "id": "d8ede02d",
   "metadata": {},
   "outputs": [],
   "source": [
    "get_freedom_status_2006_2021(f_2006_mm_frequent)"
   ]
  },
  {
   "cell_type": "code",
   "execution_count": null,
   "id": "72182283",
   "metadata": {},
   "outputs": [],
   "source": [
    "# Looking for which countries have seen variation in freedom status from 2006-2021\n",
    "\n",
    "# I referenced stackoverflow for guidance on re-typing dictionary values\n",
    "\n",
    "status_dict = {}\n",
    "for i in fiw['country'].unique():\n",
    "   status_dict[i] = [\n",
    "         fiw['fiw_status'][j]\n",
    "      for j in fiw[fiw['country'] == i].index\n",
    "   ]\n",
    "\n",
    "for keys in status_dict:\n",
    "    status_dict[keys] = set(status_dict[keys])\n",
    "    "
   ]
  },
  {
   "cell_type": "code",
   "execution_count": null,
   "id": "6e8841bc",
   "metadata": {},
   "outputs": [],
   "source": [
    "for k, v in status_dict.items():\n",
    "    if k in nf_2006_mm_frequent:\n",
    "        print(k, v)"
   ]
  },
  {
   "cell_type": "code",
   "execution_count": null,
   "id": "407cb6b9",
   "metadata": {},
   "outputs": [],
   "source": [
    "for k, v in status_dict.items():\n",
    "    if k in pf_2006_mm_frequent:\n",
    "        print(k, v)"
   ]
  },
  {
   "cell_type": "code",
   "execution_count": null,
   "id": "a7314f7b",
   "metadata": {},
   "outputs": [],
   "source": [
    "for k, v in status_dict.items():\n",
    "    if k in f_2006_mm_frequent:\n",
    "        print(k, v)"
   ]
  },
  {
   "cell_type": "code",
   "execution_count": null,
   "id": "605476f5",
   "metadata": {},
   "outputs": [],
   "source": [
    "for k, v in status_dict.items():\n",
    "    if len(v) == 3:\n",
    "        print(k, v)"
   ]
  },
  {
   "cell_type": "code",
   "execution_count": null,
   "id": "38f8b92b",
   "metadata": {},
   "outputs": [],
   "source": [
    "mm[mm['country'] == 'Mali'].shape"
   ]
  },
  {
   "cell_type": "code",
   "execution_count": null,
   "id": "43715859",
   "metadata": {},
   "outputs": [],
   "source": [
    "mm[mm['country'] == 'Tunisia'].shape"
   ]
  },
  {
   "cell_type": "code",
   "execution_count": null,
   "id": "2825706b",
   "metadata": {},
   "outputs": [],
   "source": [
    "mm[mm['country'] == 'Venezuela'].shape"
   ]
  },
  {
   "cell_type": "code",
   "execution_count": null,
   "id": "3f63093d",
   "metadata": {},
   "outputs": [],
   "source": [
    "mm[mm['country'] == 'Kyrgyzstan'].shape"
   ]
  },
  {
   "cell_type": "code",
   "execution_count": null,
   "id": "c0534c30",
   "metadata": {},
   "outputs": [],
   "source": [
    "mm[mm['country'] == 'Kazakhstan'].shape"
   ]
  },
  {
   "cell_type": "markdown",
   "id": "9319446d",
   "metadata": {},
   "source": [
    "World Governance Indicators I want to use:\n",
    "* Control of Corruption: Estimate (CC.EST)\n",
    "    * Control of Corruption captures perceptions of the extent to which public power is exercised for private gain\n",
    "* Government Effectiveness: Estimate (GE.EST)\n",
    "    * Government Effectiveness captures perceptions of the quality of public service\n",
    "* Political Stability and Absence of Violence/Terrorism: Estimate (PV.EST)\n",
    "    * Political Stability and Absence of Violence/Terrorism measures perceptions of the likelihood of political instability and/or politically-motivated violence\n",
    "* Rule of Law: Estimate\n",
    "    * Rule of Law captures perceptions of the extent to which agents have confidence in and abide by the rules of society\n",
    "* Voice and Accountability: Estimate\n",
    "    * Voice and Accountability captures perceptions of the extent to which a country's citizens are able to participate in selecting their government"
   ]
  },
  {
   "cell_type": "code",
   "execution_count": null,
   "id": "67db4866",
   "metadata": {},
   "outputs": [],
   "source": [
    "wgi.head()"
   ]
  },
  {
   "cell_type": "code",
   "execution_count": null,
   "id": "29ea24d2",
   "metadata": {},
   "outputs": [],
   "source": [
    "def clean_wgi(df=wgi):\n",
    "    \n",
    "    #dropping country code column\n",
    "    df.drop(columns=['Country Code', 'Series Name'], inplace=True)\n",
    "    \n",
    "    #rename year columns\n",
    "    for column in df.columns[2:]:\n",
    "        df.rename(columns = {column: column[:4]}, inplace=True)\n",
    "        \n",
    "    for column in df.columns[:2]:\n",
    "        df.rename(columns = {column: column.lower().replace(' ', '_')}, inplace=True)\n",
    "        \n",
    "    #create columns for 1997, 1999, and 2001, which will replicate the previous year\n",
    "    df['1997'] = df['1996']\n",
    "    df['1999'] = df['1998']\n",
    "    df['2001'] = df['2000']\n",
    "    \n",
    "    #reorder columns\n",
    "    df = df[['country_name', 'series_code', '1996', '1997', '1998', '1999', '2000',\n",
    "       '2001','2002', '2003', '2004', '2005', '2006', '2007', '2008', '2009', '2010',\n",
    "       '2011', '2012', '2013', '2014', '2015', '2016', '2017', '2018', '2019',\n",
    "       '2020']]\n",
    "    \n",
    "    #dropping unneeded series codes\n",
    "    wgi_series = ['CC.EST', 'GE.EST', 'PV.NO.SRC', 'RL.EST', 'VA.EST']\n",
    "    df = df[df['series_code'].isin(wgi_series)]\n",
    "    \n",
    "    #replacing country names in wgi to align with mm\n",
    "    country_changes_wgi = {'Venezuela, RB': 'Venezuela',\n",
    "                          'Iran, Islamic Rep.': 'Iran',\n",
    "                          'Egypt, Arab Rep.': 'Egypt',\n",
    "                          'Syrian Arab Republic': 'Syria',\n",
    "                          'Yemen, Rep.': 'Yemen',\n",
    "                          'Kyrgyz Republic': 'Kyrgyzstan',\n",
    "                          'Taiwan, China': 'Taiwan',\n",
    "                          'Korea, Dem. People\\'s Rep.': 'North Korea',\n",
    "                          'Korea, Rep.': 'South Korea'}\n",
    "\n",
    "    for name in wgi['country_name']:\n",
    "        for k, v in country_changes_wgi.items():\n",
    "            if name == k:\n",
    "                wgi.replace({'country_name': country_changes_wgi}, inplace=True)\n",
    "    \n",
    "    df.reset_index(drop=True, inplace=True)\n",
    "    \n",
    "    # using melt to get rows and country_name set for merging with other dataframes\n",
    "    # referenced stackoverflow for melt documentation: https://stackoverflow.com/questions/28654047/convert-columns-into-rows-with-pandas\n",
    "    df = df.melt(id_vars=['country_name', 'series_code'])\n",
    "    df.rename(columns = {'variable': 'year', 'value': 'score'}, inplace=True)\n",
    "    \n",
    "    # setting year as datetime object\n",
    "    df['year'] = pd.to_datetime(df['year'], format='%Y').dt.year\n",
    "    \n",
    "    return df"
   ]
  },
  {
   "cell_type": "code",
   "execution_count": null,
   "id": "695f5811",
   "metadata": {},
   "outputs": [],
   "source": [
    "wgi = clean_wgi()"
   ]
  },
  {
   "cell_type": "code",
   "execution_count": null,
   "id": "dcdbf220",
   "metadata": {},
   "outputs": [],
   "source": [
    "wgi.head()"
   ]
  },
  {
   "cell_type": "code",
   "execution_count": null,
   "id": "fb12415e",
   "metadata": {},
   "outputs": [],
   "source": [
    "# for code in wgi['series_code'].unique():\n",
    "#     wgi[code] = wgi['score']"
   ]
  },
  {
   "cell_type": "code",
   "execution_count": null,
   "id": "46930c8c",
   "metadata": {},
   "outputs": [],
   "source": [
    "wgi"
   ]
  },
  {
   "cell_type": "code",
   "execution_count": null,
   "id": "c20f7f79",
   "metadata": {},
   "outputs": [],
   "source": [
    "wgi.head()"
   ]
  },
  {
   "cell_type": "code",
   "execution_count": null,
   "id": "14f71908",
   "metadata": {},
   "outputs": [],
   "source": [
    "wgi_pivot = wgi.pivot(index=['country_name','year'], columns=['series_code'], values=['score'])"
   ]
  },
  {
   "cell_type": "code",
   "execution_count": null,
   "id": "24e79d99",
   "metadata": {},
   "outputs": [],
   "source": [
    "wgi_pivot_df = pd.DataFrame(wgi_pivot)"
   ]
  },
  {
   "cell_type": "code",
   "execution_count": null,
   "id": "0066f4c4",
   "metadata": {},
   "outputs": [],
   "source": [
    "# wgi_pivot_df.to_csv('./data/transformed/wgi_pivot.csv')"
   ]
  },
  {
   "cell_type": "code",
   "execution_count": null,
   "id": "ce5b75de",
   "metadata": {},
   "outputs": [],
   "source": [
    "wgi_scores = pd.read_csv('./data/transformed/wgi_pivot.csv')"
   ]
  },
  {
   "cell_type": "code",
   "execution_count": null,
   "id": "e3b9adbd",
   "metadata": {},
   "outputs": [],
   "source": [
    "wgi_scores.head(20) "
   ]
  },
  {
   "cell_type": "code",
   "execution_count": null,
   "id": "003d1198",
   "metadata": {},
   "outputs": [],
   "source": [
    "wgi.head(20)"
   ]
  },
  {
   "cell_type": "code",
   "execution_count": null,
   "id": "92e55954",
   "metadata": {},
   "outputs": [],
   "source": [
    "# mm.set_index(['year', 'country'], )"
   ]
  },
  {
   "cell_type": "code",
   "execution_count": null,
   "id": "64cd97bf",
   "metadata": {},
   "outputs": [],
   "source": [
    "mm.groupby(['year'])['country'].describe()"
   ]
  },
  {
   "cell_type": "code",
   "execution_count": null,
   "id": "294ff53a",
   "metadata": {},
   "outputs": [],
   "source": [
    "mm['stateresponse1'].value_counts()"
   ]
  },
  {
   "cell_type": "code",
   "execution_count": null,
   "id": "19c90d37",
   "metadata": {},
   "outputs": [],
   "source": [
    "mm['protesterdemand1'].value_counts()"
   ]
  },
  {
   "cell_type": "code",
   "execution_count": null,
   "id": "758d641c",
   "metadata": {},
   "outputs": [],
   "source": [
    "mm['protesterdemand2'].value_counts()"
   ]
  },
  {
   "cell_type": "code",
   "execution_count": null,
   "id": "1388a1fe",
   "metadata": {},
   "outputs": [],
   "source": [
    "# mm.sort_values(by='start_date', inplace=True)"
   ]
  },
  {
   "cell_type": "code",
   "execution_count": null,
   "id": "ca36b5ae",
   "metadata": {},
   "outputs": [],
   "source": [
    "mm.info()"
   ]
  },
  {
   "cell_type": "code",
   "execution_count": null,
   "id": "82ff3465",
   "metadata": {},
   "outputs": [],
   "source": [
    "def prep_for_model(country, start_date='2006', end_date='2021'):\n",
    "    df = mm[mm['country'] == country]\n",
    "    df.sort_values(by='start_date', inplace=True)\n",
    "    df.set_index('start_date', inplace=True)\n",
    "#     df = df[(df.index >= start_date) & (mm.index <= end_date)]\n",
    "    df = df.loc[start_date:end_date]\n",
    "    df = pd.concat([df, pd.get_dummies(df['protesterdemand1'])], axis=1)\n",
    "    df = pd.concat([df, pd.get_dummies(df['stateresponse1'])], axis=1)\n",
    "    df.drop(columns = ['id', 'country', 'region', 'protestnumber', 'ccode', 'year', 'location', 'sources', 'end_date', 'participants', 'protesteridentity','protesterdemand1',\n",
    "       'protesterdemand2', 'protesterdemand3', 'protesterdemand4',\n",
    "       'stateresponse1', 'stateresponse2', 'stateresponse3', 'stateresponse4',\n",
    "       'stateresponse5', 'stateresponse6', 'stateresponse7'], inplace=True)\n",
    "    return df\n",
    "#     df.to_csv(f'./data/transformed/{country}_model.csv')"
   ]
  },
  {
   "cell_type": "code",
   "execution_count": null,
   "id": "46524599",
   "metadata": {},
   "outputs": [],
   "source": [
    "model_df = prep_for_model('Kyrgyzstan')"
   ]
  },
  {
   "cell_type": "code",
   "execution_count": null,
   "id": "367d9dac",
   "metadata": {},
   "outputs": [],
   "source": [
    "fiw_kgz = fiw_clean[fiw_clean['country'] == 'Kyrgyzstan']"
   ]
  },
  {
   "cell_type": "code",
   "execution_count": null,
   "id": "c7ffc43f",
   "metadata": {},
   "outputs": [],
   "source": [
    "fiw_kgz.info()"
   ]
  },
  {
   "cell_type": "code",
   "execution_count": null,
   "id": "5d8d0d17",
   "metadata": {},
   "outputs": [],
   "source": [
    "pd.merge(model_df.assign(grouper=model_df.index),\n",
    "               fiw_kgz.assign(grouper=fiw_kgz['fiw_edition'].dt.to_period('Y')),\n",
    "               how='left', on='grouper')"
   ]
  },
  {
   "cell_type": "code",
   "execution_count": null,
   "id": "10c573f7",
   "metadata": {},
   "outputs": [],
   "source": [
    "model_df.shape"
   ]
  },
  {
   "cell_type": "code",
   "execution_count": null,
   "id": "979ce90c",
   "metadata": {},
   "outputs": [],
   "source": [
    "model_df.columns"
   ]
  },
  {
   "cell_type": "code",
   "execution_count": null,
   "id": "8d1f8b10",
   "metadata": {},
   "outputs": [],
   "source": [
    "model_df.to_csv('./data/transformed/venezuela_model.csv')"
   ]
  },
  {
   "cell_type": "code",
   "execution_count": null,
   "id": "8254a2a5",
   "metadata": {},
   "outputs": [],
   "source": [
    "mm['stateresponse2'].value_counts()"
   ]
  },
  {
   "cell_type": "code",
   "execution_count": null,
   "id": "58df32c2",
   "metadata": {},
   "outputs": [],
   "source": [
    "mm['participants_category'].value_counts()"
   ]
  },
  {
   "cell_type": "code",
   "execution_count": null,
   "id": "c771d029",
   "metadata": {},
   "outputs": [],
   "source": [
    "mm.columns"
   ]
  },
  {
   "cell_type": "code",
   "execution_count": null,
   "id": "6cfedc0f",
   "metadata": {},
   "outputs": [],
   "source": [
    "mm = pd.concat([mm, pd.get_dummies(mm['protesterdemand1'])], axis=1)"
   ]
  },
  {
   "cell_type": "code",
   "execution_count": null,
   "id": "c7832f34",
   "metadata": {},
   "outputs": [],
   "source": [
    "mm = pd.concat([mm, pd.get_dummies(mm['stateresponse1'])], axis=1)"
   ]
  },
  {
   "cell_type": "code",
   "execution_count": null,
   "id": "c7ce3acb",
   "metadata": {},
   "outputs": [],
   "source": [
    "mm['protesterdemand1'].unique()"
   ]
  },
  {
   "cell_type": "code",
   "execution_count": null,
   "id": "e7df0ecc",
   "metadata": {},
   "outputs": [],
   "source": [
    "mm.columns"
   ]
  },
  {
   "cell_type": "code",
   "execution_count": null,
   "id": "7fc96cff",
   "metadata": {},
   "outputs": [],
   "source": []
  },
  {
   "cell_type": "code",
   "execution_count": null,
   "id": "e19da153",
   "metadata": {},
   "outputs": [],
   "source": [
    "mm['police brutality'].sum()"
   ]
  },
  {
   "cell_type": "code",
   "execution_count": null,
   "id": "f415f5c3",
   "metadata": {},
   "outputs": [],
   "source": [
    "demand_cols = ['protesterdemand2', 'protesterdemand3', 'protesterdemand4']\n",
    "response_cols = ['stateresponse2', 'stateresponse3', 'stateresponse4',\n",
    "       'stateresponse5', 'stateresponse6', 'stateresponse7']\n",
    "demand_cat = ['price increases, tax policy', 'police brutality',\n",
    "       'political behavior, process', 'removal of politician',\n",
    "       'labor wage dispute', 'social restrictions', 'land farm issue']\n",
    "\n",
    "for cat in demand_cat:\n",
    "    mm[cat] = [1 for category in column in category ]"
   ]
  },
  {
   "cell_type": "code",
   "execution_count": null,
   "id": "cf9b68a4",
   "metadata": {},
   "outputs": [],
   "source": [
    "mm['police brutality'].sum()"
   ]
  },
  {
   "cell_type": "code",
   "execution_count": null,
   "id": "5482610b",
   "metadata": {},
   "outputs": [],
   "source": []
  }
 ],
 "metadata": {
  "kernelspec": {
   "display_name": "Python 3",
   "language": "python",
   "name": "python3"
  },
  "language_info": {
   "codemirror_mode": {
    "name": "ipython",
    "version": 3
   },
   "file_extension": ".py",
   "mimetype": "text/x-python",
   "name": "python",
   "nbconvert_exporter": "python",
   "pygments_lexer": "ipython3",
   "version": "3.8.8"
  }
 },
 "nbformat": 4,
 "nbformat_minor": 5
}
