{
 "cells": [
  {
   "cell_type": "code",
   "execution_count": 1,
   "id": "546868ef",
   "metadata": {},
   "outputs": [],
   "source": [
    "import pandas as pd\n",
    "import numpy as np\n",
    "import matplotlib.pyplot as plt\n",
    "import seaborn as sns\n",
    "import plotly\n",
    "# import dash\n",
    "import plotly.graph_objs as go\n",
    "# code to set option to display all columns taken from this article: https://towardsdatascience.com/how-to-show-all-columns-rows-of-a-pandas-dataframe-c49d4507fcf\n",
    "pd.set_option('display.max_columns', None)"
   ]
  },
  {
   "cell_type": "code",
   "execution_count": 2,
   "id": "62c66d0e",
   "metadata": {},
   "outputs": [],
   "source": [
    "df = pd.read_csv('./data/transformed/mm_wgi_fiw.csv')"
   ]
  },
  {
   "cell_type": "code",
   "execution_count": 123,
   "id": "49631b46-993c-48a9-8491-12a54413ef27",
   "metadata": {},
   "outputs": [
    {
     "data": {
      "text/plain": [
       "Index(['country_name', 'ccode', 'year', 'region', 'protestnumber',\n",
       "       'protesterviolence', 'participants_category', 'stateresponse1',\n",
       "       'start_date', 'end_date', 'duration', 'labor wage dispute',\n",
       "       'land farm issue', 'police brutality', 'political behavior, process',\n",
       "       'price increases, tax policy', 'removal of politician',\n",
       "       'social restrictions', 'CC.EST', 'GE.EST', 'PV.NO.SRC', 'RL.EST',\n",
       "       'VA.EST', 'fiw_status'],\n",
       "      dtype='object')"
      ]
     },
     "execution_count": 123,
     "metadata": {},
     "output_type": "execute_result"
    }
   ],
   "source": [
    "df.columns"
   ]
  },
  {
   "cell_type": "code",
   "execution_count": 130,
   "id": "ac4e2603-2ddc-48b6-ba62-274e52ae9f99",
   "metadata": {},
   "outputs": [
    {
     "name": "stderr",
     "output_type": "stream",
     "text": [
      "<ipython-input-130-6b66e130504f>:1: FutureWarning:\n",
      "\n",
      "Indexing with multiple keys (implicitly converted to a tuple of keys) will be deprecated, use a list instead.\n",
      "\n"
     ]
    },
    {
     "data": {
      "text/html": [
       "<div>\n",
       "<style scoped>\n",
       "    .dataframe tbody tr th:only-of-type {\n",
       "        vertical-align: middle;\n",
       "    }\n",
       "\n",
       "    .dataframe tbody tr th {\n",
       "        vertical-align: top;\n",
       "    }\n",
       "\n",
       "    .dataframe thead th {\n",
       "        text-align: right;\n",
       "    }\n",
       "</style>\n",
       "<table border=\"1\" class=\"dataframe\">\n",
       "  <thead>\n",
       "    <tr style=\"text-align: right;\">\n",
       "      <th></th>\n",
       "      <th>labor wage dispute</th>\n",
       "      <th>land farm issue</th>\n",
       "      <th>police brutality</th>\n",
       "      <th>political behavior, process</th>\n",
       "      <th>price increases, tax policy</th>\n",
       "      <th>removal of politician</th>\n",
       "      <th>social restrictions</th>\n",
       "    </tr>\n",
       "    <tr>\n",
       "      <th>stateresponse1</th>\n",
       "      <th></th>\n",
       "      <th></th>\n",
       "      <th></th>\n",
       "      <th></th>\n",
       "      <th></th>\n",
       "      <th></th>\n",
       "      <th></th>\n",
       "    </tr>\n",
       "  </thead>\n",
       "  <tbody>\n",
       "    <tr>\n",
       "      <th>accomodation</th>\n",
       "      <td>0.204409</td>\n",
       "      <td>0.078156</td>\n",
       "      <td>0.062124</td>\n",
       "      <td>0.535070</td>\n",
       "      <td>0.118236</td>\n",
       "      <td>0.176353</td>\n",
       "      <td>0.050100</td>\n",
       "    </tr>\n",
       "    <tr>\n",
       "      <th>arrests</th>\n",
       "      <td>0.069930</td>\n",
       "      <td>0.041958</td>\n",
       "      <td>0.071678</td>\n",
       "      <td>0.753497</td>\n",
       "      <td>0.094406</td>\n",
       "      <td>0.089161</td>\n",
       "      <td>0.047203</td>\n",
       "    </tr>\n",
       "    <tr>\n",
       "      <th>beatings</th>\n",
       "      <td>0.112245</td>\n",
       "      <td>0.061224</td>\n",
       "      <td>0.102041</td>\n",
       "      <td>0.632653</td>\n",
       "      <td>0.081633</td>\n",
       "      <td>0.122449</td>\n",
       "      <td>0.061224</td>\n",
       "    </tr>\n",
       "    <tr>\n",
       "      <th>crowd dispersal</th>\n",
       "      <td>0.126427</td>\n",
       "      <td>0.047780</td>\n",
       "      <td>0.117970</td>\n",
       "      <td>0.756871</td>\n",
       "      <td>0.106131</td>\n",
       "      <td>0.219873</td>\n",
       "      <td>0.032981</td>\n",
       "    </tr>\n",
       "    <tr>\n",
       "      <th>ignore</th>\n",
       "      <td>0.141957</td>\n",
       "      <td>0.048369</td>\n",
       "      <td>0.061192</td>\n",
       "      <td>0.717885</td>\n",
       "      <td>0.081890</td>\n",
       "      <td>0.129134</td>\n",
       "      <td>0.066817</td>\n",
       "    </tr>\n",
       "    <tr>\n",
       "      <th>killings</th>\n",
       "      <td>0.017391</td>\n",
       "      <td>0.052174</td>\n",
       "      <td>0.139130</td>\n",
       "      <td>0.721739</td>\n",
       "      <td>0.095652</td>\n",
       "      <td>0.130435</td>\n",
       "      <td>0.078261</td>\n",
       "    </tr>\n",
       "    <tr>\n",
       "      <th>shootings</th>\n",
       "      <td>0.064655</td>\n",
       "      <td>0.025862</td>\n",
       "      <td>0.159483</td>\n",
       "      <td>0.698276</td>\n",
       "      <td>0.086207</td>\n",
       "      <td>0.215517</td>\n",
       "      <td>0.012931</td>\n",
       "    </tr>\n",
       "    <tr>\n",
       "      <th>unknown</th>\n",
       "      <td>0.416667</td>\n",
       "      <td>0.083333</td>\n",
       "      <td>0.083333</td>\n",
       "      <td>0.583333</td>\n",
       "      <td>0.166667</td>\n",
       "      <td>0.166667</td>\n",
       "      <td>0.166667</td>\n",
       "    </tr>\n",
       "  </tbody>\n",
       "</table>\n",
       "</div>"
      ],
      "text/plain": [
       "                 labor wage dispute  land farm issue  police brutality  \\\n",
       "stateresponse1                                                           \n",
       "accomodation               0.204409         0.078156          0.062124   \n",
       "arrests                    0.069930         0.041958          0.071678   \n",
       "beatings                   0.112245         0.061224          0.102041   \n",
       "crowd dispersal            0.126427         0.047780          0.117970   \n",
       "ignore                     0.141957         0.048369          0.061192   \n",
       "killings                   0.017391         0.052174          0.139130   \n",
       "shootings                  0.064655         0.025862          0.159483   \n",
       "unknown                    0.416667         0.083333          0.083333   \n",
       "\n",
       "                 political behavior, process  price increases, tax policy  \\\n",
       "stateresponse1                                                              \n",
       "accomodation                        0.535070                     0.118236   \n",
       "arrests                             0.753497                     0.094406   \n",
       "beatings                            0.632653                     0.081633   \n",
       "crowd dispersal                     0.756871                     0.106131   \n",
       "ignore                              0.717885                     0.081890   \n",
       "killings                            0.721739                     0.095652   \n",
       "shootings                           0.698276                     0.086207   \n",
       "unknown                             0.583333                     0.166667   \n",
       "\n",
       "                 removal of politician  social restrictions  \n",
       "stateresponse1                                               \n",
       "accomodation                  0.176353             0.050100  \n",
       "arrests                       0.089161             0.047203  \n",
       "beatings                      0.122449             0.061224  \n",
       "crowd dispersal               0.219873             0.032981  \n",
       "ignore                        0.129134             0.066817  \n",
       "killings                      0.130435             0.078261  \n",
       "shootings                     0.215517             0.012931  \n",
       "unknown                       0.166667             0.166667  "
      ]
     },
     "execution_count": 130,
     "metadata": {},
     "output_type": "execute_result"
    }
   ],
   "source": [
    "df.groupby(by = 'stateresponse1')['labor wage dispute',\n",
    "       'land farm issue', 'police brutality', 'political behavior, process',\n",
    "       'price increases, tax policy', 'removal of politician',\n",
    "       'social restrictions'].mean()"
   ]
  },
  {
   "cell_type": "code",
   "execution_count": 132,
   "id": "6723c737-bf57-4ae0-adac-dd5931b9b564",
   "metadata": {},
   "outputs": [
    {
     "name": "stderr",
     "output_type": "stream",
     "text": [
      "<ipython-input-132-544b4d6eba37>:1: FutureWarning:\n",
      "\n",
      "Indexing with multiple keys (implicitly converted to a tuple of keys) will be deprecated, use a list instead.\n",
      "\n"
     ]
    },
    {
     "data": {
      "text/html": [
       "<div>\n",
       "<style scoped>\n",
       "    .dataframe tbody tr th:only-of-type {\n",
       "        vertical-align: middle;\n",
       "    }\n",
       "\n",
       "    .dataframe tbody tr th {\n",
       "        vertical-align: top;\n",
       "    }\n",
       "\n",
       "    .dataframe thead th {\n",
       "        text-align: right;\n",
       "    }\n",
       "</style>\n",
       "<table border=\"1\" class=\"dataframe\">\n",
       "  <thead>\n",
       "    <tr style=\"text-align: right;\">\n",
       "      <th></th>\n",
       "      <th>CC.EST</th>\n",
       "      <th>GE.EST</th>\n",
       "      <th>PV.NO.SRC</th>\n",
       "      <th>RL.EST</th>\n",
       "      <th>VA.EST</th>\n",
       "    </tr>\n",
       "    <tr>\n",
       "      <th>stateresponse1</th>\n",
       "      <th></th>\n",
       "      <th></th>\n",
       "      <th></th>\n",
       "      <th></th>\n",
       "      <th></th>\n",
       "    </tr>\n",
       "  </thead>\n",
       "  <tbody>\n",
       "    <tr>\n",
       "      <th>accomodation</th>\n",
       "      <td>-0.514938</td>\n",
       "      <td>-0.301507</td>\n",
       "      <td>8.0</td>\n",
       "      <td>-0.488233</td>\n",
       "      <td>-0.218955</td>\n",
       "    </tr>\n",
       "    <tr>\n",
       "      <th>arrests</th>\n",
       "      <td>-0.536476</td>\n",
       "      <td>-0.193249</td>\n",
       "      <td>8.0</td>\n",
       "      <td>-0.651298</td>\n",
       "      <td>-0.883594</td>\n",
       "    </tr>\n",
       "    <tr>\n",
       "      <th>beatings</th>\n",
       "      <td>-0.766187</td>\n",
       "      <td>-0.554849</td>\n",
       "      <td>7.0</td>\n",
       "      <td>-0.754716</td>\n",
       "      <td>-1.083014</td>\n",
       "    </tr>\n",
       "    <tr>\n",
       "      <th>crowd dispersal</th>\n",
       "      <td>-0.561732</td>\n",
       "      <td>-0.413859</td>\n",
       "      <td>8.0</td>\n",
       "      <td>-0.488233</td>\n",
       "      <td>-0.308442</td>\n",
       "    </tr>\n",
       "    <tr>\n",
       "      <th>ignore</th>\n",
       "      <td>-0.300416</td>\n",
       "      <td>0.007411</td>\n",
       "      <td>8.0</td>\n",
       "      <td>-0.170176</td>\n",
       "      <td>0.006508</td>\n",
       "    </tr>\n",
       "    <tr>\n",
       "      <th>killings</th>\n",
       "      <td>-0.804220</td>\n",
       "      <td>-0.778967</td>\n",
       "      <td>7.0</td>\n",
       "      <td>-0.715842</td>\n",
       "      <td>-0.763609</td>\n",
       "    </tr>\n",
       "    <tr>\n",
       "      <th>shootings</th>\n",
       "      <td>-1.007903</td>\n",
       "      <td>-0.964174</td>\n",
       "      <td>7.0</td>\n",
       "      <td>-0.974337</td>\n",
       "      <td>-1.013889</td>\n",
       "    </tr>\n",
       "    <tr>\n",
       "      <th>unknown</th>\n",
       "      <td>-0.344728</td>\n",
       "      <td>-0.379961</td>\n",
       "      <td>7.0</td>\n",
       "      <td>-0.676570</td>\n",
       "      <td>-0.143551</td>\n",
       "    </tr>\n",
       "  </tbody>\n",
       "</table>\n",
       "</div>"
      ],
      "text/plain": [
       "                   CC.EST    GE.EST  PV.NO.SRC    RL.EST    VA.EST\n",
       "stateresponse1                                                    \n",
       "accomodation    -0.514938 -0.301507        8.0 -0.488233 -0.218955\n",
       "arrests         -0.536476 -0.193249        8.0 -0.651298 -0.883594\n",
       "beatings        -0.766187 -0.554849        7.0 -0.754716 -1.083014\n",
       "crowd dispersal -0.561732 -0.413859        8.0 -0.488233 -0.308442\n",
       "ignore          -0.300416  0.007411        8.0 -0.170176  0.006508\n",
       "killings        -0.804220 -0.778967        7.0 -0.715842 -0.763609\n",
       "shootings       -1.007903 -0.964174        7.0 -0.974337 -1.013889\n",
       "unknown         -0.344728 -0.379961        7.0 -0.676570 -0.143551"
      ]
     },
     "execution_count": 132,
     "metadata": {},
     "output_type": "execute_result"
    }
   ],
   "source": [
    "df.groupby(by = 'stateresponse1')['CC.EST', 'GE.EST', 'PV.NO.SRC', 'RL.EST',\n",
    "       'VA.EST', 'fiw_status'].median()"
   ]
  },
  {
   "cell_type": "code",
   "execution_count": 120,
   "id": "24acf1d5",
   "metadata": {},
   "outputs": [
    {
     "name": "stderr",
     "output_type": "stream",
     "text": [
      "/Users/TJohn/opt/anaconda3/lib/python3.8/site-packages/seaborn/_decorators.py:36: FutureWarning:\n",
      "\n",
      "Pass the following variables as keyword args: x, y. From version 0.12, the only valid positional argument will be `data`, and passing other arguments without an explicit keyword will result in an error or misinterpretation.\n",
      "\n"
     ]
    },
    {
     "data": {
      "text/plain": [
       "<AxesSubplot:xlabel='start_date', ylabel='CC.EST'>"
      ]
     },
     "execution_count": 120,
     "metadata": {},
     "output_type": "execute_result"
    },
    {
     "data": {
      "image/png": "[encoded data removed]",
      "text/plain": [
       "<Figure size 864x576 with 1 Axes>"
      ]
     },
     "metadata": {
      "needs_background": "light"
     },
     "output_type": "display_data"
    }
   ],
   "source": [
    "plt.figure(figsize=(12,8))\n",
    "sns.scatterplot(df['start_date'], df[df['country_name']=='Canada']['CC.EST'], hue=df['stateresponse1'])"
   ]
  },
  {
   "cell_type": "code",
   "execution_count": null,
   "id": "f481cb75-e2e6-4ada-8fec-ba283a7fff40",
   "metadata": {},
   "outputs": [],
   "source": []
  },
  {
   "cell_type": "code",
   "execution_count": null,
   "id": "7a106dc1-a216-4420-accd-3d86ef7d00c6",
   "metadata": {},
   "outputs": [],
   "source": []
  },
  {
   "cell_type": "code",
   "execution_count": 7,
   "id": "89d29394",
   "metadata": {},
   "outputs": [],
   "source": [
    "df_2006 = df[df['year'] == 2020]"
   ]
  },
  {
   "cell_type": "code",
   "execution_count": 8,
   "id": "f9ba228a-71b9-4d86-a7e7-ed11591161bd",
   "metadata": {},
   "outputs": [
    {
     "data": {
      "text/plain": [
       "array(['Canada', 'Cuba', 'Haiti', 'Dominican Republic (the)', 'Jamaica',\n",
       "       'Mexico', 'Guatemala', 'Honduras', 'El Salvador', 'Nicaragua',\n",
       "       'Costa Rica', 'Panama', 'Colombia',\n",
       "       'Venezuela (Bolivarian Republic of)', 'Guyana', 'Suriname',\n",
       "       'Ecuador', 'Peru', 'Brazil', 'Bolivia (Plurinational State of)',\n",
       "       'Paraguay', 'Chile', 'Argentina', 'Uruguay',\n",
       "       'United Kingdom of Great Britain and Northern Ireland (the)',\n",
       "       'Ireland', 'Netherlands (the)', 'Belgium', 'France', 'Switzerland',\n",
       "       'Spain', 'Portugal', 'Germany', 'Poland', 'Austria', 'Hungary',\n",
       "       'Czech Republic (the)', 'Slovakia', 'Italy', 'Albania', 'Kosovo',\n",
       "       'Serbia', 'the former Yugoslav Republic of Macedonia', 'Croatia',\n",
       "       'Bosnia and Herzegovina', 'Montenegro', 'Slovenia', 'Greece',\n",
       "       'Cyprus', 'Bulgaria', 'Republic of Moldova (the)', 'Romania',\n",
       "       'Russian Federation (the)', 'Estonia', 'Latvia', 'Lithuania',\n",
       "       'Ukraine', 'Belarus', 'Armenia', 'Georgia', 'Azerbaijan',\n",
       "       'Finland', 'Sweden', 'Norway', 'Denmark', 'Guinea-Bissau',\n",
       "       'Equatorial Guinea', 'Gambia (the)', 'Mali', 'Senegal', 'Benin',\n",
       "       'Mauritania', 'Niger (the)', \"Côte d'Ivoire\", 'Guinea',\n",
       "       'Burkina Faso', 'Liberia', 'Sierra Leone', 'Ghana', 'Togo',\n",
       "       'Cameroon', 'Nigeria', 'Gabon', 'Central African Republic (the)',\n",
       "       'Chad', 'Congo (the)', 'Democratic Republic of the Congo (the)',\n",
       "       'Uganda', 'Kenya', 'United Republic of Tanzania (the)', 'Burundi',\n",
       "       'Rwanda', 'Somalia', 'Djibouti', 'South Sudan', 'Ethiopia',\n",
       "       'Eritrea', 'Angola', 'Mozambique', 'Zambia', 'Zimbabwe', 'Malawi',\n",
       "       'South Africa', 'Namibia', 'Lesotho', 'Botswana', 'Madagascar',\n",
       "       'Comoros (the)', 'Mauritius', 'Morocco', 'Algeria', 'Tunisia',\n",
       "       'Libya', 'Sudan (the)', 'Iran (Islamic Republic of)', 'Turkey',\n",
       "       'Iraq', 'Egypt', 'Syrian Arab Republic', 'Lebanon', 'Jordan',\n",
       "       'Saudi Arabia', 'Yemen', 'Kuwait', 'Bahrain',\n",
       "       'United Arab Emirates (the)', 'Oman', 'Afghanistan',\n",
       "       'Turkmenistan', 'Tajikistan', 'Kyrgyzstan', 'Uzbekistan',\n",
       "       'Kazakhstan', 'China', 'Mongolia', 'Taiwan',\n",
       "       \"Democratic People's Republic of Korea (the)\",\n",
       "       'Republic of Korea (the)', 'Japan', 'India', 'Pakistan',\n",
       "       'Bangladesh', 'Myanmar', 'Sri Lanka', 'Nepal', 'Thailand',\n",
       "       'Cambodia', 'Viet Nam', 'Malaysia', 'Singapore',\n",
       "       'Philippines (the)', 'Indonesia', 'Timor-Leste',\n",
       "       'Papua New Guinea'], dtype=object)"
      ]
     },
     "execution_count": 8,
     "metadata": {},
     "output_type": "execute_result"
    }
   ],
   "source": [
    "df['country_name'].unique()\n"
   ]
  },
  {
   "cell_type": "code",
   "execution_count": null,
   "id": "90092b1f-2a79-40aa-8dfc-61b2a05d9c53",
   "metadata": {},
   "outputs": [],
   "source": []
  },
  {
   "cell_type": "code",
   "execution_count": 9,
   "id": "1db922a7",
   "metadata": {},
   "outputs": [],
   "source": [
    "data = {\n",
    "    'type' : 'choropleth',\n",
    "    'locations' : df['country_name'],\n",
    "    'locationmode':'country names',\n",
    "    'colorscale' : 'viridis',\n",
    "    'z':df['CC.EST']}"
   ]
  },
  {
   "cell_type": "code",
   "execution_count": 10,
   "id": "9133a6dd",
   "metadata": {},
   "outputs": [
    {
     "data": {
      "text/plain": [
       "'temp-plot.html'"
      ]
     },
     "execution_count": 10,
     "metadata": {},
     "output_type": "execute_result"
    }
   ],
   "source": [
    "map = go.Figure(data=[data])\n",
    "plotly.offline.plot(map)"
   ]
  },
  {
   "cell_type": "code",
   "execution_count": 11,
   "id": "5c4ba0cd-adaa-4468-ba97-93918beba9d6",
   "metadata": {},
   "outputs": [
    {
     "ename": "TypeError",
     "evalue": "Only valid with DatetimeIndex, TimedeltaIndex or PeriodIndex, but got an instance of 'RangeIndex'",
     "output_type": "error",
     "traceback": [
      "\u001b[0;31m---------------------------------------------------------------------------\u001b[0m",
      "\u001b[0;31mTypeError\u001b[0m                                 Traceback (most recent call last)",
      "\u001b[0;32m<ipython-input-11-8871bb150633>\u001b[0m in \u001b[0;36m<module>\u001b[0;34m\u001b[0m\n\u001b[0;32m----> 1\u001b[0;31m \u001b[0mdf\u001b[0m\u001b[0;34m.\u001b[0m\u001b[0mresample\u001b[0m\u001b[0;34m(\u001b[0m\u001b[0;34m'YS'\u001b[0m\u001b[0;34m)\u001b[0m\u001b[0;34m.\u001b[0m\u001b[0msum\u001b[0m\u001b[0;34m(\u001b[0m\u001b[0;34m)\u001b[0m\u001b[0;34m\u001b[0m\u001b[0;34m\u001b[0m\u001b[0m\n\u001b[0m",
      "\u001b[0;32m~/opt/anaconda3/lib/python3.8/site-packages/pandas/core/generic.py\u001b[0m in \u001b[0;36mresample\u001b[0;34m(self, rule, axis, closed, label, convention, kind, loffset, base, on, level, origin, offset)\u001b[0m\n\u001b[1;32m   8367\u001b[0m \u001b[0;34m\u001b[0m\u001b[0m\n\u001b[1;32m   8368\u001b[0m         \u001b[0maxis\u001b[0m \u001b[0;34m=\u001b[0m \u001b[0mself\u001b[0m\u001b[0;34m.\u001b[0m\u001b[0m_get_axis_number\u001b[0m\u001b[0;34m(\u001b[0m\u001b[0maxis\u001b[0m\u001b[0;34m)\u001b[0m\u001b[0;34m\u001b[0m\u001b[0;34m\u001b[0m\u001b[0m\n\u001b[0;32m-> 8369\u001b[0;31m         return get_resampler(\n\u001b[0m\u001b[1;32m   8370\u001b[0m             \u001b[0mself\u001b[0m\u001b[0;34m,\u001b[0m\u001b[0;34m\u001b[0m\u001b[0;34m\u001b[0m\u001b[0m\n\u001b[1;32m   8371\u001b[0m             \u001b[0mfreq\u001b[0m\u001b[0;34m=\u001b[0m\u001b[0mrule\u001b[0m\u001b[0;34m,\u001b[0m\u001b[0;34m\u001b[0m\u001b[0;34m\u001b[0m\u001b[0m\n",
      "\u001b[0;32m~/opt/anaconda3/lib/python3.8/site-packages/pandas/core/resample.py\u001b[0m in \u001b[0;36mget_resampler\u001b[0;34m(obj, kind, **kwds)\u001b[0m\n\u001b[1;32m   1309\u001b[0m     \"\"\"\n\u001b[1;32m   1310\u001b[0m     \u001b[0mtg\u001b[0m \u001b[0;34m=\u001b[0m \u001b[0mTimeGrouper\u001b[0m\u001b[0;34m(\u001b[0m\u001b[0;34m**\u001b[0m\u001b[0mkwds\u001b[0m\u001b[0;34m)\u001b[0m\u001b[0;34m\u001b[0m\u001b[0;34m\u001b[0m\u001b[0m\n\u001b[0;32m-> 1311\u001b[0;31m     \u001b[0;32mreturn\u001b[0m \u001b[0mtg\u001b[0m\u001b[0;34m.\u001b[0m\u001b[0m_get_resampler\u001b[0m\u001b[0;34m(\u001b[0m\u001b[0mobj\u001b[0m\u001b[0;34m,\u001b[0m \u001b[0mkind\u001b[0m\u001b[0;34m=\u001b[0m\u001b[0mkind\u001b[0m\u001b[0;34m)\u001b[0m\u001b[0;34m\u001b[0m\u001b[0;34m\u001b[0m\u001b[0m\n\u001b[0m\u001b[1;32m   1312\u001b[0m \u001b[0;34m\u001b[0m\u001b[0m\n\u001b[1;32m   1313\u001b[0m \u001b[0;34m\u001b[0m\u001b[0m\n",
      "\u001b[0;32m~/opt/anaconda3/lib/python3.8/site-packages/pandas/core/resample.py\u001b[0m in \u001b[0;36m_get_resampler\u001b[0;34m(self, obj, kind)\u001b[0m\n\u001b[1;32m   1474\u001b[0m             \u001b[0;32mreturn\u001b[0m \u001b[0mTimedeltaIndexResampler\u001b[0m\u001b[0;34m(\u001b[0m\u001b[0mobj\u001b[0m\u001b[0;34m,\u001b[0m \u001b[0mgroupby\u001b[0m\u001b[0;34m=\u001b[0m\u001b[0mself\u001b[0m\u001b[0;34m,\u001b[0m \u001b[0maxis\u001b[0m\u001b[0;34m=\u001b[0m\u001b[0mself\u001b[0m\u001b[0;34m.\u001b[0m\u001b[0maxis\u001b[0m\u001b[0;34m)\u001b[0m\u001b[0;34m\u001b[0m\u001b[0;34m\u001b[0m\u001b[0m\n\u001b[1;32m   1475\u001b[0m \u001b[0;34m\u001b[0m\u001b[0m\n\u001b[0;32m-> 1476\u001b[0;31m         raise TypeError(\n\u001b[0m\u001b[1;32m   1477\u001b[0m             \u001b[0;34m\"Only valid with DatetimeIndex, \"\u001b[0m\u001b[0;34m\u001b[0m\u001b[0;34m\u001b[0m\u001b[0m\n\u001b[1;32m   1478\u001b[0m             \u001b[0;34m\"TimedeltaIndex or PeriodIndex, \"\u001b[0m\u001b[0;34m\u001b[0m\u001b[0;34m\u001b[0m\u001b[0m\n",
      "\u001b[0;31mTypeError\u001b[0m: Only valid with DatetimeIndex, TimedeltaIndex or PeriodIndex, but got an instance of 'RangeIndex'"
     ]
    }
   ],
   "source": [
    "df.resample('YS').sum()"
   ]
  },
  {
   "cell_type": "code",
   "execution_count": 100,
   "id": "2268dfe5",
   "metadata": {},
   "outputs": [],
   "source": [
    "def time_series_by_country(df = df, country_or_region = 'country', place = 'Mali', agg_method = 'sum', interval = 'YS'):\n",
    "\n",
    "    '''\n",
    "    A function to downsample the full dataframe to view data by country. \n",
    "    Date range will include all years for which data is available for a specified country. \n",
    "    Input:\n",
    "        * a dataframe - defaults to 'df'\n",
    "        * specify country or region - in order to view data by region\n",
    "        * place - country or region name\n",
    "        * agg_method - aggregation method for resampling. defaults to 'sum'. 'mean' also recommended. \n",
    "        * interval - 'YS': annual / 'MS': monthly \n",
    "        \n",
    "    '''\n",
    "    try:\n",
    "        # generate downsamples dataframe based on country/region selection\n",
    "        if country_or_region == 'country':\n",
    "            output_df = df[df['country_name'] == place.title()]\n",
    "\n",
    "        elif country_or_region == 'region':\n",
    "            output_df = df[df['region'] == place.title()]\n",
    "\n",
    "\n",
    "        #set index to date_time based on protest startdate\n",
    "        output_df = output_df.sort_values(by='start_date')\n",
    "        output_df.set_index(pd.DatetimeIndex(output_df['start_date']), inplace=True)\n",
    "\n",
    "        #specify date range if desired\n",
    "        start_date = str(output_df.index.min())[:4]\n",
    "        end_date = str(output_df.index.max())[:4]\n",
    "        output_df = output_df.loc[start_date:end_date]\n",
    "\n",
    "        # resample to look at data based on regular intervals\n",
    "        output_df.resample(interval).agg(agg_method)\n",
    "\n",
    "        output_df.drop(columns = ['year', 'end_date', 'ccode'], inplace=True)\n",
    "        return output_df\n",
    "\n",
    "    except: \n",
    "\n",
    "        print(f'We don\\'t have enough data to fulfill your request for {place}. Please check your spelling, or try another location.')\n",
    "\n",
    "\n"
   ]
  },
  {
   "cell_type": "code",
   "execution_count": 114,
   "id": "7061c76e-8fb9-4cc2-844a-12430609e65d",
   "metadata": {},
   "outputs": [],
   "source": [
    "def generate_timeline(df, metric = \"GE.EST\"):\n",
    "    sns.lineplot(x=df.index, y=df[metric]), hue=df['protest_number'])"
   ]
  },
  {
   "cell_type": "code",
   "execution_count": 119,
   "id": "99e40dc2-8789-4642-9a39-e9d56b4ee217",
   "metadata": {},
   "outputs": [
    {
     "data": {
      "text/plain": [
       "<AxesSubplot:xlabel='start_date', ylabel='GE.EST'>"
      ]
     },
     "execution_count": 119,
     "metadata": {},
     "output_type": "execute_result"
    },
    {
     "data": {
      "image/png": "[encoded data removed]",
      "text/plain": [
       "<Figure size 432x288 with 1 Axes>"
      ]
     },
     "metadata": {
      "needs_background": "light"
     },
     "output_type": "display_data"
    }
   ],
   "source": [
    "sns.lineplot(x=mali.index, y=mali[\"GE.EST\"], hue=mali['protestnumber'])"
   ]
  },
  {
   "cell_type": "code",
   "execution_count": null,
   "id": "fbea614a-d5a3-49ca-a3f5-12eb789e7b29",
   "metadata": {},
   "outputs": [],
   "source": []
  }
 ],
 "metadata": {
  "kernelspec": {
   "display_name": "Python 3",
   "language": "python",
   "name": "python3"
  },
  "language_info": {
   "codemirror_mode": {
    "name": "ipython",
    "version": 3
   },
   "file_extension": ".py",
   "mimetype": "text/x-python",
   "name": "python",
   "nbconvert_exporter": "python",
   "pygments_lexer": "ipython3",
   "version": "3.8.8"
  }
 },
 "nbformat": 4,
 "nbformat_minor": 5
}
