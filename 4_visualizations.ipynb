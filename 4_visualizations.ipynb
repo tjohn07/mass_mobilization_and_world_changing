{
 "cells": [
  {
   "cell_type": "code",
   "execution_count": 64,
   "id": "546868ef",
   "metadata": {},
   "outputs": [],
   "source": [
    "import pandas as pd\n",
    "import numpy as np\n",
    "import matplotlib.pyplot as plt\n",
    "import seaborn as sns\n",
    "import plotly\n",
    "import dash\n",
    "import plotly.graph_objs as go"
   ]
  },
  {
   "cell_type": "code",
   "execution_count": 65,
   "id": "62c66d0e",
   "metadata": {},
   "outputs": [],
   "source": [
    "df = pd.read_csv('./data/transformed/mm_wgi_fiw.csv')"
   ]
  },
  {
   "cell_type": "code",
   "execution_count": 66,
   "id": "37d7e463-a092-45b4-8e6c-9589f0d50a87",
   "metadata": {},
   "outputs": [],
   "source": [
    "cc = pd.read_csv('./data/raw/country-codes_csv.csv')"
   ]
  },
  {
   "cell_type": "code",
   "execution_count": 67,
   "id": "a73743fe-9a8e-45d5-8559-3ac42acca03b",
   "metadata": {},
   "outputs": [],
   "source": [
    "#updated country names to match format needed for plotly\n",
    "\n",
    "plotly_countries = cc['UNTERM English Short'].unique()"
   ]
  },
  {
   "cell_type": "code",
   "execution_count": 68,
   "id": "81e93bde-9024-402e-b3b3-4ce8a38d97e8",
   "metadata": {},
   "outputs": [],
   "source": [
    "df_countries = df['country_name'].unique()"
   ]
  },
  {
   "cell_type": "code",
   "execution_count": 69,
   "id": "21b5d41c-4d3b-4238-88a2-dc3cf9609cee",
   "metadata": {},
   "outputs": [
    {
     "ename": "SyntaxError",
     "evalue": "invalid syntax (<ipython-input-69-9a41721ffc97>, line 8)",
     "output_type": "error",
     "traceback": [
      "\u001b[0;36m  File \u001b[0;32m\"<ipython-input-69-9a41721ffc97>\"\u001b[0;36m, line \u001b[0;32m8\u001b[0m\n\u001b[0;31m    'Kosovo':\u001b[0m\n\u001b[0m            ^\u001b[0m\n\u001b[0;31mSyntaxError\u001b[0m\u001b[0;31m:\u001b[0m invalid syntax\n"
     ]
    }
   ],
   "source": [
    "{'Dominican Republic': 'Dominican Republic (the)',\n",
    "'Venezuela': 'Venezuela (Bolivarian Republic of)',\n",
    "'Bolivia': 'Bolivia (Plurinational State of)',\n",
    "'United Kingdom': 'United Kingdom of Great Britain and Northern Ireland (the)',\n",
    "'Netherlands': 'Netherlands (the)', \n",
    "'Czech Republic': 'Czech Republic (the)',\n",
    "'Slovak Republic': 'Slovakia'\n",
    "'Kosovo': \n",
    "'North Macedonia': 'the former Yugoslav Republic of Macedonia', \n",
    "'Moldova': 'Republic of Moldova (the)',\n",
    "'Russian Federation': 'Russian Federation (the)',\n",
    "'Gambia, The': 'Gambia (the)',\n",
    "'Niger': 'Niger (the)',\n",
    "\"Cote d'Ivoire\": \"Côte d'Ivoire\",\n",
    "'Central African Republic': 'Central African Republic (the)',\n",
    "'Congo, Rep.': 'Congo (the)',\n",
    "'Congo, Dem. Rep.': 'Democratic Republic of the Congo (the)',\n",
    "'Tanzania':'United Republic of Tanzania (the)',\n",
    "'Comoros': 'Comoros (the)', \n",
    "'Sudan': 'Sudan (the)',\n",
    "'Iran': 'Iran (Islamic Republic of)', \n",
    "'Syria': 'Syrian Arab Republic', \n",
    "'United Arab Emirates': 'United Arab Emirates (the)',\n",
    "'North Korea': \"Democratic People's Republic of Korea (the)\",\n",
    "'South Korea': 'Republic of Korea (the)',\n",
    "'Vietnam': 'Viet Nam',\n",
    "'Philippines': 'Philippines (the)',\n",
    "'': 'United States of America (the)'}"
   ]
  },
  {
   "cell_type": "code",
   "execution_count": 70,
   "id": "32ab12d5-d1df-4ac5-a807-1e0aad34530f",
   "metadata": {
    "tags": []
   },
   "outputs": [
    {
     "name": "stdout",
     "output_type": "stream",
     "text": [
      "Kosovo\n",
      "Taiwan\n"
     ]
    }
   ],
   "source": [
    "for country in df_countries:\n",
    "    if country not in plotly_countries:\n",
    "        print(country)"
   ]
  },
  {
   "cell_type": "code",
   "execution_count": 71,
   "id": "24acf1d5",
   "metadata": {},
   "outputs": [
    {
     "name": "stderr",
     "output_type": "stream",
     "text": [
      "/Users/TJohn/opt/anaconda3/lib/python3.8/site-packages/seaborn/_decorators.py:36: FutureWarning:\n",
      "\n",
      "Pass the following variables as keyword args: x, y. From version 0.12, the only valid positional argument will be `data`, and passing other arguments without an explicit keyword will result in an error or misinterpretation.\n",
      "\n"
     ]
    },
    {
     "data": {
      "text/plain": [
       "<AxesSubplot:xlabel='start_date', ylabel='CC.EST'>"
      ]
     },
     "execution_count": 71,
     "metadata": {},
     "output_type": "execute_result"
    },
    {
     "data": {
      "image/png": "[encoded data removed]",
      "text/plain": [
       "<Figure size 864x576 with 1 Axes>"
      ]
     },
     "metadata": {
      "needs_background": "light"
     },
     "output_type": "display_data"
    }
   ],
   "source": [
    "plt.figure(figsize=(12,8))\n",
    "sns.scatterplot(df['start_date'], df[df['country_name']=='Canada']['CC.EST'], hue=df['stateresponse1'])"
   ]
  },
  {
   "cell_type": "code",
   "execution_count": 82,
   "id": "89d29394",
   "metadata": {},
   "outputs": [],
   "source": [
    "df_2006 = df[df['year'] == 2020]"
   ]
  },
  {
   "cell_type": "code",
   "execution_count": 87,
   "id": "f9ba228a-71b9-4d86-a7e7-ed11591161bd",
   "metadata": {},
   "outputs": [
    {
     "data": {
      "text/plain": [
       "array(['Canada', 'Cuba', 'Haiti', 'Dominican Republic (the)', 'Jamaica',\n",
       "       'Mexico', 'Guatemala', 'Honduras', 'El Salvador', 'Nicaragua',\n",
       "       'Costa Rica', 'Panama', 'Colombia',\n",
       "       'Venezuela (Bolivarian Republic of)', 'Guyana', 'Suriname',\n",
       "       'Ecuador', 'Peru', 'Brazil', 'Bolivia (Plurinational State of)',\n",
       "       'Paraguay', 'Chile', 'Argentina', 'Uruguay',\n",
       "       'United Kingdom of Great Britain and Northern Ireland (the)',\n",
       "       'Ireland', 'Netherlands (the)', 'Belgium', 'France', 'Switzerland',\n",
       "       'Spain', 'Portugal', 'Germany', 'Poland', 'Austria', 'Hungary',\n",
       "       'Czech Republic (the)', 'Slovakia', 'Italy', 'Albania', 'Kosovo',\n",
       "       'Serbia', 'the former Yugoslav Republic of Macedonia', 'Croatia',\n",
       "       'Bosnia and Herzegovina', 'Montenegro', 'Slovenia', 'Greece',\n",
       "       'Cyprus', 'Bulgaria', 'Republic of Moldova (the)', 'Romania',\n",
       "       'Russian Federation (the)', 'Estonia', 'Latvia', 'Lithuania',\n",
       "       'Ukraine', 'Belarus', 'Armenia', 'Georgia', 'Azerbaijan',\n",
       "       'Finland', 'Sweden', 'Norway', 'Denmark', 'Guinea-Bissau',\n",
       "       'Equatorial Guinea', 'Gambia (the)', 'Mali', 'Senegal', 'Benin',\n",
       "       'Mauritania', 'Niger (the)', \"Côte d'Ivoire\", 'Guinea',\n",
       "       'Burkina Faso', 'Liberia', 'Sierra Leone', 'Ghana', 'Togo',\n",
       "       'Cameroon', 'Nigeria', 'Gabon', 'Central African Republic (the)',\n",
       "       'Chad', 'Congo (the)', 'Democratic Republic of the Congo (the)',\n",
       "       'Uganda', 'Kenya', 'United Republic of Tanzania (the)', 'Burundi',\n",
       "       'Rwanda', 'Somalia', 'Djibouti', 'South Sudan', 'Ethiopia',\n",
       "       'Eritrea', 'Angola', 'Mozambique', 'Zambia', 'Zimbabwe', 'Malawi',\n",
       "       'South Africa', 'Namibia', 'Lesotho', 'Botswana', 'Madagascar',\n",
       "       'Comoros (the)', 'Mauritius', 'Morocco', 'Algeria', 'Tunisia',\n",
       "       'Libya', 'Sudan (the)', 'Iran (Islamic Republic of)', 'Turkey',\n",
       "       'Iraq', 'Egypt', 'Syrian Arab Republic', 'Lebanon', 'Jordan',\n",
       "       'Saudi Arabia', 'Yemen', 'Kuwait', 'Bahrain',\n",
       "       'United Arab Emirates (the)', 'Oman', 'Afghanistan',\n",
       "       'Turkmenistan', 'Tajikistan', 'Kyrgyzstan', 'Uzbekistan',\n",
       "       'Kazakhstan', 'China', 'Mongolia', 'Taiwan',\n",
       "       \"Democratic People's Republic of Korea (the)\",\n",
       "       'Republic of Korea (the)', 'Japan', 'India', 'Pakistan',\n",
       "       'Bangladesh', 'Myanmar', 'Sri Lanka', 'Nepal', 'Thailand',\n",
       "       'Cambodia', 'Viet Nam', 'Malaysia', 'Singapore',\n",
       "       'Philippines (the)', 'Indonesia', 'Timor-Leste',\n",
       "       'Papua New Guinea'], dtype=object)"
      ]
     },
     "execution_count": 87,
     "metadata": {},
     "output_type": "execute_result"
    }
   ],
   "source": [
    "df['country_name'].unique()\n"
   ]
  },
  {
   "cell_type": "code",
   "execution_count": null,
   "id": "90092b1f-2a79-40aa-8dfc-61b2a05d9c53",
   "metadata": {},
   "outputs": [],
   "source": []
  },
  {
   "cell_type": "code",
   "execution_count": 84,
   "id": "1db922a7",
   "metadata": {},
   "outputs": [],
   "source": [
    "data = {\n",
    "    'type' : 'choropleth',\n",
    "    'locations' : df['country_name'],\n",
    "    'locationmode':'country names',\n",
    "    'colorscale' : 'viridis',\n",
    "    'z':df['CC.EST']}"
   ]
  },
  {
   "cell_type": "code",
   "execution_count": 85,
   "id": "9133a6dd",
   "metadata": {},
   "outputs": [
    {
     "data": {
      "text/plain": [
       "'temp-plot.html'"
      ]
     },
     "execution_count": 85,
     "metadata": {},
     "output_type": "execute_result"
    }
   ],
   "source": [
    "map = go.Figure(data=[data])\n",
    "plotly.offline.plot(map)"
   ]
  },
  {
   "cell_type": "code",
   "execution_count": null,
   "id": "2268dfe5",
   "metadata": {},
   "outputs": [],
   "source": []
  }
 ],
 "metadata": {
  "kernelspec": {
   "display_name": "Python 3",
   "language": "python",
   "name": "python3"
  },
  "language_info": {
   "codemirror_mode": {
    "name": "ipython",
    "version": 3
   },
   "file_extension": ".py",
   "mimetype": "text/x-python",
   "name": "python",
   "nbconvert_exporter": "python",
   "pygments_lexer": "ipython3",
   "version": "3.8.8"
  }
 },
 "nbformat": 4,
 "nbformat_minor": 5
}
