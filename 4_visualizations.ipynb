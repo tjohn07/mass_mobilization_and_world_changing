{
 "cells": [
  {
   "cell_type": "code",
   "execution_count": 22,
   "id": "546868ef",
   "metadata": {},
   "outputs": [],
   "source": [
    "import pandas as pd\n",
    "import numpy as np\n",
    "import matplotlib.pyplot as plt\n",
    "import seaborn as sns\n",
    "import plotly\n",
    "import dash\n",
    "import plotly.graph_objs as go"
   ]
  },
  {
   "cell_type": "code",
   "execution_count": 3,
   "id": "62c66d0e",
   "metadata": {},
   "outputs": [],
   "source": [
    "df = pd.read_csv('./data/transformed/mm_wgi_pe.csv')"
   ]
  },
  {
   "cell_type": "code",
   "execution_count": 7,
   "id": "78fae84e",
   "metadata": {},
   "outputs": [
    {
     "data": {
      "text/html": [
       "<div>\n",
       "<style scoped>\n",
       "    .dataframe tbody tr th:only-of-type {\n",
       "        vertical-align: middle;\n",
       "    }\n",
       "\n",
       "    .dataframe tbody tr th {\n",
       "        vertical-align: top;\n",
       "    }\n",
       "\n",
       "    .dataframe thead th {\n",
       "        text-align: right;\n",
       "    }\n",
       "</style>\n",
       "<table border=\"1\" class=\"dataframe\">\n",
       "  <thead>\n",
       "    <tr style=\"text-align: right;\">\n",
       "      <th></th>\n",
       "      <th>country_name</th>\n",
       "      <th>year</th>\n",
       "      <th>region</th>\n",
       "      <th>protestnumber</th>\n",
       "      <th>protesterviolence</th>\n",
       "      <th>participants_category</th>\n",
       "      <th>stateresponse1</th>\n",
       "      <th>start_date</th>\n",
       "      <th>end_date</th>\n",
       "      <th>duration</th>\n",
       "      <th>...</th>\n",
       "      <th>removal of politician</th>\n",
       "      <th>social restrictions</th>\n",
       "      <th>CC.EST</th>\n",
       "      <th>GE.EST</th>\n",
       "      <th>PV.NO.SRC</th>\n",
       "      <th>RL.EST</th>\n",
       "      <th>VA.EST</th>\n",
       "      <th>SI.DST.05TH.20</th>\n",
       "      <th>SI.POV.GINI</th>\n",
       "      <th>SP.POP.TOTL</th>\n",
       "    </tr>\n",
       "  </thead>\n",
       "  <tbody>\n",
       "    <tr>\n",
       "      <th>0</th>\n",
       "      <td>Canada</td>\n",
       "      <td>2006</td>\n",
       "      <td>North America</td>\n",
       "      <td>1</td>\n",
       "      <td>1</td>\n",
       "      <td>3</td>\n",
       "      <td>3</td>\n",
       "      <td>2006-02-21</td>\n",
       "      <td>2006-08-17</td>\n",
       "      <td>178 days</td>\n",
       "      <td>...</td>\n",
       "      <td>0</td>\n",
       "      <td>0</td>\n",
       "      <td>1.962554</td>\n",
       "      <td>1.895545</td>\n",
       "      <td>8.0</td>\n",
       "      <td>1.814535</td>\n",
       "      <td>1.415595</td>\n",
       "      <td>NaN</td>\n",
       "      <td>NaN</td>\n",
       "      <td>32571174.0</td>\n",
       "    </tr>\n",
       "    <tr>\n",
       "      <th>1</th>\n",
       "      <td>Canada</td>\n",
       "      <td>2007</td>\n",
       "      <td>North America</td>\n",
       "      <td>1</td>\n",
       "      <td>0</td>\n",
       "      <td>5</td>\n",
       "      <td>4</td>\n",
       "      <td>2007-06-29</td>\n",
       "      <td>2007-06-29</td>\n",
       "      <td>1 days</td>\n",
       "      <td>...</td>\n",
       "      <td>0</td>\n",
       "      <td>0</td>\n",
       "      <td>2.000900</td>\n",
       "      <td>1.761394</td>\n",
       "      <td>8.0</td>\n",
       "      <td>1.814706</td>\n",
       "      <td>1.384672</td>\n",
       "      <td>41.2</td>\n",
       "      <td>33.8</td>\n",
       "      <td>32889025.0</td>\n",
       "    </tr>\n",
       "    <tr>\n",
       "      <th>2</th>\n",
       "      <td>Canada</td>\n",
       "      <td>2008</td>\n",
       "      <td>North America</td>\n",
       "      <td>1</td>\n",
       "      <td>1</td>\n",
       "      <td>3</td>\n",
       "      <td>3</td>\n",
       "      <td>2008-08-10</td>\n",
       "      <td>2008-08-10</td>\n",
       "      <td>1 days</td>\n",
       "      <td>...</td>\n",
       "      <td>0</td>\n",
       "      <td>0</td>\n",
       "      <td>2.002689</td>\n",
       "      <td>1.791681</td>\n",
       "      <td>8.0</td>\n",
       "      <td>1.808290</td>\n",
       "      <td>1.407529</td>\n",
       "      <td>NaN</td>\n",
       "      <td>NaN</td>\n",
       "      <td>33247118.0</td>\n",
       "    </tr>\n",
       "    <tr>\n",
       "      <th>3</th>\n",
       "      <td>Canada</td>\n",
       "      <td>2009</td>\n",
       "      <td>North America</td>\n",
       "      <td>1</td>\n",
       "      <td>0</td>\n",
       "      <td>7</td>\n",
       "      <td>4</td>\n",
       "      <td>2009-05-13</td>\n",
       "      <td>2009-05-13</td>\n",
       "      <td>1 days</td>\n",
       "      <td>...</td>\n",
       "      <td>0</td>\n",
       "      <td>0</td>\n",
       "      <td>2.061789</td>\n",
       "      <td>1.745890</td>\n",
       "      <td>8.0</td>\n",
       "      <td>1.804082</td>\n",
       "      <td>1.401846</td>\n",
       "      <td>NaN</td>\n",
       "      <td>NaN</td>\n",
       "      <td>33628895.0</td>\n",
       "    </tr>\n",
       "    <tr>\n",
       "      <th>4</th>\n",
       "      <td>Canada</td>\n",
       "      <td>2009</td>\n",
       "      <td>North America</td>\n",
       "      <td>2</td>\n",
       "      <td>1</td>\n",
       "      <td>3</td>\n",
       "      <td>1</td>\n",
       "      <td>2009-11-10</td>\n",
       "      <td>2009-11-10</td>\n",
       "      <td>1 days</td>\n",
       "      <td>...</td>\n",
       "      <td>0</td>\n",
       "      <td>0</td>\n",
       "      <td>2.061789</td>\n",
       "      <td>1.745890</td>\n",
       "      <td>8.0</td>\n",
       "      <td>1.804082</td>\n",
       "      <td>1.401846</td>\n",
       "      <td>NaN</td>\n",
       "      <td>NaN</td>\n",
       "      <td>33628895.0</td>\n",
       "    </tr>\n",
       "  </tbody>\n",
       "</table>\n",
       "<p>5 rows × 25 columns</p>\n",
       "</div>"
      ],
      "text/plain": [
       "  country_name  year         region  protestnumber  protesterviolence  \\\n",
       "0       Canada  2006  North America              1                  1   \n",
       "1       Canada  2007  North America              1                  0   \n",
       "2       Canada  2008  North America              1                  1   \n",
       "3       Canada  2009  North America              1                  0   \n",
       "4       Canada  2009  North America              2                  1   \n",
       "\n",
       "   participants_category  stateresponse1  start_date    end_date  duration  \\\n",
       "0                      3               3  2006-02-21  2006-08-17  178 days   \n",
       "1                      5               4  2007-06-29  2007-06-29    1 days   \n",
       "2                      3               3  2008-08-10  2008-08-10    1 days   \n",
       "3                      7               4  2009-05-13  2009-05-13    1 days   \n",
       "4                      3               1  2009-11-10  2009-11-10    1 days   \n",
       "\n",
       "   ...  removal of politician  social restrictions    CC.EST    GE.EST  \\\n",
       "0  ...                      0                    0  1.962554  1.895545   \n",
       "1  ...                      0                    0  2.000900  1.761394   \n",
       "2  ...                      0                    0  2.002689  1.791681   \n",
       "3  ...                      0                    0  2.061789  1.745890   \n",
       "4  ...                      0                    0  2.061789  1.745890   \n",
       "\n",
       "   PV.NO.SRC    RL.EST    VA.EST  SI.DST.05TH.20  SI.POV.GINI  SP.POP.TOTL  \n",
       "0        8.0  1.814535  1.415595             NaN          NaN   32571174.0  \n",
       "1        8.0  1.814706  1.384672            41.2         33.8   32889025.0  \n",
       "2        8.0  1.808290  1.407529             NaN          NaN   33247118.0  \n",
       "3        8.0  1.804082  1.401846             NaN          NaN   33628895.0  \n",
       "4        8.0  1.804082  1.401846             NaN          NaN   33628895.0  \n",
       "\n",
       "[5 rows x 25 columns]"
      ]
     },
     "execution_count": 7,
     "metadata": {},
     "output_type": "execute_result"
    }
   ],
   "source": [
    "df.head()"
   ]
  },
  {
   "cell_type": "code",
   "execution_count": 12,
   "id": "24acf1d5",
   "metadata": {},
   "outputs": [
    {
     "name": "stderr",
     "output_type": "stream",
     "text": [
      "/Users/TJohn/opt/anaconda3/lib/python3.8/site-packages/seaborn/_decorators.py:36: FutureWarning: Pass the following variables as keyword args: x, y. From version 0.12, the only valid positional argument will be `data`, and passing other arguments without an explicit keyword will result in an error or misinterpretation.\n",
      "  warnings.warn(\n"
     ]
    },
    {
     "data": {
      "text/plain": [
       "<AxesSubplot:xlabel='start_date', ylabel='CC.EST'>"
      ]
     },
     "execution_count": 12,
     "metadata": {},
     "output_type": "execute_result"
    },
    {
     "data": {
      "image/png": "[encoded data removed]",
      "text/plain": [
       "<Figure size 864x576 with 1 Axes>"
      ]
     },
     "metadata": {
      "needs_background": "light"
     },
     "output_type": "display_data"
    }
   ],
   "source": [
    "plt.figure(figsize=(12,8))\n",
    "sns.scatterplot(df['start_date'], df[df['country_name']=='Canada']['CC.EST'], hue=df['stateresponse1'])"
   ]
  },
  {
   "cell_type": "code",
   "execution_count": 49,
   "id": "71088e9d",
   "metadata": {},
   "outputs": [
    {
     "data": {
      "text/plain": [
       "array(['Canada', 'Haiti', 'Jamaica', 'Mexico', 'Guatemala', 'Honduras',\n",
       "       'El Salvador', 'Nicaragua', 'Panama', 'Colombia', 'Venezuela',\n",
       "       'Guyana', 'Ecuador', 'Peru', 'Brazil', 'Bolivia', 'Paraguay',\n",
       "       'Chile', 'Argentina', 'Uruguay', 'United Kingdom', 'Ireland',\n",
       "       'France', 'Germany', 'Hungary', 'Italy', 'North Macedonia',\n",
       "       'Slovenia', 'Greece', 'Moldova', 'Romania', 'Russian Federation',\n",
       "       'Estonia', 'Belarus', 'Armenia', 'Azerbaijan', 'Benin', 'Niger',\n",
       "       \"Cote d'Ivoire\", 'Guinea', 'Burkina Faso', 'Liberia',\n",
       "       'Sierra Leone', 'Togo', 'Nigeria', 'Gabon',\n",
       "       'Central African Republic', 'Congo, Dem. Rep.', 'Kenya',\n",
       "       'Ethiopia', 'Angola', 'Zambia', 'Zimbabwe', 'Malawi',\n",
       "       'South Africa', 'Namibia', 'Botswana', 'Eswatini', 'Madagascar',\n",
       "       'Comoros', 'Mauritius', 'Iran', 'Turkey', 'Iraq', 'Egypt',\n",
       "       'Lebanon', 'United Arab Emirates', 'Kyrgyzstan', 'Uzbekistan',\n",
       "       'Kazakhstan', 'China', 'Mongolia', 'South Korea', 'Japan', 'India',\n",
       "       'Pakistan', 'Bangladesh', 'Nepal', 'Thailand', 'Cambodia',\n",
       "       'Malaysia', 'Philippines', 'Indonesia', 'Timor-Leste'],\n",
       "      dtype=object)"
      ]
     },
     "execution_count": 49,
     "metadata": {},
     "output_type": "execute_result"
    }
   ],
   "source": [
    "df_2006['country_name'].unique()"
   ]
  },
  {
   "cell_type": "code",
   "execution_count": 41,
   "id": "89d29394",
   "metadata": {},
   "outputs": [],
   "source": [
    "df_2006 = df[df['year'] == 2006]"
   ]
  },
  {
   "cell_type": "code",
   "execution_count": 47,
   "id": "1db922a7",
   "metadata": {},
   "outputs": [],
   "source": [
    "data = {\n",
    "    'type' : 'choropleth',\n",
    "    'locations' : df_2006['country_name'],\n",
    "    'locationmode':'country names',\n",
    "    'colorscale' : 'viridis',\n",
    "    'z':df_2006['GE.EST']}"
   ]
  },
  {
   "cell_type": "code",
   "execution_count": 48,
   "id": "9133a6dd",
   "metadata": {},
   "outputs": [
    {
     "data": {
      "text/plain": [
       "'temp-plot.html'"
      ]
     },
     "execution_count": 48,
     "metadata": {},
     "output_type": "execute_result"
    }
   ],
   "source": [
    "map = go.Figure(data=[data])\n",
    "plotly.offline.plot(map)"
   ]
  },
  {
   "cell_type": "code",
   "execution_count": null,
   "id": "2268dfe5",
   "metadata": {},
   "outputs": [],
   "source": []
  }
 ],
 "metadata": {
  "kernelspec": {
   "display_name": "Python 3",
   "language": "python",
   "name": "python3"
  },
  "language_info": {
   "codemirror_mode": {
    "name": "ipython",
    "version": 3
   },
   "file_extension": ".py",
   "mimetype": "text/x-python",
   "name": "python",
   "nbconvert_exporter": "python",
   "pygments_lexer": "ipython3",
   "version": "3.8.8"
  }
 },
 "nbformat": 4,
 "nbformat_minor": 5
}
